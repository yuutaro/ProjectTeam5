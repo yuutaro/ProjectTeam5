{
  "cells": [
    {
      "cell_type": "markdown",
      "source": [
        "## Homework6\n",
        "\n",
        "データベース (data.sqlite3) に含まれる時系列データより、`goods_genre_id` ごとに `price` の平均値を算出してください。  \n",
        "時系列データには `goods_genre_id` の情報は含まれていないので、複数のテーブルを組み合わせて処理する必要があります。  "
      ],
      "metadata": {
        "id": "jrnC3ryjHV7l"
      }
    },
    {
      "cell_type": "markdown",
      "metadata": {
        "id": "1cb2BshH6S5f"
      },
      "source": [
        "### データ一覧\n",
        "今回与えられるデータは data.sqlite3 という sqlite3 形式のデータベースファイルです。  \n",
        "以下の 2 つのテーブルが含まれています。\n",
        "\n",
        "* data ... 時系列データ\n",
        "* goods ... 商品に関する補足情報\n",
        "\n",
        "### カラム情報一覧\n",
        "テーブルに含まれるカラムの情報は、以下の通りです。\n",
        "\n",
        "* index ... (店舗, 商品) の各組み合わせに対して割り振られるID\n",
        "* store_id ... 店舗ID\n",
        "* goods_id ... 商品ID\n",
        "* goods_genre_id ... 商品カテゴリID\n",
        "* units_sold_day ... 商品の一日の売り上げ個数\n",
        "* units_sold_month ... 商品のひと月の売り上げ個数\n",
        "* price ... 商品の現在の値段\n",
        "* yy-mm-dd ... 日付 (yy/mm/dd形式)\n",
        "* num_month ... 各月にわりふられた値 (平成25年1月=1, 平成25年2月=2,...,平成27年9月=33)\n",
        "* goods_name ... 商品名\n",
        "* store_name ... 店舗名\n",
        "* goods_genre_name ... 商品カテゴリ名\n",
        "\n",
        "### 提出/採点\n",
        "提出するときは、以下の点に注意してください。\n",
        "\n",
        "- 回答は、下記のコードを実行することで出力されるcsvファイルを、Omnicampus上で提出してください。\n",
        "- 下記のコードの`!!WRITE ME!!`にクエリを書いて課題の処理を行ってください。  \n",
        " 「`!!WRITE ME!!`」は消して、記入してください。また，クエリは一つであるとは限りません。  \n",
        "- 下記のコードの処理内容やsqlite3ライブラリの利用については、補足資料「csv_from_database.ipynb」「csv_from_database.pdf」を参考ください。\n",
        "- 提出するデータの形式は、以下のような**csvファイル**であることを確認してください。  \n",
        "\n",
        "goods_genre_id|avg_price\n",
        "---|---\n",
        "1|25000\n",
        "3|26500\n",
        "4|25000\n",
        "…|…\n",
        "196|20000\n",
        "200|27000"
      ]
    },
    {
      "cell_type": "code",
      "source": [
        "import sqlite3\n",
        "import csv\n",
        "\n",
        "# ドライブのマウント\n",
        "# Google Colaboratoryで作業する場合に実行してください。\n",
        "from google.colab import drive\n",
        "drive.mount('/content/drive')\n",
        "\n",
        "# データベースファイルのパス\n",
        "dbpath = '/content/drive/--/--/data.sqlite3'\n",
        "\n",
        "# データベース接続\n",
        "conn = sqlite3.connect(dbpath)\n",
        "cur = conn.cursor()"
      ],
      "metadata": {
        "id": "cIXbkz3wPymo"
      },
      "execution_count": null,
      "outputs": []
    },
    {
      "cell_type": "code",
      "source": [
        "# ここにクエリを書いてください。\n",
        "# 例：cur.execute('SELECT * FROM data')\n",
        "cur.execute('!!WRITE ME!!')\n",
        "cur.execute('!!WRITE ME!!')"
      ],
      "metadata": {
        "id": "kL-FZKWsQD9i"
      },
      "execution_count": null,
      "outputs": []
    },
    {
      "cell_type": "code",
      "source": [
        "# 処理結果をcsv出力\n",
        "with open('submission.csv', 'w', newline='') as csvfile:\n",
        "  csv_writer = csv.writer(csvfile)\n",
        "  csv_writer.writerow([i[0] for i in cur.description])\n",
        "  csv_writer.writerows(cur)\n",
        "\n",
        "# 処理の確定\n",
        "conn.commit()\n",
        "\n",
        "# カーソルを閉じる\n",
        "cur.close()\n",
        "\n",
        "# 接続を閉じる\n",
        "conn.close"
      ],
      "metadata": {
        "id": "MJQ9QeNQP1aQ"
      },
      "execution_count": null,
      "outputs": []
    }
  ],
  "metadata": {
    "colab": {
      "provenance": []
    },
    "interpreter": {
      "hash": "31f2aee4e71d21fbe5cf8b01ff0e069b9275f58929596ceb00d14d90e3e16cd6"
    },
    "kernelspec": {
      "display_name": "Python 3.8.10 64-bit",
      "language": "python",
      "name": "python3"
    },
    "language_info": {
      "codemirror_mode": {
        "name": "ipython",
        "version": 3
      },
      "file_extension": ".py",
      "mimetype": "text/x-python",
      "name": "python",
      "nbconvert_exporter": "python",
      "pygments_lexer": "ipython3",
      "version": "3.8.2"
    },
    "orig_nbformat": 4
  },
  "nbformat": 4,
  "nbformat_minor": 0
}