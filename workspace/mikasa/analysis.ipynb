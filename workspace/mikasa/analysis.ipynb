{
 "cells": [
  {
   "cell_type": "markdown",
   "metadata": {},
   "source": [
    "| Column Name             | Data Type | Description                                              | null |\n",
    "|-------------------------|-----------|----------------------------------------------------------|---|\n",
    "| Code                    | int64     | レースの識別番号                                         |0|\n",
    "| Rank                    | int64     | レースにおける順位                                       |0|\n",
    "| Frame Rank              | int64     | フレーム内での順位                                       |0|\n",
    "| Horse Number            | int64     | 馬の番号                                                 |0|\n",
    "| Horse Name              | object    | 馬の名前                                                 |0|\n",
    "| Kinryou                 | float64   | 馬の斤量（体重）                                       |0|\n",
    "| Jockey                  | object    | ジョッキーの名前                                         |0|\n",
    "| Time                    | float64   | レースの所要時間（秒数）                                |0|\n",
    "| Chakusa                 | object    | 着順（フォーマットによる）                               |904084|\n",
    "| Nobori                  | float64   | 上昇度（成績の向上を示す指標）                         |2021595|\n",
    "| Tansyou                 | float64   | 単勝オッズ                                               |1659530|\n",
    "| Ninki                   | float64   | 人気（馬の人気度）                                      |46|\n",
    "| Horse Weight            | float64   | 馬の体重（斤量）                                       |3547|\n",
    "| Trainer                 | object    | トレーナーの名前                                        |0|\n",
    "| Banushi                 | object    | 馬主の名前                                              |96709|\n",
    "| Shoukin                 | object    | 賞金                                                    |3167645|\n",
    "| Date                    | object    | レース日（通常は文字列形式）                            |0|\n",
    "| Track                   | object    | トラックの種類                                          |0|\n",
    "| Weather                 | object    | 天候                                                    |0|\n",
    "| Race Number             | int64     | レースの番号                                            |0|\n",
    "| Distance                | int64     | レースの距離（メートル単位）                            |0|\n",
    "| Condition               | object    | トラックコンディション                                   |387819|\n",
    "| Disqualification        | int64     | 失格の有無（失格の場合は1、そうでなければ0）           |0|\n",
    "| Sex                     | int64     | 馬の性別（数値で表現）                                  |0|\n",
    "| Age                     | int64     | 馬の年齢（数値で表現）                                  |0|\n",
    "| Track Type              | object    | トラックのタイプ                                        |0|\n",
    "| intermediate_rank_1     | float64   | 中間順位1                                               |1072605|\n",
    "| intermediate_rank_2     | float64   | 中間順位2                                               |1116477|\n",
    "| intermediate_rank_3     | float64   | 中間順位3                                               |2367017|\n",
    "| intermediate_rank_4     | float64   | 中間順位4                                               |3182497|\n",
    "| Horse Weight Change      | int64     | 馬の体重の変化（斤量の増減）                           |0|\n",
    "| Trainers Stable         | object    | トレーナーの厩舎名                                      |0|\n",
    "\n",
    "5886227行"
   ]
  },
  {
   "cell_type": "code",
   "execution_count": 9,
   "metadata": {},
   "outputs": [],
   "source": [
    "import tensorflow_probability as tfp\n",
    "import tensorflow as tf"
   ]
  },
  {
   "cell_type": "code",
   "execution_count": 10,
   "metadata": {},
   "outputs": [],
   "source": [
    "import pandas as pd\n",
    "merged_table = pd.read_csv('./data/merged_table_finished2.csv')"
   ]
  },
  {
   "cell_type": "code",
   "execution_count": 11,
   "metadata": {},
   "outputs": [],
   "source": [
    "# Chakusa, Nobori, Tansyou, Banushi, Shoukin, intermediate_rank_1, intermediate_rank_2, intermediate_rank_3, intermediate_rank_4の空カラムは削除\n",
    "merged_table = merged_table.drop(['Chakusa', 'Nobori', 'Tansyou', 'Banushi', 'Shoukin', 'intermediate_rank_1', 'intermediate_rank_2', 'intermediate_rank_3', 'intermediate_rank_4'], axis=1)\n",
    "\n",
    "# Ninki, Horse Weightカラムの欠損行を削除\n",
    "merged_table = merged_table.dropna(subset=['Ninki', 'Horse Weight'])\n",
    "\n",
    "# Conditionのnullは0に変換\n",
    "merged_table['Condition'] = merged_table['Condition'].fillna(0)"
   ]
  },
  {
   "cell_type": "code",
   "execution_count": null,
   "metadata": {},
   "outputs": [],
   "source": [
    "# 全列表示\n",
    "pd.set_option('display.max_columns', None)\n",
    "merged_table.head()"
   ]
  },
  {
   "cell_type": "code",
   "execution_count": null,
   "metadata": {},
   "outputs": [],
   "source": [
    "# str型のカテゴリカルデータを数値に変換\n",
    "# 1. Track\n",
    "# 札幌|函館|福島|新潟|東京|中山|中京|京都|阪神|小倉|門別|盛岡|水沢|浦和|船橋|大井|川崎|金沢|笠松|名古屋|園田|姫路|高知|佐賀|帯広\n",
    "# 0...24\n",
    "\n",
    "merged_table['Track'] = merged_table['Track'].replace('札幌', 0)\n",
    "merged_table['Track'] = merged_table['Track'].replace('函館', 1)\n",
    "merged_table['Track'] = merged_table['Track'].replace('福島', 2)\n",
    "merged_table['Track'] = merged_table['Track'].replace('新潟', 3)\n",
    "merged_table['Track'] = merged_table['Track'].replace('東京', 4)\n",
    "merged_table['Track'] = merged_table['Track'].replace('中山', 5)\n",
    "merged_table['Track'] = merged_table['Track'].replace('中京', 6)\n",
    "merged_table['Track'] = merged_table['Track'].replace('京都', 7)\n",
    "merged_table['Track'] = merged_table['Track'].replace('阪神', 8)\n",
    "merged_table['Track'] = merged_table['Track'].replace('小倉', 9)\n",
    "merged_table['Track'] = merged_table['Track'].replace('門別', 10)\n",
    "merged_table['Track'] = merged_table['Track'].replace('盛岡', 11)\n",
    "merged_table['Track'] = merged_table['Track'].replace('水沢', 12)\n",
    "merged_table['Track'] = merged_table['Track'].replace('浦和', 13)\n",
    "merged_table['Track'] = merged_table['Track'].replace('船橋', 14)\n",
    "merged_table['Track'] = merged_table['Track'].replace('大井', 15)\n",
    "merged_table['Track'] = merged_table['Track'].replace('川崎', 16)\n",
    "merged_table['Track'] = merged_table['Track'].replace('金沢', 17)\n",
    "merged_table['Track'] = merged_table['Track'].replace('笠松', 18)\n",
    "merged_table['Track'] = merged_table['Track'].replace('名古屋', 19)\n",
    "merged_table['Track'] = merged_table['Track'].replace('園田', 20)\n",
    "merged_table['Track'] = merged_table['Track'].replace('姫路', 21)\n",
    "merged_table['Track'] = merged_table['Track'].replace('高知', 22)\n",
    "merged_table['Track'] = merged_table['Track'].replace('佐賀', 23)\n",
    "merged_table['Track'] = merged_table['Track'].replace('帯広', 24)"
   ]
  },
  {
   "cell_type": "code",
   "execution_count": 14,
   "metadata": {},
   "outputs": [],
   "source": [
    "# 2. merged_table['Trainers Stable']は削除\n",
    "merged_table = merged_table.drop(['Trainers Stable'], axis=1)"
   ]
  },
  {
   "cell_type": "code",
   "execution_count": null,
   "metadata": {},
   "outputs": [],
   "source": [
    "# 3. Track Type : ダート|芝|障害 -> 0|1|2\n",
    "merged_table['Track Type'] = merged_table['Track Type'].replace('ダート', 0)\n",
    "merged_table['Track Type'] = merged_table['Track Type'].replace('芝', 1)\n",
    "merged_table['Track Type'] = merged_table['Track Type'].replace('障害', 2)"
   ]
  },
  {
   "cell_type": "code",
   "execution_count": null,
   "metadata": {},
   "outputs": [],
   "source": [
    "# 4. Weather ['晴', '曇', '雨', '小雨', '雪', '小雪'] -> 0|1|2|3|4|5\n",
    "merged_table['Weather'] = merged_table['Weather'].replace('晴', 0)\n",
    "merged_table['Weather'] = merged_table['Weather'].replace('曇', 1)\n",
    "merged_table['Weather'] = merged_table['Weather'].replace('雨', 2)\n",
    "merged_table['Weather'] = merged_table['Weather'].replace('小雨', 3)\n",
    "merged_table['Weather'] = merged_table['Weather'].replace('雪', 4)\n",
    "merged_table['Weather'] = merged_table['Weather'].replace('小雪', 5)"
   ]
  },
  {
   "cell_type": "code",
   "execution_count": null,
   "metadata": {},
   "outputs": [],
   "source": [
    "# 5. Condition ['良','稍','重', '不', 0] -> 0|1|2|3|4\n",
    "merged_table['Condition'] = merged_table['Condition'].replace('良', 0)\n",
    "merged_table['Condition'] = merged_table['Condition'].replace('稍', 1)\n",
    "merged_table['Condition'] = merged_table['Condition'].replace('重', 2)\n",
    "merged_table['Condition'] = merged_table['Condition'].replace('不', 3)\n",
    "merged_table['Condition'] = merged_table['Condition'].replace(0, 4)"
   ]
  },
  {
   "cell_type": "code",
   "execution_count": null,
   "metadata": {},
   "outputs": [],
   "source": [
    "temp = merged_table.head(1)\n",
    "\n",
    "json = temp.to_json(orient='records', lines=True)\n",
    "print(json)"
   ]
  },
  {
   "cell_type": "code",
   "execution_count": 19,
   "metadata": {},
   "outputs": [],
   "source": [
    "merged_table.to_csv('./data/merged_table_finished3.csv', index=False)"
   ]
  },
  {
   "cell_type": "code",
   "execution_count": 1,
   "metadata": {},
   "outputs": [
    {
     "name": "stderr",
     "output_type": "stream",
     "text": [
      "2024-11-06 00:46:01.807597: I tensorflow/core/util/port.cc:153] oneDNN custom operations are on. You may see slightly different numerical results due to floating-point round-off errors from different computation orders. To turn them off, set the environment variable `TF_ENABLE_ONEDNN_OPTS=0`.\n",
      "2024-11-06 00:46:01.808098: I external/local_xla/xla/tsl/cuda/cudart_stub.cc:32] Could not find cuda drivers on your machine, GPU will not be used.\n",
      "2024-11-06 00:46:01.810721: I external/local_xla/xla/tsl/cuda/cudart_stub.cc:32] Could not find cuda drivers on your machine, GPU will not be used.\n",
      "2024-11-06 00:46:01.816239: E external/local_xla/xla/stream_executor/cuda/cuda_fft.cc:477] Unable to register cuFFT factory: Attempting to register factory for plugin cuFFT when one has already been registered\n",
      "WARNING: All log messages before absl::InitializeLog() is called are written to STDERR\n",
      "E0000 00:00:1730821561.824589  121539 cuda_dnn.cc:8310] Unable to register cuDNN factory: Attempting to register factory for plugin cuDNN when one has already been registered\n",
      "E0000 00:00:1730821561.827300  121539 cuda_blas.cc:1418] Unable to register cuBLAS factory: Attempting to register factory for plugin cuBLAS when one has already been registered\n",
      "2024-11-06 00:46:01.838005: I tensorflow/core/platform/cpu_feature_guard.cc:210] This TensorFlow binary is optimized to use available CPU instructions in performance-critical operations.\n",
      "To enable the following instructions: AVX2 AVX512F AVX512_VNNI AVX512_BF16 FMA, in other operations, rebuild TensorFlow with the appropriate compiler flags.\n"
     ]
    }
   ],
   "source": [
    "import tensorflow as tf\n",
    "import tensorflow_probability as tfp\n",
    "from sklearn.preprocessing import LabelEncoder\n",
    "from sklearn.model_selection import train_test_split\n",
    "import pandas as pd"
   ]
  },
  {
   "cell_type": "code",
   "execution_count": 2,
   "metadata": {},
   "outputs": [],
   "source": [
    "#  データの読み込み\n",
    "merged_table = pd.read_csv('./data/merged_table_finished3.csv')\n",
    "\n",
    "# merged_table['Date']カラムは削除\n",
    "merged_table = merged_table.drop(['Date'], axis=1)\n",
    "\n",
    "# Codeカラムは削除\n",
    "merged_table = merged_table.drop(['Code'], axis=1)"
   ]
  },
  {
   "cell_type": "code",
   "execution_count": null,
   "metadata": {},
   "outputs": [],
   "source": [
    "# 正規化\n"
   ]
  },
  {
   "cell_type": "code",
   "execution_count": 3,
   "metadata": {},
   "outputs": [],
   "source": [
    "# 1. カテゴリ変数のエンコード\n",
    "le_jockey = LabelEncoder()\n",
    "le_trainer = LabelEncoder()\n",
    "le_horsename = LabelEncoder()\n",
    "merged_table[\"Jockey\"] = le_jockey.fit_transform(merged_table[\"Jockey\"])\n",
    "merged_table[\"Trainer\"] = le_trainer.fit_transform(merged_table[\"Trainer\"])\n",
    "merged_table[\"Horse Name\"] = le_horsename.fit_transform(merged_table[\"Horse Name\"])"
   ]
  },
  {
   "cell_type": "code",
   "execution_count": 4,
   "metadata": {},
   "outputs": [],
   "source": [
    "# 2. 説明変数と目的変数に分ける\n",
    "X = merged_table.drop(columns=[\"Time\"])\n",
    "y = merged_table[\"Time\"]"
   ]
  },
  {
   "cell_type": "code",
   "execution_count": 5,
   "metadata": {},
   "outputs": [],
   "source": [
    "# 3. 学習用とテスト用に分割\n",
    "X_train, X_test, y_train, y_test = train_test_split(X, y, test_size=0.2, random_state=42)\n"
   ]
  },
  {
   "cell_type": "code",
   "execution_count": null,
   "metadata": {},
   "outputs": [],
   "source": [
    "X_train"
   ]
  },
  {
   "cell_type": "code",
   "execution_count": 12,
   "metadata": {},
   "outputs": [],
   "source": [
    "def create_nn_model_with_embedding(numeric_input_shape):\n",
    "    # JockeyのEmbedding\n",
    "    jockey_input = tf.keras.layers.Input(shape=(1,), name=\"Jockey_Input\")\n",
    "    jockey_embed = tf.keras.layers.Embedding(input_dim=len(le_jockey.classes_), output_dim=4)(jockey_input)\n",
    "    jockey_embed = tf.keras.layers.Flatten()(jockey_embed)\n",
    "\n",
    "    # TrainerのEmbedding\n",
    "    trainer_input = tf.keras.layers.Input(shape=(1,), name=\"Trainer_Input\")\n",
    "    trainer_embed = tf.keras.layers.Embedding(input_dim=len(le_trainer.classes_), output_dim=4)(trainer_input)\n",
    "    trainer_embed = tf.keras.layers.Flatten()(trainer_embed)\n",
    "\n",
    "    # Horse NameのEmbedding\n",
    "    horsename_input = tf.keras.layers.Input(shape=(1,), name=\"HorseName_Input\")\n",
    "    horsename_embed = tf.keras.layers.Embedding(input_dim=len(le_horsename.classes_), output_dim=4)(horsename_input)\n",
    "    horsename_embed = tf.keras.layers.Flatten()(horsename_embed)\n",
    "\n",
    "    # 数値データの入力\n",
    "    numeric_input = tf.keras.layers.Input(shape=(numeric_input_shape,), name=\"Numeric_Input\")\n",
    "\n",
    "    # 入力の結合\n",
    "    x = tf.keras.layers.Concatenate()([jockey_embed, trainer_embed, horsename_embed, numeric_input])\n",
    "\n",
    "    # 通常の Dense 層を使用\n",
    "    x = tf.keras.layers.Dense(64, activation=\"relu\")(x) # 変更点\n",
    "    x = tf.keras.layers.Dense(32, activation=\"relu\")(x) # 変更点\n",
    "    output = tf.keras.layers.Dense(1)(x) # 変更点\n",
    "\n",
    "    model = tf.keras.Model(inputs=[jockey_input, trainer_input, horsename_input, numeric_input], outputs=output)\n",
    "    return model\n",
    " \n",
    "# モデルのインスタンス作成\n",
    "numeric_input_shape = X_train.drop(columns=[\"Jockey\", \"Trainer\", \"Horse Name\"]).shape[1]\n",
    "nn_model = create_nn_model_with_embedding(numeric_input_shape)\n"
   ]
  },
  {
   "cell_type": "code",
   "execution_count": 13,
   "metadata": {},
   "outputs": [
    {
     "ename": "NameError",
     "evalue": "name 'model' is not defined",
     "output_type": "error",
     "traceback": [
      "\u001b[0;31m---------------------------------------------------------------------------\u001b[0m",
      "\u001b[0;31mNameError\u001b[0m                                 Traceback (most recent call last)",
      "Cell \u001b[0;32mIn[13], line 2\u001b[0m\n\u001b[1;32m      1\u001b[0m \u001b[38;5;66;03m# 5. モデルのコンパイル\u001b[39;00m\n\u001b[0;32m----> 2\u001b[0m \u001b[43mmodel\u001b[49m\u001b[38;5;241m.\u001b[39mcompile(\n\u001b[1;32m      3\u001b[0m     optimizer\u001b[38;5;241m=\u001b[39m\u001b[38;5;124m'\u001b[39m\u001b[38;5;124madam\u001b[39m\u001b[38;5;124m'\u001b[39m,  \u001b[38;5;66;03m# オプティマイザを指定 (例: adam)\u001b[39;00m\n\u001b[1;32m      4\u001b[0m     loss\u001b[38;5;241m=\u001b[39m\u001b[38;5;124m'\u001b[39m\u001b[38;5;124mmse\u001b[39m\u001b[38;5;124m'\u001b[39m,  \u001b[38;5;66;03m# 損失関数を指定 (例: 平均二乗誤差)\u001b[39;00m\n\u001b[1;32m      5\u001b[0m     metrics\u001b[38;5;241m=\u001b[39m[\u001b[38;5;124m'\u001b[39m\u001b[38;5;124mmae\u001b[39m\u001b[38;5;124m'\u001b[39m]  \u001b[38;5;66;03m# 評価指標を指定 (例: 平均絶対誤差)\u001b[39;00m\n\u001b[1;32m      6\u001b[0m )\n",
      "\u001b[0;31mNameError\u001b[0m: name 'model' is not defined"
     ]
    }
   ],
   "source": [
    "# 5. モデルのコンパイル\n",
    "model.compile(\n",
    "    optimizer='adam',  # オプティマイザを指定 (例: adam)\n",
    "    loss='mse',  # 損失関数を指定 (例: 平均二乗誤差)\n",
    "    metrics=['mae']  # 評価指標を指定 (例: 平均絶対誤差)\n",
    ")"
   ]
  },
  {
   "cell_type": "code",
   "execution_count": 33,
   "metadata": {},
   "outputs": [],
   "source": [
    "# 6. データの形式をモデルに合わせる\n",
    "X_train_jockey = X_train[\"Jockey\"].values\n",
    "X_train_trainer = X_train[\"Trainer\"].values\n",
    "X_train_numeric = X_train.drop(columns=[\"Jockey\", \"Trainer\"]).values\n",
    "X_train_numeric = X_train_numeric.astype(\"float32\")\n",
    "\n",
    "X_test_jockey = X_test[\"Jockey\"].values\n",
    "X_test_trainer = X_test[\"Trainer\"].values\n",
    "X_test_numeric = X_test.drop(columns=[\"Jockey\", \"Trainer\"]).values\n",
    "X_test_numeric = X_test_numeric.astype(\"float32\")"
   ]
  },
  {
   "cell_type": "code",
   "execution_count": null,
   "metadata": {},
   "outputs": [],
   "source": [
    "# X_train_numericの要素の型を確認\n",
    "print(X_train_numeric.dtype)"
   ]
  },
  {
   "cell_type": "code",
   "execution_count": null,
   "metadata": {},
   "outputs": [],
   "source": [
    "# モデルの保存先を指定\n",
    "model_filepath = \"./model/best_model.h5\"  # 適宜変更\n",
    "\n",
    "# チェックポイントコールバック。`val_loss` が最小となるモデルを保存\n",
    "checkpoint_callback = tf.keras.callbacks.ModelCheckpoint(\n",
    "    filepath=model_filepath,\n",
    "    monitor=\"val_loss\",  # 検証データの損失を監視\n",
    "    save_best_only=True,  # 最良のモデルのみを保存\n",
    "    save_weights_only=False, # モデル全体を保存\n",
    "    verbose=1  # 保存時にメッセージを表示\n",
    ")\n",
    "\n",
    "# 早期終了コールバック。`val_loss` が改善しなくなったら学習を停止\n",
    "early_stopping_callback = tf.keras.callbacks.EarlyStopping(\n",
    "    monitor=\"val_loss\",  # 検証データの損失を監視\n",
    "    patience=5,  # 改善が見られないエポック数を指定 (例: 5エポック)\n",
    "    verbose=1\n",
    ")\n",
    "\n",
    "# 7. モデルの学習\n",
    "history = model.fit( # bnn_model を model に変更\n",
    "    [X_train_jockey, X_train_trainer, X_train_numeric],\n",
    "    y_train,\n",
    "    epochs=50, # エポック数は必要に応じて調整\n",
    "    batch_size=16, # バッチサイズは必要に応じて調整\n",
    "    validation_data=([X_test_jockey, X_test_trainer, X_test_numeric], y_test)\n",
    "    callbacks=[checkpoint_callback, early_stopping_callback]  # コールバックを指定\n",
    ")"
   ]
  },
  {
   "cell_type": "code",
   "execution_count": null,
   "metadata": {},
   "outputs": [],
   "source": [
    "\n",
    "# 8. 評価\n",
    "loss, mae = bnn_model.evaluate([X_test_jockey, X_test_trainer, X_test_numeric], y_test)\n",
    "print(f\"Mean Absolute Error: {mae}\")"
   ]
  }
 ],
 "metadata": {
  "kernelspec": {
   "display_name": "jupyter-kernel",
   "language": "python",
   "name": "jupyter-kernel"
  },
  "language_info": {
   "codemirror_mode": {
    "name": "ipython",
    "version": 3
   },
   "file_extension": ".py",
   "mimetype": "text/x-python",
   "name": "python",
   "nbconvert_exporter": "python",
   "pygments_lexer": "ipython3",
   "version": "3.10.12"
  }
 },
 "nbformat": 4,
 "nbformat_minor": 2
}
