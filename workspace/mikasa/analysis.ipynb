{
 "cells": [
  {
   "cell_type": "markdown",
   "metadata": {},
   "source": [
    "| Column Name             | Data Type | Description                                              | null |\n",
    "|-------------------------|-----------|----------------------------------------------------------|---|\n",
    "| Code                    | int64     | レースの識別番号                                         |0|\n",
    "| Rank                    | int64     | レースにおける順位                                       |0|\n",
    "| Frame Rank              | int64     | フレーム内での順位                                       |0|\n",
    "| Horse Number            | int64     | 馬の番号                                                 |0|\n",
    "| Horse Name              | object    | 馬の名前                                                 |0|\n",
    "| Kinryou                 | float64   | 馬の斤量（体重）                                       |0|\n",
    "| Jockey                  | object    | ジョッキーの名前                                         |0|\n",
    "| Time                    | float64   | レースの所要時間（秒数）                                |0|\n",
    "| Chakusa                 | object    | 着順（フォーマットによる）                               |904084|\n",
    "| Nobori                  | float64   | 上昇度（成績の向上を示す指標）                         |2021595|\n",
    "| Tansyou                 | float64   | 単勝オッズ                                               |1659530|\n",
    "| Ninki                   | float64   | 人気（馬の人気度）                                      |46|\n",
    "| Horse Weight            | float64   | 馬の体重（斤量）                                       |3547|\n",
    "| Trainer                 | object    | トレーナーの名前                                        |0|\n",
    "| Banushi                 | object    | 馬主の名前                                              |96709|\n",
    "| Shoukin                 | object    | 賞金                                                    |3167645|\n",
    "| Date                    | object    | レース日（通常は文字列形式）                            |0|\n",
    "| Track                   | object    | トラックの種類                                          |0|\n",
    "| Weather                 | object    | 天候                                                    |0|\n",
    "| Race Number             | int64     | レースの番号                                            |0|\n",
    "| Distance                | int64     | レースの距離（メートル単位）                            |0|\n",
    "| Condition               | object    | トラックコンディション                                   |387819|\n",
    "| Disqualification        | int64     | 失格の有無（失格の場合は1、そうでなければ0）           |0|\n",
    "| Sex                     | int64     | 馬の性別（数値で表現）                                  |0|\n",
    "| Age                     | int64     | 馬の年齢（数値で表現）                                  |0|\n",
    "| Track Type              | object    | トラックのタイプ                                        |0|\n",
    "| intermediate_rank_1     | float64   | 中間順位1                                               |1072605|\n",
    "| intermediate_rank_2     | float64   | 中間順位2                                               |1116477|\n",
    "| intermediate_rank_3     | float64   | 中間順位3                                               |2367017|\n",
    "| intermediate_rank_4     | float64   | 中間順位4                                               |3182497|\n",
    "| Horse Weight Change      | int64     | 馬の体重の変化（斤量の増減）                           |0|\n",
    "| Trainers Stable         | object    | トレーナーの厩舎名                                      |0|\n",
    "\n",
    "5886227行"
   ]
  },
  {
   "cell_type": "code",
   "execution_count": 1,
   "metadata": {},
   "outputs": [
    {
     "name": "stderr",
     "output_type": "stream",
     "text": [
      "2024-11-05 09:39:15.124193: I tensorflow/core/util/port.cc:153] oneDNN custom operations are on. You may see slightly different numerical results due to floating-point round-off errors from different computation orders. To turn them off, set the environment variable `TF_ENABLE_ONEDNN_OPTS=0`.\n",
      "2024-11-05 09:39:15.142073: I external/local_xla/xla/tsl/cuda/cudart_stub.cc:32] Could not find cuda drivers on your machine, GPU will not be used.\n",
      "2024-11-05 09:39:15.304793: I external/local_xla/xla/tsl/cuda/cudart_stub.cc:32] Could not find cuda drivers on your machine, GPU will not be used.\n",
      "2024-11-05 09:39:15.454680: E external/local_xla/xla/stream_executor/cuda/cuda_fft.cc:477] Unable to register cuFFT factory: Attempting to register factory for plugin cuFFT when one has already been registered\n",
      "WARNING: All log messages before absl::InitializeLog() is called are written to STDERR\n",
      "E0000 00:00:1730767155.578749    1212 cuda_dnn.cc:8310] Unable to register cuDNN factory: Attempting to register factory for plugin cuDNN when one has already been registered\n",
      "E0000 00:00:1730767155.616749    1212 cuda_blas.cc:1418] Unable to register cuBLAS factory: Attempting to register factory for plugin cuBLAS when one has already been registered\n",
      "2024-11-05 09:39:15.970571: I tensorflow/core/platform/cpu_feature_guard.cc:210] This TensorFlow binary is optimized to use available CPU instructions in performance-critical operations.\n",
      "To enable the following instructions: AVX2 AVX512F AVX512_VNNI AVX512_BF16 FMA, in other operations, rebuild TensorFlow with the appropriate compiler flags.\n"
     ]
    }
   ],
   "source": [
    "import tensorflow_probability as tfp\n",
    "import tensorflow as tf"
   ]
  },
  {
   "cell_type": "code",
   "execution_count": 2,
   "metadata": {},
   "outputs": [],
   "source": [
    "import pandas as pd\n",
    "merged_table = pd.read_csv('./data/merged_table_finished2.csv')"
   ]
  },
  {
   "cell_type": "code",
   "execution_count": 3,
   "metadata": {},
   "outputs": [],
   "source": [
    "# Chakusa, Nobori, Tansyou, Banushi, Shoukin, intermediate_rank_1, intermediate_rank_2, intermediate_rank_3, intermediate_rank_4の空カラムは削除\n",
    "merged_table = merged_table.drop(['Chakusa', 'Nobori', 'Tansyou', 'Banushi', 'Shoukin', 'intermediate_rank_1', 'intermediate_rank_2', 'intermediate_rank_3', 'intermediate_rank_4'], axis=1)\n",
    "\n",
    "# Ninki, Horse Weightカラムの欠損行を削除\n",
    "merged_table = merged_table.dropna(subset=['Ninki', 'Horse Weight'])\n",
    "\n",
    "# Conditionのnullは0に変換\n",
    "merged_table['Condition'] = merged_table['Condition'].fillna(0)"
   ]
  },
  {
   "cell_type": "code",
   "execution_count": 7,
   "metadata": {},
   "outputs": [
    {
     "data": {
      "text/html": [
       "<div>\n",
       "<style scoped>\n",
       "    .dataframe tbody tr th:only-of-type {\n",
       "        vertical-align: middle;\n",
       "    }\n",
       "\n",
       "    .dataframe tbody tr th {\n",
       "        vertical-align: top;\n",
       "    }\n",
       "\n",
       "    .dataframe thead th {\n",
       "        text-align: right;\n",
       "    }\n",
       "</style>\n",
       "<table border=\"1\" class=\"dataframe\">\n",
       "  <thead>\n",
       "    <tr style=\"text-align: right;\">\n",
       "      <th></th>\n",
       "      <th>Code</th>\n",
       "      <th>Rank</th>\n",
       "      <th>Frame Rank</th>\n",
       "      <th>Horse Number</th>\n",
       "      <th>Horse Name</th>\n",
       "      <th>Kinryou</th>\n",
       "      <th>Jockey</th>\n",
       "      <th>Time</th>\n",
       "      <th>Ninki</th>\n",
       "      <th>Horse Weight</th>\n",
       "      <th>Trainer</th>\n",
       "      <th>Date</th>\n",
       "      <th>Track</th>\n",
       "      <th>Weather</th>\n",
       "      <th>Race Number</th>\n",
       "      <th>Distance</th>\n",
       "      <th>Condition</th>\n",
       "      <th>Disqualification</th>\n",
       "      <th>Sex</th>\n",
       "      <th>Age</th>\n",
       "      <th>Track Type</th>\n",
       "      <th>Horse Weight Change</th>\n",
       "      <th>Trainers Stable</th>\n",
       "    </tr>\n",
       "  </thead>\n",
       "  <tbody>\n",
       "    <tr>\n",
       "      <th>0</th>\n",
       "      <td>201643120812</td>\n",
       "      <td>1</td>\n",
       "      <td>3</td>\n",
       "      <td>3</td>\n",
       "      <td>カールトンガーデン</td>\n",
       "      <td>57.0</td>\n",
       "      <td>今野忠成</td>\n",
       "      <td>110.7</td>\n",
       "      <td>3.0</td>\n",
       "      <td>502.0</td>\n",
       "      <td>辻野豊</td>\n",
       "      <td>2016/12/08</td>\n",
       "      <td>14</td>\n",
       "      <td>晴</td>\n",
       "      <td>12</td>\n",
       "      <td>1700</td>\n",
       "      <td>稍</td>\n",
       "      <td>0</td>\n",
       "      <td>1</td>\n",
       "      <td>4</td>\n",
       "      <td>ダート</td>\n",
       "      <td>5</td>\n",
       "      <td>地</td>\n",
       "    </tr>\n",
       "    <tr>\n",
       "      <th>1</th>\n",
       "      <td>201643120812</td>\n",
       "      <td>2</td>\n",
       "      <td>4</td>\n",
       "      <td>5</td>\n",
       "      <td>キングニミッツ</td>\n",
       "      <td>57.0</td>\n",
       "      <td>石崎駿</td>\n",
       "      <td>110.9</td>\n",
       "      <td>1.0</td>\n",
       "      <td>487.0</td>\n",
       "      <td>矢野義幸</td>\n",
       "      <td>2016/12/08</td>\n",
       "      <td>14</td>\n",
       "      <td>晴</td>\n",
       "      <td>12</td>\n",
       "      <td>1700</td>\n",
       "      <td>稍</td>\n",
       "      <td>0</td>\n",
       "      <td>1</td>\n",
       "      <td>3</td>\n",
       "      <td>ダート</td>\n",
       "      <td>-5</td>\n",
       "      <td>地</td>\n",
       "    </tr>\n",
       "    <tr>\n",
       "      <th>2</th>\n",
       "      <td>201643120812</td>\n",
       "      <td>3</td>\n",
       "      <td>3</td>\n",
       "      <td>4</td>\n",
       "      <td>スティレット</td>\n",
       "      <td>57.0</td>\n",
       "      <td>和田譲治</td>\n",
       "      <td>111.0</td>\n",
       "      <td>2.0</td>\n",
       "      <td>465.0</td>\n",
       "      <td>岡林光浩</td>\n",
       "      <td>2016/12/08</td>\n",
       "      <td>14</td>\n",
       "      <td>晴</td>\n",
       "      <td>12</td>\n",
       "      <td>1700</td>\n",
       "      <td>稍</td>\n",
       "      <td>0</td>\n",
       "      <td>3</td>\n",
       "      <td>6</td>\n",
       "      <td>ダート</td>\n",
       "      <td>1</td>\n",
       "      <td>地</td>\n",
       "    </tr>\n",
       "    <tr>\n",
       "      <th>3</th>\n",
       "      <td>201643120812</td>\n",
       "      <td>4</td>\n",
       "      <td>8</td>\n",
       "      <td>13</td>\n",
       "      <td>ドリームキングダム</td>\n",
       "      <td>57.0</td>\n",
       "      <td>藤井勘一</td>\n",
       "      <td>111.3</td>\n",
       "      <td>6.0</td>\n",
       "      <td>524.0</td>\n",
       "      <td>佐々木仁</td>\n",
       "      <td>2016/12/08</td>\n",
       "      <td>14</td>\n",
       "      <td>晴</td>\n",
       "      <td>12</td>\n",
       "      <td>1700</td>\n",
       "      <td>稍</td>\n",
       "      <td>0</td>\n",
       "      <td>1</td>\n",
       "      <td>6</td>\n",
       "      <td>ダート</td>\n",
       "      <td>1</td>\n",
       "      <td>地</td>\n",
       "    </tr>\n",
       "    <tr>\n",
       "      <th>4</th>\n",
       "      <td>201643120812</td>\n",
       "      <td>5</td>\n",
       "      <td>7</td>\n",
       "      <td>12</td>\n",
       "      <td>マサニオニカゲ</td>\n",
       "      <td>55.0</td>\n",
       "      <td>藤江渉</td>\n",
       "      <td>111.4</td>\n",
       "      <td>9.0</td>\n",
       "      <td>509.0</td>\n",
       "      <td>山越光</td>\n",
       "      <td>2016/12/08</td>\n",
       "      <td>14</td>\n",
       "      <td>晴</td>\n",
       "      <td>12</td>\n",
       "      <td>1700</td>\n",
       "      <td>稍</td>\n",
       "      <td>0</td>\n",
       "      <td>1</td>\n",
       "      <td>3</td>\n",
       "      <td>ダート</td>\n",
       "      <td>-4</td>\n",
       "      <td>地</td>\n",
       "    </tr>\n",
       "  </tbody>\n",
       "</table>\n",
       "</div>"
      ],
      "text/plain": [
       "           Code  Rank  Frame Rank  Horse Number Horse Name  Kinryou Jockey  \\\n",
       "0  201643120812     1           3             3  カールトンガーデン     57.0   今野忠成   \n",
       "1  201643120812     2           4             5    キングニミッツ     57.0    石崎駿   \n",
       "2  201643120812     3           3             4     スティレット     57.0   和田譲治   \n",
       "3  201643120812     4           8            13  ドリームキングダム     57.0   藤井勘一   \n",
       "4  201643120812     5           7            12    マサニオニカゲ     55.0    藤江渉   \n",
       "\n",
       "    Time  Ninki  Horse Weight Trainer        Date  Track Weather  Race Number  \\\n",
       "0  110.7    3.0         502.0     辻野豊  2016/12/08     14       晴           12   \n",
       "1  110.9    1.0         487.0    矢野義幸  2016/12/08     14       晴           12   \n",
       "2  111.0    2.0         465.0    岡林光浩  2016/12/08     14       晴           12   \n",
       "3  111.3    6.0         524.0    佐々木仁  2016/12/08     14       晴           12   \n",
       "4  111.4    9.0         509.0     山越光  2016/12/08     14       晴           12   \n",
       "\n",
       "   Distance Condition  Disqualification  Sex  Age Track Type  \\\n",
       "0      1700         稍                 0    1    4        ダート   \n",
       "1      1700         稍                 0    1    3        ダート   \n",
       "2      1700         稍                 0    3    6        ダート   \n",
       "3      1700         稍                 0    1    6        ダート   \n",
       "4      1700         稍                 0    1    3        ダート   \n",
       "\n",
       "   Horse Weight Change Trainers Stable  \n",
       "0                    5               地  \n",
       "1                   -5               地  \n",
       "2                    1               地  \n",
       "3                    1               地  \n",
       "4                   -4               地  "
      ]
     },
     "execution_count": 7,
     "metadata": {},
     "output_type": "execute_result"
    }
   ],
   "source": [
    "# 全列表示\n",
    "pd.set_option('display.max_columns', None)\n",
    "merged_table.head()"
   ]
  },
  {
   "cell_type": "code",
   "execution_count": 5,
   "metadata": {},
   "outputs": [
    {
     "name": "stderr",
     "output_type": "stream",
     "text": [
      "/tmp/ipykernel_1212/2791922140.py:30: FutureWarning: Downcasting behavior in `replace` is deprecated and will be removed in a future version. To retain the old behavior, explicitly call `result.infer_objects(copy=False)`. To opt-in to the future behavior, set `pd.set_option('future.no_silent_downcasting', True)`\n",
      "  merged_table['Track'] = merged_table['Track'].replace('帯広', 24)\n"
     ]
    }
   ],
   "source": [
    "# str型のカテゴリカルデータを数値に変換\n",
    "# 1. Track\n",
    "# 札幌|函館|福島|新潟|東京|中山|中京|京都|阪神|小倉|門別|盛岡|水沢|浦和|船橋|大井|川崎|金沢|笠松|名古屋|園田|姫路|高知|佐賀|帯広\n",
    "# 0...24\n",
    "\n",
    "merged_table['Track'] = merged_table['Track'].replace('札幌', 0)\n",
    "merged_table['Track'] = merged_table['Track'].replace('函館', 1)\n",
    "merged_table['Track'] = merged_table['Track'].replace('福島', 2)\n",
    "merged_table['Track'] = merged_table['Track'].replace('新潟', 3)\n",
    "merged_table['Track'] = merged_table['Track'].replace('東京', 4)\n",
    "merged_table['Track'] = merged_table['Track'].replace('中山', 5)\n",
    "merged_table['Track'] = merged_table['Track'].replace('中京', 6)\n",
    "merged_table['Track'] = merged_table['Track'].replace('京都', 7)\n",
    "merged_table['Track'] = merged_table['Track'].replace('阪神', 8)\n",
    "merged_table['Track'] = merged_table['Track'].replace('小倉', 9)\n",
    "merged_table['Track'] = merged_table['Track'].replace('門別', 10)\n",
    "merged_table['Track'] = merged_table['Track'].replace('盛岡', 11)\n",
    "merged_table['Track'] = merged_table['Track'].replace('水沢', 12)\n",
    "merged_table['Track'] = merged_table['Track'].replace('浦和', 13)\n",
    "merged_table['Track'] = merged_table['Track'].replace('船橋', 14)\n",
    "merged_table['Track'] = merged_table['Track'].replace('大井', 15)\n",
    "merged_table['Track'] = merged_table['Track'].replace('川崎', 16)\n",
    "merged_table['Track'] = merged_table['Track'].replace('金沢', 17)\n",
    "merged_table['Track'] = merged_table['Track'].replace('笠松', 18)\n",
    "merged_table['Track'] = merged_table['Track'].replace('名古屋', 19)\n",
    "merged_table['Track'] = merged_table['Track'].replace('園田', 20)\n",
    "merged_table['Track'] = merged_table['Track'].replace('姫路', 21)\n",
    "merged_table['Track'] = merged_table['Track'].replace('高知', 22)\n",
    "merged_table['Track'] = merged_table['Track'].replace('佐賀', 23)\n",
    "merged_table['Track'] = merged_table['Track'].replace('帯広', 24)"
   ]
  },
  {
   "cell_type": "code",
   "execution_count": 8,
   "metadata": {},
   "outputs": [],
   "source": [
    "# 2. merged_table['Trainers Stable']は削除\n",
    "merged_table = merged_table.drop(['Trainers Stable'], axis=1)"
   ]
  },
  {
   "cell_type": "code",
   "execution_count": 9,
   "metadata": {},
   "outputs": [
    {
     "name": "stderr",
     "output_type": "stream",
     "text": [
      "/tmp/ipykernel_1212/2272042101.py:4: FutureWarning: Downcasting behavior in `replace` is deprecated and will be removed in a future version. To retain the old behavior, explicitly call `result.infer_objects(copy=False)`. To opt-in to the future behavior, set `pd.set_option('future.no_silent_downcasting', True)`\n",
      "  merged_table['Track Type'] = merged_table['Track Type'].replace('障害', 2)\n"
     ]
    }
   ],
   "source": [
    "# 3. Track Type : ダート|芝|障害 -> 0|1|2\n",
    "merged_table['Track Type'] = merged_table['Track Type'].replace('ダート', 0)\n",
    "merged_table['Track Type'] = merged_table['Track Type'].replace('芝', 1)\n",
    "merged_table['Track Type'] = merged_table['Track Type'].replace('障害', 2)"
   ]
  },
  {
   "cell_type": "code",
   "execution_count": 13,
   "metadata": {},
   "outputs": [
    {
     "name": "stderr",
     "output_type": "stream",
     "text": [
      "/tmp/ipykernel_1212/2405792208.py:7: FutureWarning: Downcasting behavior in `replace` is deprecated and will be removed in a future version. To retain the old behavior, explicitly call `result.infer_objects(copy=False)`. To opt-in to the future behavior, set `pd.set_option('future.no_silent_downcasting', True)`\n",
      "  merged_table['Weather'] = merged_table['Weather'].replace('小雪', 5)\n"
     ]
    }
   ],
   "source": [
    "# 4. Weather ['晴', '曇', '雨', '小雨', '雪', '小雪'] -> 0|1|2|3|4|5\n",
    "merged_table['Weather'] = merged_table['Weather'].replace('晴', 0)\n",
    "merged_table['Weather'] = merged_table['Weather'].replace('曇', 1)\n",
    "merged_table['Weather'] = merged_table['Weather'].replace('雨', 2)\n",
    "merged_table['Weather'] = merged_table['Weather'].replace('小雨', 3)\n",
    "merged_table['Weather'] = merged_table['Weather'].replace('雪', 4)\n",
    "merged_table['Weather'] = merged_table['Weather'].replace('小雪', 5)"
   ]
  },
  {
   "cell_type": "code",
   "execution_count": 17,
   "metadata": {},
   "outputs": [
    {
     "name": "stderr",
     "output_type": "stream",
     "text": [
      "/tmp/ipykernel_1212/1908853088.py:5: FutureWarning: Downcasting behavior in `replace` is deprecated and will be removed in a future version. To retain the old behavior, explicitly call `result.infer_objects(copy=False)`. To opt-in to the future behavior, set `pd.set_option('future.no_silent_downcasting', True)`\n",
      "  merged_table['Condition'] = merged_table['Condition'].replace('不', 3)\n"
     ]
    }
   ],
   "source": [
    "# 5. Condition ['良','稍','重', '不', 0] -> 0|1|2|3|4\n",
    "merged_table['Condition'] = merged_table['Condition'].replace('良', 0)\n",
    "merged_table['Condition'] = merged_table['Condition'].replace('稍', 1)\n",
    "merged_table['Condition'] = merged_table['Condition'].replace('重', 2)\n",
    "merged_table['Condition'] = merged_table['Condition'].replace('不', 3)\n",
    "merged_table['Condition'] = merged_table['Condition'].replace(0, 4)"
   ]
  },
  {
   "cell_type": "code",
   "execution_count": 20,
   "metadata": {},
   "outputs": [
    {
     "name": "stdout",
     "output_type": "stream",
     "text": [
      "{\"Code\":201643120812,\"Rank\":1,\"Frame Rank\":3,\"Horse Number\":3,\"Horse Name\":\"\\u30ab\\u30fc\\u30eb\\u30c8\\u30f3\\u30ac\\u30fc\\u30c7\\u30f3\",\"Kinryou\":57.0,\"Jockey\":\"\\u4eca\\u91ce\\u5fe0\\u6210\",\"Time\":110.7,\"Ninki\":3.0,\"Horse Weight\":502.0,\"Trainer\":\"\\u8fbb\\u91ce\\u8c4a\",\"Date\":\"2016\\/12\\/08\",\"Track\":14,\"Weather\":0,\"Race Number\":12,\"Distance\":1700,\"Condition\":1,\"Disqualification\":0,\"Sex\":1,\"Age\":4,\"Track Type\":0,\"Horse Weight Change\":5}\n",
      "\n"
     ]
    }
   ],
   "source": [
    "temp = merged_table.head(1)\n",
    "\n",
    "json = temp.to_json(orient='records', lines=True)\n",
    "print(json)"
   ]
  },
  {
   "cell_type": "code",
   "execution_count": 21,
   "metadata": {},
   "outputs": [],
   "source": [
    "merged_table.to_csv('./data/merged_table_finished3.csv', index=False)"
   ]
  },
  {
   "cell_type": "code",
   "execution_count": 2,
   "metadata": {},
   "outputs": [
    {
     "name": "stderr",
     "output_type": "stream",
     "text": [
      "2024-11-05 13:02:11.721328: I tensorflow/core/util/port.cc:153] oneDNN custom operations are on. You may see slightly different numerical results due to floating-point round-off errors from different computation orders. To turn them off, set the environment variable `TF_ENABLE_ONEDNN_OPTS=0`.\n",
      "2024-11-05 13:02:11.722203: I external/local_xla/xla/tsl/cuda/cudart_stub.cc:32] Could not find cuda drivers on your machine, GPU will not be used.\n",
      "2024-11-05 13:02:11.727252: I external/local_xla/xla/tsl/cuda/cudart_stub.cc:32] Could not find cuda drivers on your machine, GPU will not be used.\n",
      "2024-11-05 13:02:11.741888: E external/local_xla/xla/stream_executor/cuda/cuda_fft.cc:477] Unable to register cuFFT factory: Attempting to register factory for plugin cuFFT when one has already been registered\n",
      "WARNING: All log messages before absl::InitializeLog() is called are written to STDERR\n",
      "E0000 00:00:1730779331.768500   87082 cuda_dnn.cc:8310] Unable to register cuDNN factory: Attempting to register factory for plugin cuDNN when one has already been registered\n",
      "E0000 00:00:1730779331.777985   87082 cuda_blas.cc:1418] Unable to register cuBLAS factory: Attempting to register factory for plugin cuBLAS when one has already been registered\n",
      "2024-11-05 13:02:11.814079: I tensorflow/core/platform/cpu_feature_guard.cc:210] This TensorFlow binary is optimized to use available CPU instructions in performance-critical operations.\n",
      "To enable the following instructions: AVX2 AVX512F AVX512_VNNI AVX512_BF16 FMA, in other operations, rebuild TensorFlow with the appropriate compiler flags.\n"
     ]
    }
   ],
   "source": [
    "import tensorflow as tf\n",
    "import tensorflow_probability as tfp\n",
    "from sklearn.preprocessing import LabelEncoder\n",
    "from sklearn.model_selection import train_test_split\n",
    "import pandas as pd"
   ]
  },
  {
   "cell_type": "code",
   "execution_count": 3,
   "metadata": {},
   "outputs": [],
   "source": [
    "#  データの読み込み\n",
    "merged_table = pd.read_csv('./data/merged_table_finished3.csv')\n",
    "\n",
    "# merged_table['Date']カラムは削除\n",
    "merged_table = merged_table.drop(['Date'], axis=1)\n",
    "\n",
    "# Codeカラムは削除\n",
    "merged_table = merged_table.drop(['Code'], axis=1)"
   ]
  },
  {
   "cell_type": "code",
   "execution_count": null,
   "metadata": {},
   "outputs": [],
   "source": [
    "# 正規化\n"
   ]
  },
  {
   "cell_type": "code",
   "execution_count": 4,
   "metadata": {},
   "outputs": [],
   "source": [
    "# 1. カテゴリ変数のエンコード\n",
    "le_jockey = LabelEncoder()\n",
    "le_trainer = LabelEncoder()\n",
    "merged_table[\"Jockey\"] = le_jockey.fit_transform(merged_table[\"Jockey\"])\n",
    "merged_table[\"Trainer\"] = le_trainer.fit_transform(merged_table[\"Trainer\"])"
   ]
  },
  {
   "cell_type": "code",
   "execution_count": 5,
   "metadata": {},
   "outputs": [],
   "source": [
    "# 2. 説明変数と目的変数に分ける\n",
    "X = merged_table.drop(columns=[\"Time\"])\n",
    "y = merged_table[\"Time\"]"
   ]
  },
  {
   "cell_type": "code",
   "execution_count": 6,
   "metadata": {},
   "outputs": [],
   "source": [
    "# 3. 学習用とテスト用に分割\n",
    "X_train, X_test, y_train, y_test = train_test_split(X, y, test_size=0.2, random_state=42)\n"
   ]
  },
  {
   "cell_type": "code",
   "execution_count": 8,
   "metadata": {},
   "outputs": [
    {
     "data": {
      "text/plain": [
       "4255924    102.5\n",
       "1446013     88.5\n",
       "2647920    115.7\n",
       "3259662     69.2\n",
       "2822869     99.8\n",
       "Name: Time, dtype: float64"
      ]
     },
     "execution_count": 8,
     "metadata": {},
     "output_type": "execute_result"
    }
   ],
   "source": []
  },
  {
   "cell_type": "code",
   "execution_count": 7,
   "metadata": {},
   "outputs": [
    {
     "name": "stdout",
     "output_type": "stream",
     "text": [
      "jockey_embed: (None, 4)\n",
      "trainer_embed: (None, 4)\n",
      "numeric_input: (None, 17)\n",
      "Concatenated shape: (None, 25)\n",
      "Dense shape: (None, 64)\n",
      "Dense shape: (None, 32)\n"
     ]
    },
    {
     "name": "stderr",
     "output_type": "stream",
     "text": [
      "2024-11-05 13:02:48.671687: E external/local_xla/xla/stream_executor/cuda/cuda_driver.cc:152] failed call to cuInit: INTERNAL: CUDA error: Failed call to cuInit: UNKNOWN ERROR (303)\n"
     ]
    }
   ],
   "source": [
    "# 4. モデルの作成\n",
    "def create_model_with_embedding(): # 関数名を変更\n",
    "    # ジョッキーのEmbedding\n",
    "    jockey_input = tf.keras.layers.Input(shape=(1,), name=\"Jockey_Input\")\n",
    "    jockey_embed = tf.keras.layers.Embedding(input_dim=len(le_jockey.classes_), output_dim=4)(jockey_input)\n",
    "    jockey_embed = tf.keras.layers.Flatten()(jockey_embed)\n",
    "\n",
    "    # トレーナーのEmbedding\n",
    "    trainer_input = tf.keras.layers.Input(shape=(1,), name=\"Trainer_Input\")\n",
    "    trainer_embed = tf.keras.layers.Embedding(input_dim=len(le_trainer.classes_), output_dim=4)(trainer_input)\n",
    "    trainer_embed = tf.keras.layers.Flatten()(trainer_embed)\n",
    "\n",
    "    # 数値データの入力\n",
    "    numeric_input = tf.keras.layers.Input(shape=(X.shape[1] - 2,), name=\"Numeric_Input\")\n",
    "\n",
    "    # データ型の確認\n",
    "    print(\"jockey_embed:\", jockey_embed.shape)\n",
    "    print(\"trainer_embed:\", trainer_embed.shape)\n",
    "    print(\"numeric_input:\", numeric_input.shape)\n",
    "\n",
    "    # 全入力の結合\n",
    "    x = tf.keras.layers.Concatenate()([jockey_embed, trainer_embed, numeric_input])\n",
    "\n",
    "    print(\"Concatenated shape:\", x.shape)\n",
    "\n",
    "    x = tf.keras.layers.Dense(64, activation=\"relu\")(x) # tfp.layers.DenseFlipout を tf.keras.layers.Dense に変更\n",
    "\n",
    "    print(\"Dense shape:\", x.shape) # print文を変更\n",
    "\n",
    "    x = tf.keras.layers.Dense(32, activation=\"relu\")(x) # tfp.layers.DenseFlipout を tf.keras.layers.Dense に変更\n",
    "\n",
    "    print(\"Dense shape:\", x.shape) # print文を変更\n",
    "\n",
    "    output = tf.keras.layers.Dense(1)(x) # tfp.layers.DenseFlipout を tf.keras.layers.Dense に変更\n",
    "\n",
    "    model = tf.keras.Model(inputs=[jockey_input, trainer_input, numeric_input], outputs=output)\n",
    "    return model\n",
    "\n",
    "model = create_model_with_embedding() # 変数名を変更"
   ]
  },
  {
   "cell_type": "code",
   "execution_count": 8,
   "metadata": {},
   "outputs": [],
   "source": [
    "# 5. モデルのコンパイル\n",
    "model.compile(\n",
    "    optimizer='adam',  # オプティマイザを指定 (例: adam)\n",
    "    loss='mse',  # 損失関数を指定 (例: 平均二乗誤差)\n",
    "    metrics=['mae']  # 評価指標を指定 (例: 平均絶対誤差)\n",
    ")"
   ]
  },
  {
   "cell_type": "code",
   "execution_count": 9,
   "metadata": {},
   "outputs": [
    {
     "ename": "ValueError",
     "evalue": "could not convert string to float: 'アイカワファースト'",
     "output_type": "error",
     "traceback": [
      "\u001b[0;31m---------------------------------------------------------------------------\u001b[0m",
      "\u001b[0;31mValueError\u001b[0m                                Traceback (most recent call last)",
      "Cell \u001b[0;32mIn[9], line 5\u001b[0m\n\u001b[1;32m      3\u001b[0m X_train_trainer \u001b[38;5;241m=\u001b[39m X_train[\u001b[38;5;124m\"\u001b[39m\u001b[38;5;124mTrainer\u001b[39m\u001b[38;5;124m\"\u001b[39m]\u001b[38;5;241m.\u001b[39mvalues\n\u001b[1;32m      4\u001b[0m X_train_numeric \u001b[38;5;241m=\u001b[39m X_train\u001b[38;5;241m.\u001b[39mdrop(columns\u001b[38;5;241m=\u001b[39m[\u001b[38;5;124m\"\u001b[39m\u001b[38;5;124mJockey\u001b[39m\u001b[38;5;124m\"\u001b[39m, \u001b[38;5;124m\"\u001b[39m\u001b[38;5;124mTrainer\u001b[39m\u001b[38;5;124m\"\u001b[39m])\u001b[38;5;241m.\u001b[39mvalues\n\u001b[0;32m----> 5\u001b[0m X_train_numeric \u001b[38;5;241m=\u001b[39m \u001b[43mX_train_numeric\u001b[49m\u001b[38;5;241;43m.\u001b[39;49m\u001b[43mastype\u001b[49m\u001b[43m(\u001b[49m\u001b[38;5;124;43m\"\u001b[39;49m\u001b[38;5;124;43mfloat32\u001b[39;49m\u001b[38;5;124;43m\"\u001b[39;49m\u001b[43m)\u001b[49m\n\u001b[1;32m      7\u001b[0m X_test_jockey \u001b[38;5;241m=\u001b[39m X_test[\u001b[38;5;124m\"\u001b[39m\u001b[38;5;124mJockey\u001b[39m\u001b[38;5;124m\"\u001b[39m]\u001b[38;5;241m.\u001b[39mvalues\n\u001b[1;32m      8\u001b[0m X_test_trainer \u001b[38;5;241m=\u001b[39m X_test[\u001b[38;5;124m\"\u001b[39m\u001b[38;5;124mTrainer\u001b[39m\u001b[38;5;124m\"\u001b[39m]\u001b[38;5;241m.\u001b[39mvalues\n",
      "\u001b[0;31mValueError\u001b[0m: could not convert string to float: 'アイカワファースト'"
     ]
    }
   ],
   "source": [
    "# 6. データの形式をモデルに合わせる\n",
    "X_train_jockey = X_train[\"Jockey\"].values\n",
    "X_train_trainer = X_train[\"Trainer\"].values\n",
    "X_train_numeric = X_train.drop(columns=[\"Jockey\", \"Trainer\"]).values\n",
    "X_train_numeric = X_train_numeric.astype(\"float32\")\n",
    "\n",
    "X_test_jockey = X_test[\"Jockey\"].values\n",
    "X_test_trainer = X_test[\"Trainer\"].values\n",
    "X_test_numeric = X_test.drop(columns=[\"Jockey\", \"Trainer\"]).values\n",
    "X_test_numeric = X_test_numeric.astype(\"float32\")"
   ]
  },
  {
   "cell_type": "code",
   "execution_count": 11,
   "metadata": {},
   "outputs": [
    {
     "name": "stdout",
     "output_type": "stream",
     "text": [
      "object\n"
     ]
    }
   ],
   "source": [
    "# X_train_numericの要素の型を確認\n",
    "print(X_train_numeric.dtype)"
   ]
  },
  {
   "cell_type": "code",
   "execution_count": 12,
   "metadata": {},
   "outputs": [
    {
     "ename": "ValueError",
     "evalue": "Failed to convert a NumPy array to a Tensor (Unsupported object type int).",
     "output_type": "error",
     "traceback": [
      "\u001b[0;31m---------------------------------------------------------------------------\u001b[0m",
      "\u001b[0;31mValueError\u001b[0m                                Traceback (most recent call last)",
      "Cell \u001b[0;32mIn[12], line 2\u001b[0m\n\u001b[1;32m      1\u001b[0m \u001b[38;5;66;03m# 7. モデルの学習\u001b[39;00m\n\u001b[0;32m----> 2\u001b[0m history \u001b[38;5;241m=\u001b[39m \u001b[43mmodel\u001b[49m\u001b[38;5;241;43m.\u001b[39;49m\u001b[43mfit\u001b[49m\u001b[43m(\u001b[49m\u001b[43m \u001b[49m\u001b[38;5;66;43;03m# bnn_model を model に変更\u001b[39;49;00m\n\u001b[1;32m      3\u001b[0m \u001b[43m    \u001b[49m\u001b[43m[\u001b[49m\u001b[43mX_train_jockey\u001b[49m\u001b[43m,\u001b[49m\u001b[43m \u001b[49m\u001b[43mX_train_trainer\u001b[49m\u001b[43m,\u001b[49m\u001b[43m \u001b[49m\u001b[43mX_train_numeric\u001b[49m\u001b[43m]\u001b[49m\u001b[43m,\u001b[49m\n\u001b[1;32m      4\u001b[0m \u001b[43m    \u001b[49m\u001b[43my_train\u001b[49m\u001b[43m,\u001b[49m\n\u001b[1;32m      5\u001b[0m \u001b[43m    \u001b[49m\u001b[43mepochs\u001b[49m\u001b[38;5;241;43m=\u001b[39;49m\u001b[38;5;241;43m50\u001b[39;49m\u001b[43m,\u001b[49m\u001b[43m \u001b[49m\u001b[38;5;66;43;03m# エポック数は必要に応じて調整\u001b[39;49;00m\n\u001b[1;32m      6\u001b[0m \u001b[43m    \u001b[49m\u001b[43mbatch_size\u001b[49m\u001b[38;5;241;43m=\u001b[39;49m\u001b[38;5;241;43m16\u001b[39;49m\u001b[43m,\u001b[49m\u001b[43m \u001b[49m\u001b[38;5;66;43;03m# バッチサイズは必要に応じて調整\u001b[39;49;00m\n\u001b[1;32m      7\u001b[0m \u001b[43m    \u001b[49m\u001b[43mvalidation_data\u001b[49m\u001b[38;5;241;43m=\u001b[39;49m\u001b[43m(\u001b[49m\u001b[43m[\u001b[49m\u001b[43mX_test_jockey\u001b[49m\u001b[43m,\u001b[49m\u001b[43m \u001b[49m\u001b[43mX_test_trainer\u001b[49m\u001b[43m,\u001b[49m\u001b[43m \u001b[49m\u001b[43mX_test_numeric\u001b[49m\u001b[43m]\u001b[49m\u001b[43m,\u001b[49m\u001b[43m \u001b[49m\u001b[43my_test\u001b[49m\u001b[43m)\u001b[49m\n\u001b[1;32m      8\u001b[0m \u001b[43m)\u001b[49m\n",
      "File \u001b[0;32m~/dev/ProjectTeam5/workspace/.venv/lib/python3.10/site-packages/keras/src/utils/traceback_utils.py:122\u001b[0m, in \u001b[0;36mfilter_traceback.<locals>.error_handler\u001b[0;34m(*args, **kwargs)\u001b[0m\n\u001b[1;32m    119\u001b[0m     filtered_tb \u001b[38;5;241m=\u001b[39m _process_traceback_frames(e\u001b[38;5;241m.\u001b[39m__traceback__)\n\u001b[1;32m    120\u001b[0m     \u001b[38;5;66;03m# To get the full stack trace, call:\u001b[39;00m\n\u001b[1;32m    121\u001b[0m     \u001b[38;5;66;03m# `keras.config.disable_traceback_filtering()`\u001b[39;00m\n\u001b[0;32m--> 122\u001b[0m     \u001b[38;5;28;01mraise\u001b[39;00m e\u001b[38;5;241m.\u001b[39mwith_traceback(filtered_tb) \u001b[38;5;28;01mfrom\u001b[39;00m \u001b[38;5;28;01mNone\u001b[39;00m\n\u001b[1;32m    123\u001b[0m \u001b[38;5;28;01mfinally\u001b[39;00m:\n\u001b[1;32m    124\u001b[0m     \u001b[38;5;28;01mdel\u001b[39;00m filtered_tb\n",
      "File \u001b[0;32m~/dev/ProjectTeam5/workspace/.venv/lib/python3.10/site-packages/tensorflow/python/framework/constant_op.py:108\u001b[0m, in \u001b[0;36mconvert_to_eager_tensor\u001b[0;34m(value, ctx, dtype)\u001b[0m\n\u001b[1;32m    106\u001b[0m     dtype \u001b[38;5;241m=\u001b[39m dtypes\u001b[38;5;241m.\u001b[39mas_dtype(dtype)\u001b[38;5;241m.\u001b[39mas_datatype_enum\n\u001b[1;32m    107\u001b[0m ctx\u001b[38;5;241m.\u001b[39mensure_initialized()\n\u001b[0;32m--> 108\u001b[0m \u001b[38;5;28;01mreturn\u001b[39;00m \u001b[43mops\u001b[49m\u001b[38;5;241;43m.\u001b[39;49m\u001b[43mEagerTensor\u001b[49m\u001b[43m(\u001b[49m\u001b[43mvalue\u001b[49m\u001b[43m,\u001b[49m\u001b[43m \u001b[49m\u001b[43mctx\u001b[49m\u001b[38;5;241;43m.\u001b[39;49m\u001b[43mdevice_name\u001b[49m\u001b[43m,\u001b[49m\u001b[43m \u001b[49m\u001b[43mdtype\u001b[49m\u001b[43m)\u001b[49m\n",
      "\u001b[0;31mValueError\u001b[0m: Failed to convert a NumPy array to a Tensor (Unsupported object type int)."
     ]
    }
   ],
   "source": [
    "# 7. モデルの学習\n",
    "history = model.fit( # bnn_model を model に変更\n",
    "    [X_train_jockey, X_train_trainer, X_train_numeric],\n",
    "    y_train,\n",
    "    epochs=50, # エポック数は必要に応じて調整\n",
    "    batch_size=16, # バッチサイズは必要に応じて調整\n",
    "    validation_data=([X_test_jockey, X_test_trainer, X_test_numeric], y_test)\n",
    ")"
   ]
  },
  {
   "cell_type": "code",
   "execution_count": null,
   "metadata": {},
   "outputs": [],
   "source": [
    "\n",
    "# 8. 評価\n",
    "loss, mae = bnn_model.evaluate([X_test_jockey, X_test_trainer, X_test_numeric], y_test)\n",
    "print(f\"Mean Absolute Error: {mae}\")"
   ]
  }
 ],
 "metadata": {
  "kernelspec": {
   "display_name": "jupyter-kernel",
   "language": "python",
   "name": "jupyter-kernel"
  },
  "language_info": {
   "codemirror_mode": {
    "name": "ipython",
    "version": 3
   },
   "file_extension": ".py",
   "mimetype": "text/x-python",
   "name": "python",
   "nbconvert_exporter": "python",
   "pygments_lexer": "ipython3",
   "version": "3.10.12"
  }
 },
 "nbformat": 4,
 "nbformat_minor": 2
}
