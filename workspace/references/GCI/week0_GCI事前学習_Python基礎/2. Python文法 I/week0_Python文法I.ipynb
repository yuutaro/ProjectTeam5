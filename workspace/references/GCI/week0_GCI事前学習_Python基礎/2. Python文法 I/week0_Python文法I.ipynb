{
 "cells": [
  {
   "cell_type": "markdown",
   "metadata": {
    "id": "kaY17pI-Lj0K"
   },
   "source": [
    "# Python文法 I"
   ]
  },
  {
   "cell_type": "markdown",
   "metadata": {
    "id": "Ul713RAJNQzu"
   },
   "source": [
    "# 1.1.演算子"
   ]
  },
  {
   "cell_type": "markdown",
   "metadata": {
    "id": "ZQFnR-QrT2NQ"
   },
   "source": [
    "## 1.1.1.算術演算子"
   ]
  },
  {
   "cell_type": "markdown",
   "metadata": {
    "id": "wg-lASByOxLz"
   },
   "source": [
    "プログラミングでは、計算処理を指示する**演算子**によって新たな値に評価されます。特に、足し算や引き算などの算術演算子は、数学のように数値間に置いて計算します。Pythonでは、足し算や引き算は数学の記号と共通しますが、掛け算や割り算、べき乗は特有の記号となります。"
   ]
  },
  {
   "cell_type": "code",
   "execution_count": 1,
   "metadata": {
    "colab": {
     "base_uri": "https://localhost:8080/"
    },
    "executionInfo": {
     "elapsed": 3,
     "status": "ok",
     "timestamp": 1718029671705,
     "user": {
      "displayName": "chika WADA",
      "userId": "00008858618791052031"
     },
     "user_tz": -540
    },
    "id": "fVJ-sEFtOvT4",
    "outputId": "a8deb824-ff1c-4abe-8d73-0a1878360dbb"
   },
   "outputs": [
    {
     "name": "stdout",
     "output_type": "stream",
     "text": [
      "2\n"
     ]
    }
   ],
   "source": [
    "# 足し算\n",
    "print(1 + 1)"
   ]
  },
  {
   "cell_type": "code",
   "execution_count": 2,
   "metadata": {
    "colab": {
     "base_uri": "https://localhost:8080/"
    },
    "executionInfo": {
     "elapsed": 2,
     "status": "ok",
     "timestamp": 1710210472954,
     "user": {
      "displayName": "Naoki OKADA",
      "userId": "05017568085796783607"
     },
     "user_tz": -540
    },
    "id": "_MWElYsCO05s",
    "outputId": "36a959f1-86ba-436d-8e8a-a0d8f96217a1"
   },
   "outputs": [
    {
     "name": "stdout",
     "output_type": "stream",
     "text": [
      "0\n"
     ]
    }
   ],
   "source": [
    "# 引き算\n",
    "print(1 - 1)"
   ]
  },
  {
   "cell_type": "code",
   "execution_count": 3,
   "metadata": {
    "colab": {
     "base_uri": "https://localhost:8080/"
    },
    "executionInfo": {
     "elapsed": 255,
     "status": "ok",
     "timestamp": 1709454140836,
     "user": {
      "displayName": "Shigata",
      "userId": "16727431493383987762"
     },
     "user_tz": -540
    },
    "id": "zkHkngJ_O3Ye",
    "outputId": "c8142d00-0f0d-4f4f-8e05-a7465fc6dcdc"
   },
   "outputs": [
    {
     "name": "stdout",
     "output_type": "stream",
     "text": [
      "6\n"
     ]
    }
   ],
   "source": [
    "# 掛け算\n",
    "print(3 * 2)"
   ]
  },
  {
   "cell_type": "code",
   "execution_count": 4,
   "metadata": {
    "colab": {
     "base_uri": "https://localhost:8080/"
    },
    "executionInfo": {
     "elapsed": 290,
     "status": "ok",
     "timestamp": 1709454143802,
     "user": {
      "displayName": "Shigata",
      "userId": "16727431493383987762"
     },
     "user_tz": -540
    },
    "id": "ofIOKV25Pp8e",
    "outputId": "db98cc11-1ffa-43aa-a9fe-58b474564c43"
   },
   "outputs": [
    {
     "name": "stdout",
     "output_type": "stream",
     "text": [
      "1.5\n"
     ]
    }
   ],
   "source": [
    "# 割り算\n",
    "print(3 / 2)"
   ]
  },
  {
   "cell_type": "code",
   "execution_count": 5,
   "metadata": {
    "colab": {
     "base_uri": "https://localhost:8080/"
    },
    "executionInfo": {
     "elapsed": 300,
     "status": "ok",
     "timestamp": 1709454146970,
     "user": {
      "displayName": "Shigata",
      "userId": "16727431493383987762"
     },
     "user_tz": -540
    },
    "id": "JaHodWYTPycC",
    "outputId": "e396cd63-d920-4990-e411-0c0f85dc1e25"
   },
   "outputs": [
    {
     "name": "stdout",
     "output_type": "stream",
     "text": [
      "2\n"
     ]
    }
   ],
   "source": [
    "# 割り算（整数部）\n",
    "print(5//2)"
   ]
  },
  {
   "cell_type": "code",
   "execution_count": 6,
   "metadata": {
    "colab": {
     "base_uri": "https://localhost:8080/"
    },
    "executionInfo": {
     "elapsed": 253,
     "status": "ok",
     "timestamp": 1709454179655,
     "user": {
      "displayName": "Shigata",
      "userId": "16727431493383987762"
     },
     "user_tz": -540
    },
    "id": "vw3RAtmVQMKc",
    "outputId": "cbe5a3eb-fb38-4331-d4c2-e0c532b823e8"
   },
   "outputs": [
    {
     "name": "stdout",
     "output_type": "stream",
     "text": [
      "1\n"
     ]
    }
   ],
   "source": [
    "# 割り算（余り部）\n",
    "print(5%2)"
   ]
  },
  {
   "cell_type": "code",
   "execution_count": 7,
   "metadata": {
    "colab": {
     "base_uri": "https://localhost:8080/"
    },
    "executionInfo": {
     "elapsed": 252,
     "status": "ok",
     "timestamp": 1709454188305,
     "user": {
      "displayName": "Shigata",
      "userId": "16727431493383987762"
     },
     "user_tz": -540
    },
    "id": "fGQrQl3BQcFo",
    "outputId": "355a117d-67ff-4375-88f0-b67ef255b7bc"
   },
   "outputs": [
    {
     "name": "stdout",
     "output_type": "stream",
     "text": [
      "25\n"
     ]
    }
   ],
   "source": [
    "# べき乗\n",
    "print(5 ** 2)"
   ]
  },
  {
   "cell_type": "markdown",
   "metadata": {
    "id": "oe2VdUgeUD7L"
   },
   "source": [
    "## 1.1.2. 算術演算子の優先度"
   ]
  },
  {
   "cell_type": "markdown",
   "metadata": {
    "id": "JFin85KrPpqS"
   },
   "source": [
    "演算子が複数ある場合、優先度の高い演算子順に評価されます。算術演算子の優先度は、べき乗 > 掛け算・割り算 > 足し算・引き算の順となっており、数学のように足し算より掛け算の優先度が高く、「()」により優先度が変更します。"
   ]
  },
  {
   "cell_type": "code",
   "execution_count": 8,
   "metadata": {
    "colab": {
     "base_uri": "https://localhost:8080/"
    },
    "executionInfo": {
     "elapsed": 501,
     "status": "ok",
     "timestamp": 1710210490824,
     "user": {
      "displayName": "Naoki OKADA",
      "userId": "05017568085796783607"
     },
     "user_tz": -540
    },
    "id": "zo4CgegxQ4DR",
    "outputId": "e730ccc0-39c0-442a-d4c1-030a98a9b3c5"
   },
   "outputs": [
    {
     "name": "stdout",
     "output_type": "stream",
     "text": [
      "7\n"
     ]
    }
   ],
   "source": [
    "# 優先度：掛け算＞足し算\n",
    "print(1 + 2 * 3)"
   ]
  },
  {
   "cell_type": "code",
   "execution_count": 9,
   "metadata": {
    "colab": {
     "base_uri": "https://localhost:8080/"
    },
    "executionInfo": {
     "elapsed": 278,
     "status": "ok",
     "timestamp": 1709454247680,
     "user": {
      "displayName": "Shigata",
      "userId": "16727431493383987762"
     },
     "user_tz": -540
    },
    "id": "u3vcJgJiRTJt",
    "outputId": "bb6a7b71-6cf6-486f-baae-13b3c33bf8a9"
   },
   "outputs": [
    {
     "name": "stdout",
     "output_type": "stream",
     "text": [
      "9\n"
     ]
    }
   ],
   "source": [
    "# 優先度：かっこ内の足し算＞掛け算\n",
    "print((1 + 2) * 3)"
   ]
  },
  {
   "cell_type": "code",
   "execution_count": 10,
   "metadata": {
    "colab": {
     "base_uri": "https://localhost:8080/"
    },
    "executionInfo": {
     "elapsed": 245,
     "status": "ok",
     "timestamp": 1709454257350,
     "user": {
      "displayName": "Shigata",
      "userId": "16727431493383987762"
     },
     "user_tz": -540
    },
    "id": "Zshe0KPdQ-P3",
    "outputId": "563d4479-8202-4c6c-b721-e28a723b7766"
   },
   "outputs": [
    {
     "name": "stdout",
     "output_type": "stream",
     "text": [
      "3\n"
     ]
    }
   ],
   "source": [
    "# 優先度：べき乗＞掛け算\n",
    "print(1 ** 2 * 3)"
   ]
  },
  {
   "cell_type": "markdown",
   "metadata": {
    "id": "7TGjC-SzQ-YK"
   },
   "source": [
    "# 1.2.変数"
   ]
  },
  {
   "cell_type": "markdown",
   "metadata": {
    "id": "9sWKqfMNQ-YK"
   },
   "source": [
    "次に**変数**について説明します。変数とは、式の計算結果を保存しておく箱のようなものです。\n",
    "\n",
    "変数に値を保存することを**代入**と言い、その値を取り出して利用することを**参照**と言います。数字だけでなく、様々なデータ型の値を代入できます。(※3.データ型)\n",
    "\n",
    "下の例では**変数名**が`x`である変数を使っています。\n",
    "\n",
    "プログラミング言語において`=`は「等しい」という意味ではなく、右辺の値を左辺に「代入する」という意味で使います。"
   ]
  },
  {
   "cell_type": "code",
   "execution_count": 11,
   "metadata": {
    "id": "_aGMIZ1WQ-YK"
   },
   "outputs": [
    {
     "name": "stdout",
     "output_type": "stream",
     "text": [
      "1\n"
     ]
    }
   ],
   "source": [
    "# xに1を代入し、xを参照する\n",
    "x = 1\n",
    "print(x)"
   ]
  },
  {
   "cell_type": "code",
   "execution_count": 12,
   "metadata": {
    "id": "49t74M46I5uq"
   },
   "outputs": [
    {
     "name": "stdout",
     "output_type": "stream",
     "text": [
      "Hello\n"
     ]
    }
   ],
   "source": [
    "word = \"Hello\"\n",
    "print(word)"
   ]
  },
  {
   "cell_type": "markdown",
   "metadata": {
    "id": "YoWlbFPsQ-YK"
   },
   "source": [
    "一度保存した値は何度でも利用することができ、上書きされるまで残り続けます。変数の値を上書きすることを**再代入**といいます。再代入のときも代入と同様に書くことができます。\n",
    "自分自身を使って再代入することも可能です。"
   ]
  },
  {
   "cell_type": "code",
   "execution_count": 13,
   "metadata": {
    "id": "lFsr3_WjQ-YL"
   },
   "outputs": [
    {
     "name": "stdout",
     "output_type": "stream",
     "text": [
      "2\n"
     ]
    }
   ],
   "source": [
    "# xに2を再代入する\n",
    "x = 1\n",
    "x = 2\n",
    "print(x)"
   ]
  },
  {
   "cell_type": "code",
   "execution_count": 14,
   "metadata": {
    "id": "biXQapk9Q-YL"
   },
   "outputs": [
    {
     "name": "stdout",
     "output_type": "stream",
     "text": [
      "2\n"
     ]
    }
   ],
   "source": [
    "# x+1をxに再代入する\n",
    "x = 1\n",
    "x = x + 1\n",
    "print(x)"
   ]
  },
  {
   "cell_type": "markdown",
   "metadata": {
    "id": "iKzYdJiyQ-YL"
   },
   "source": [
    "直前の例の2行目について説明します。ここではまず右辺の`x+1`を計算し、そしてその結果を左辺の`x`に代入する、という処理を行います。右辺の計算をする時点で`x`の値は1なので、右辺の計算結果が2となり、左辺の`x`に2が代入されます。つまり、自分自身に1を足していると解釈できます。このように、変数の値を更新しながら計算を進めていくというのはよくあることです。"
   ]
  },
  {
   "cell_type": "markdown",
   "metadata": {
    "id": "jm8T2fjwK88P"
   },
   "source": []
  },
  {
   "cell_type": "markdown",
   "metadata": {
    "id": "vEfhTDBFWlQa"
   },
   "source": [
    "# 1.3.データ型"
   ]
  },
  {
   "cell_type": "markdown",
   "metadata": {
    "id": "LFdtwV5DWtEY"
   },
   "source": [
    "プログラムで扱う値の種類を**データ型**と言います。主なデータ型には、int型(整数)とfloat型(小数)、str型(文字列)、bool型(真偽値)などがあります。変数に代入した値のデータ型は、type関数で調べられます。type関数では、かっこ内に変数を入力すると変数のデータ型が出力されます。\n"
   ]
  },
  {
   "cell_type": "markdown",
   "metadata": {
    "id": "XQMISR-67Qz7"
   },
   "source": [
    "### 1.3.1. int型（整数）とfloat型（小数）\n",
    "\n",
    "数値を扱えるのがint型とfloat型です。数値に小数点を入れて代入するとfloat型となります。\n",
    "\n",
    "int型とfloat型の演算やint型同士の割り算では、出力がfloat型になります。"
   ]
  },
  {
   "cell_type": "code",
   "execution_count": 15,
   "metadata": {
    "colab": {
     "base_uri": "https://localhost:8080/"
    },
    "executionInfo": {
     "elapsed": 24,
     "status": "ok",
     "timestamp": 1709803468056,
     "user": {
      "displayName": "Shigata",
      "userId": "16727431493383987762"
     },
     "user_tz": -540
    },
    "id": "nbcZ7h8v7dGH",
    "outputId": "8b6bb822-d9fe-4cf5-bcd3-89fead9f3537"
   },
   "outputs": [
    {
     "name": "stdout",
     "output_type": "stream",
     "text": [
      "<class 'int'>\n",
      "<class 'float'>\n",
      "<class 'float'>\n",
      "<class 'float'>\n"
     ]
    }
   ],
   "source": [
    "# int型（整数）\n",
    "num = 1\n",
    "print(type(num))\n",
    "\n",
    "# float型（小数）\n",
    "num = 1.0\n",
    "print(type(num))\n",
    "\n",
    "#int型とfloat型の演算 -> float型\n",
    "num = 1 + 1.0\n",
    "print(type(num))\n",
    "\n",
    "#int型同士の割り算\n",
    "num = 1 / 1\n",
    "print(type(num))"
   ]
  },
  {
   "cell_type": "markdown",
   "metadata": {
    "id": "2UuVEtnU7OV4"
   },
   "source": [
    "### 1.3.2. str型（文字列）"
   ]
  },
  {
   "cell_type": "markdown",
   "metadata": {
    "id": "X_JRU5DW-WWM"
   },
   "source": [
    "str型は、文字列を扱うデータ型です。str型は、変数へ代入時にシングルクオーテーション「''」、または、ダブルクォーテーション「\"\"」で囲むことでstr型となります。数値の足し算の演算子をstr型に適用すると文字列の結合となります。また、文字列の長さを調べるのにlen関数が利用できます。"
   ]
  },
  {
   "cell_type": "code",
   "execution_count": 16,
   "metadata": {
    "colab": {
     "base_uri": "https://localhost:8080/"
    },
    "executionInfo": {
     "elapsed": 20,
     "status": "ok",
     "timestamp": 1709803468057,
     "user": {
      "displayName": "Shigata",
      "userId": "16727431493383987762"
     },
     "user_tz": -540
    },
    "id": "J-14BOd_8as1",
    "outputId": "aa50aa1f-b884-4160-db8d-c79e59a95f4f"
   },
   "outputs": [
    {
     "name": "stdout",
     "output_type": "stream",
     "text": [
      "<class 'str'>\n",
      "Python\n",
      "6\n"
     ]
    }
   ],
   "source": [
    "#文字列の代入\n",
    "string = 'Python'\n",
    "print(type(string))\n",
    "\n",
    "# 文字列の結合\n",
    "str1 = 'Py'\n",
    "str2 = 'thon'\n",
    "print(str1+str2)\n",
    "\n",
    "# 文字列の長さ\n",
    "print(len(string))"
   ]
  },
  {
   "cell_type": "markdown",
   "metadata": {
    "id": "y3qGpLdg8Zap"
   },
   "source": [
    "### 1.3.3. bool型\n",
    "\n",
    "bool型には、TrueとFlaseの2つがあり、真偽値と言います。bool型は「はい」と「いいえ」のような2値で条件確認に利用できます（Python文法Ⅱ）。"
   ]
  },
  {
   "cell_type": "code",
   "execution_count": 17,
   "metadata": {
    "colab": {
     "base_uri": "https://localhost:8080/"
    },
    "executionInfo": {
     "elapsed": 16,
     "status": "ok",
     "timestamp": 1709803468057,
     "user": {
      "displayName": "Shigata",
      "userId": "16727431493383987762"
     },
     "user_tz": -540
    },
    "id": "5UqSloLD8euf",
    "outputId": "d4d2d56a-e7b9-4d44-a093-21dd7becd39e"
   },
   "outputs": [
    {
     "name": "stdout",
     "output_type": "stream",
     "text": [
      "<class 'bool'>\n",
      "<class 'bool'>\n"
     ]
    }
   ],
   "source": [
    "yes = True\n",
    "print(type(yes))\n",
    "\n",
    "no = False\n",
    "print(type(no))"
   ]
  },
  {
   "cell_type": "markdown",
   "metadata": {
    "id": "S0Vn0M7e7qt5"
   },
   "source": [
    "## 1.3.4. 型変換\n",
    "\n",
    "変数に代入した値のデータ型を変えることを**型変換**と言います。int型への型変換はint関数が用意されています。そのほかにもfloat関数やstr関数、bool関数などがあります。\n",
    "\n",
    "float関数にint型を入力すると整数部のみが出力されます。また、'abc'などの文字をintやfloat関数に入力するとエラーとなるため注意が必要です。"
   ]
  },
  {
   "cell_type": "code",
   "execution_count": 18,
   "metadata": {
    "colab": {
     "base_uri": "https://localhost:8080/"
    },
    "executionInfo": {
     "elapsed": 14,
     "status": "ok",
     "timestamp": 1709803468057,
     "user": {
      "displayName": "Shigata",
      "userId": "16727431493383987762"
     },
     "user_tz": -540
    },
    "id": "wFVwyabEi-Cl",
    "outputId": "92351df5-738e-417d-ecf4-ba07af842a64"
   },
   "outputs": [
    {
     "name": "stdout",
     "output_type": "stream",
     "text": [
      "3.14\n",
      "<class 'str'>\n",
      "3.14\n",
      "<class 'float'>\n",
      "3\n",
      "<class 'int'>\n"
     ]
    }
   ],
   "source": [
    "# str型->float型->int型への型変換\n",
    "\n",
    "string = '3.14'\n",
    "print(string)\n",
    "print(type(string))\n",
    "\n",
    "str2float = float(string)\n",
    "print(str2float)\n",
    "print(type(str2float))\n",
    "\n",
    "float2int = int(str2float)\n",
    "print(float2int)\n",
    "print(type(float2int))"
   ]
  },
  {
   "cell_type": "markdown",
   "metadata": {
    "id": "RCMugELwkTYS"
   },
   "source": [
    "応用的な利用方法にbool型の数値への変換があります。TrueとFlaseを数値に変換するとそれぞれ1と0になり、逆に0と0以外の数値をbool型に変換するとそれぞれFalseとTrueとなります。"
   ]
  },
  {
   "cell_type": "code",
   "execution_count": 19,
   "metadata": {
    "colab": {
     "base_uri": "https://localhost:8080/"
    },
    "executionInfo": {
     "elapsed": 13,
     "status": "ok",
     "timestamp": 1709803468057,
     "user": {
      "displayName": "Shigata",
      "userId": "16727431493383987762"
     },
     "user_tz": -540
    },
    "id": "IVKl-kjwkWZo",
    "outputId": "2fbf8589-7f13-4fc2-e7a8-4a9ddc429758"
   },
   "outputs": [
    {
     "name": "stdout",
     "output_type": "stream",
     "text": [
      "1\n",
      "0\n",
      "True\n",
      "False\n"
     ]
    }
   ],
   "source": [
    "# True  ->  int()   -> 1\n",
    "print(int(True))\n",
    "\n",
    "# False ->  int()   -> 0\n",
    "print(int(False))\n",
    "\n",
    "#     2 ->  bool()  -> True\n",
    "print(bool(2))\n",
    "\n",
    "#   0.0 ->  bool()  -> False\n",
    "print(bool(0.0))"
   ]
  },
  {
   "cell_type": "code",
   "execution_count": 20,
   "metadata": {
    "colab": {
     "base_uri": "https://localhost:8080/"
    },
    "executionInfo": {
     "elapsed": 11,
     "status": "ok",
     "timestamp": 1709803468057,
     "user": {
      "displayName": "Shigata",
      "userId": "16727431493383987762"
     },
     "user_tz": -540
    },
    "id": "HPMoSpTYkdIk",
    "outputId": "24800260-2248-4489-d000-71e80cde67f7"
   },
   "outputs": [
    {
     "name": "stdout",
     "output_type": "stream",
     "text": [
      "True\n"
     ]
    }
   ],
   "source": [
    "#変数numは、奇数（2で割り切れない）か？　->　Trueなら奇数、Flaseなら偶数。\n",
    "num = 5\n",
    "is_odd = bool(num%2)\n",
    "print(is_odd)"
   ]
  },
  {
   "cell_type": "markdown",
   "metadata": {
    "id": "cs0ZJFp8SpAi"
   },
   "source": [
    "## 1.3.5 練習問題(1)"
   ]
  },
  {
   "cell_type": "markdown",
   "metadata": {
    "id": "tR9ziuZ-SwnM"
   },
   "source": [
    "(1) 変数`x`に整数が格納されているとします。`x`が偶数ならば0、奇数ならば1を表示(print)するプログラムを作成してください。"
   ]
  },
  {
   "cell_type": "code",
   "execution_count": 21,
   "metadata": {
    "id": "9vUf_IyfWERM"
   },
   "outputs": [],
   "source": [
    "# 入力例\n",
    "x = 1"
   ]
  },
  {
   "cell_type": "code",
   "execution_count": 22,
   "metadata": {
    "id": "xMbZryudWNHs"
   },
   "outputs": [],
   "source": [
    "# write me!"
   ]
  },
  {
   "cell_type": "markdown",
   "metadata": {
    "id": "3-Wy5D9K0tkB"
   },
   "source": [
    "(2) 身長height、体重weightからBMIを計算するプログラムを作成してください。"
   ]
  },
  {
   "cell_type": "code",
   "execution_count": 23,
   "metadata": {
    "id": "dNipaCgS1swK"
   },
   "outputs": [
    {
     "ename": "SyntaxError",
     "evalue": "invalid syntax (1369824445.py, line 5)",
     "output_type": "error",
     "traceback": [
      "\u001b[0;36m  Cell \u001b[0;32mIn[23], line 5\u001b[0;36m\u001b[0m\n\u001b[0;31m    bmi = # write me\u001b[0m\n\u001b[0m          ^\u001b[0m\n\u001b[0;31mSyntaxError\u001b[0m\u001b[0;31m:\u001b[0m invalid syntax\n"
     ]
    }
   ],
   "source": [
    "# 入力例\n",
    "weight = 50 # kg\n",
    "height = 165 # cm\n",
    "\n",
    "bmi = # write me\n",
    "print(bmi)"
   ]
  },
  {
   "cell_type": "markdown",
   "metadata": {
    "id": "cf1Qx1S50Ffs"
   },
   "source": [
    "# 補足事項：変数名の決め方"
   ]
  },
  {
   "cell_type": "markdown",
   "metadata": {
    "id": "RfQppwlRsE4k"
   },
   "source": [
    "変数名の決め方は自由ですが、基本的に英数字と_（アンダーバー）で構成するのが一般的です。aやbだけの文字にもできますが、意味のある文字列にする方が自身や他者にとっても変数の中身を理解しやすくなります。しかし、一部使用できない変数名があるので注意が必要です。例えば、変数名の最初には数値を使用できません。また、予約語と呼ばれるプログラムに事前に用意されている単語（例：class、if、forなど）は使用できません。変数名にできない例を以下に示します。下記のような変数名で実行するとエラーとなります。"
   ]
  },
  {
   "cell_type": "markdown",
   "metadata": {
    "id": "apDJu69SvRJ_"
   },
   "source": [
    "```python\n",
    "'''\n",
    "※変数名にできない例※\n",
    "'''\n",
    "#変数名の頭文字が数値\n",
    "2024_data = 1000\n",
    "\n",
    "#変数名に予約語を使用\n",
    "class = 'A'\n",
    "\n",
    "```"
   ]
  },
  {
   "cell_type": "markdown",
   "metadata": {
    "id": "ufAKZ65fztW2"
   },
   "source": [
    "なお、予約語は次のコードを実行すると確認できます。"
   ]
  },
  {
   "cell_type": "code",
   "execution_count": null,
   "metadata": {
    "colab": {
     "base_uri": "https://localhost:8080/"
    },
    "id": "FF4cbyILu2gn",
    "outputId": "2dc656b8-2ec9-447c-ecf3-1022e203efe9"
   },
   "outputs": [],
   "source": [
    "import keyword\n",
    "print(keyword.kwlist)"
   ]
  }
 ],
 "metadata": {
  "colab": {
   "provenance": []
  },
  "kernelspec": {
   "display_name": "Python 3 (ipykernel)",
   "language": "python",
   "name": "python3"
  },
  "language_info": {
   "codemirror_mode": {
    "name": "ipython",
    "version": 3
   },
   "file_extension": ".py",
   "mimetype": "text/x-python",
   "name": "python",
   "nbconvert_exporter": "python",
   "pygments_lexer": "ipython3",
   "version": "3.9.20"
  }
 },
 "nbformat": 4,
 "nbformat_minor": 4
}
