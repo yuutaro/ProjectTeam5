{
  "nbformat": 4,
  "nbformat_minor": 0,
  "metadata": {
    "colab": {
      "provenance": []
    },
    "kernelspec": {
      "display_name": "Python 3",
      "language": "python",
      "name": "python3"
    },
    "language_info": {
      "codemirror_mode": {
        "name": "ipython",
        "version": 3
      },
      "file_extension": ".py",
      "mimetype": "text/x-python",
      "name": "python",
      "nbconvert_exporter": "python",
      "pygments_lexer": "ipython3",
      "version": "3.8.5"
    }
  },
  "cells": [
    {
      "cell_type": "markdown",
      "metadata": {
        "id": "93cl9JWr_5nm"
      },
      "source": [
        "## Homework6\n",
        "Chapter6の講義資料などで扱った購買データを利用して以下の問いに答えて、課題を提出してください。（データの前処理は、以下の記載の通りに行ってください。）\n",
        "    \n",
        "Chapter6の講義資料の総合問題6-1で求めた最も支持度が高かった商品の2つの組み合わせについて、**リフト値**を求めてください。  \n",
        "最も支持度が高かった商品の`\"StockCode\"`を、再度求める必要は無く、コード内で直接記入してください。  \n",
        "<b>`\"StockCode\"`のデータは事前に文字列に変換してあります．</b>\n",
        "\n",
        "\n",
        "\n",
        "提出するときは、以下の点に注意してください。  \n",
        ">- 以下の関数`homework`の`!!WRITE ME!!`に処理を書いてください。(**「`!!WRITE ME!!`」は消して、記入してください。**)\n",
        ">- 実際の提出は記述された`homework`関数全てになり、**提出はOmnicampus内の宿題の欄から今週の課題を選択後、提出内容に関数を貼り付けてから[Pythonコード提出]を押してください。**\n",
        ">- `#common`のセルで事前に前処理されたデータ`target_online_retail_data_tb`をそのまま用いてください。\n",
        ">- 返り値が数値型になるようにしてください。  "
      ]
    },
    {
      "cell_type": "markdown",
      "source": [
        "変更されたURLを使用する場合"
      ],
      "metadata": {
        "id": "z3tMSXUOk26w"
      }
    },
    {
      "cell_type": "code",
      "metadata": {
        "id": "thHL7HyXBXvS"
      },
      "source": [
        "import pandas as pd\n",
        "import numpy as np\n",
        "import requests, zipfile\n",
        "import os, io\n",
        "\n",
        "file_url = \"http://archive.ics.uci.edu/static/public/352/online+retail.zip\"\n",
        "file_name = \"Online Retail.xlsx\"\n",
        "\n",
        "# データをurlから取得\n",
        "r = requests.get(file_url, stream=True)\n",
        "\n",
        "# zipfile内のファイルをカレントディレクトリ内のdataディレクトリに展開\n",
        "with zipfile.ZipFile(io.BytesIO(r.content)) as existing_zip:\n",
        "    existing_zip.extract(file_name, 'data')\n",
        "\n",
        "# ファイルが存在するディレクトリ\n",
        "data_dir = './data'\n",
        "\n",
        "# ファイルのpathを取得\n",
        "path = os.path.join(data_dir, file_name)\n",
        "\n",
        "online_retail_data_table = pd.ExcelFile(path)\n",
        "online_retail_data_table = online_retail_data_table.parse('Online Retail')\n",
        "\n",
        "online_retail_data_table['cancel_flg'] = online_retail_data_table.InvoiceNo.map(lambda x:str(x)[0])\n",
        "online_retail_data_table[\"StockCode\"] = online_retail_data_table[\"StockCode\"].astype(str)\n",
        "\n",
        "# 数字があるものとIDがNullでないものが対象\n",
        "target_online_retail_data_tb = online_retail_data_table[(online_retail_data_table.cancel_flg == '5')\n",
        "                                                        & (online_retail_data_table.CustomerID.notnull())]\n",
        "\n",
        "target_online_retail_data_tb = target_online_retail_data_tb.assign(TotalPrice=target_online_retail_data_tb.Quantity * target_online_retail_data_tb.UnitPrice)"
      ],
      "execution_count": null,
      "outputs": []
    },
    {
      "cell_type": "markdown",
      "source": [
        "csvファイルを使用する場合（事前にonline_retail.csvをdrive上にアップロードしてください）"
      ],
      "metadata": {
        "id": "OoMhsNZik9gl"
      }
    },
    {
      "cell_type": "code",
      "source": [
        "from google.colab import drive\n",
        "drive.mount('/content/drive')"
      ],
      "metadata": {
        "id": "_4xXXzZ6kr4i"
      },
      "execution_count": null,
      "outputs": []
    },
    {
      "cell_type": "code",
      "source": [
        "import pandas as pd\n",
        "import numpy as np\n",
        "\n",
        "online_retail_data_table = pd.read_csv(\"online_retail.csvまでのpathを指定してください\")\n",
        "\n",
        "online_retail_data_table['cancel_flg'] = online_retail_data_table.InvoiceNo.map(lambda x:str(x)[0])\n",
        "online_retail_data_table[\"StockCode\"] = online_retail_data_table[\"StockCode\"].astype(str)\n",
        "\n",
        "# 数字があるものとIDがNullでないものが対象\n",
        "target_online_retail_data_tb = online_retail_data_table[(online_retail_data_table.cancel_flg == '5')\n",
        "                                                        & (online_retail_data_table.CustomerID.notnull())]\n",
        "\n",
        "target_online_retail_data_tb = target_online_retail_data_tb.assign(TotalPrice=target_online_retail_data_tb.Quantity * target_online_retail_data_tb.UnitPrice)"
      ],
      "metadata": {
        "id": "hKgA8u4ikQkT"
      },
      "execution_count": null,
      "outputs": []
    },
    {
      "cell_type": "code",
      "metadata": {
        "colab": {
          "background_save": true
        },
        "id": "2LO2_UoXl3Ed"
      },
      "source": [
        "# working place. everything\n",
        "def homework(target_online_retail_data_tb):\n",
        "    !!WRITE ME!!\n",
        "    return my_result"
      ],
      "execution_count": null,
      "outputs": []
    },
    {
      "cell_type": "markdown",
      "metadata": {
        "id": "6NA4IAELE9cw"
      },
      "source": [
        "**謝辞**：以下のデータセットの利用に関して  \n",
        "http://archive.ics.uci.edu/static/public/352/online+retail.zip\n",
        "\n",
        "引用元：Markelle Kelly, Rachel Longjohn, Kolby Nottingham,\n",
        "The UCI Machine Learning Repository, https://archive.ics.uci.edu\n",
        "\n",
        "Daqing Chen, Sai Liang Sain, and Kun Guo, Data mining for the online retail industry: A case study of RFM model-based customer segmentation using data mining, Journal of Database Marketing and Customer Strategy Management, Vol. 19, No. 3, pp. 197â€“208, 2012 (Published online before print: 27 August 2012. doi: 10.1057/dbm.2012.17)."
      ]
    },
    {
      "cell_type": "code",
      "source": [],
      "metadata": {
        "id": "rynky68JlbhW"
      },
      "execution_count": null,
      "outputs": []
    }
  ]
}