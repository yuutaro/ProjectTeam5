{
  "cells": [
    {
      "cell_type": "markdown",
      "metadata": {
        "id": "xC21qT6mwuuc"
      },
      "source": [
        "# 7.SQL( データベースとSQLの基礎)"
      ]
    },
    {
      "cell_type": "markdown",
      "metadata": {
        "id": "1Y1OEt3ywuuh"
      },
      "source": [
        "- **[7.1 この章の概要](#7.1-この章の概要)**\n",
        "    - [7.1.1 データベースとは](#7.1.1-データベースとは)\n",
        "    - [7.1.2 RDBMS](#7.1.2-RDBMS)\n",
        "<br><br>\n",
        "- **[7.2 SQLの基礎](#7.2-SQLの基礎)**\n",
        "    - [7.2.1 データベースとテーブルの作成](#7.2.1-データベースとテーブルの作成)\n",
        "    - [7.2.2 データの検索と更新、削除、テーブルカラムの変更](#7.2.2-データの検索と更新、削除、テーブルカラムの変更)\n",
        "    - [7.2.3 データの集計、演算、並び替え](#7.2.3-データの集計、演算、並び替え)\n",
        "    - [7.2.4 グループごとの集計](#7.2.4-グループごとの集計)\n",
        "    - [7.2.5 複数テーブルの利用](#7.2.5-複数テーブルの利用)\n",
        "    - [7.2.6 case文とサブクエリ](#7.2.6-case文とサブクエリ)\n",
        "<br><br>\n",
        "- **[7.3 ビュー](#7.3-ビュー)**\n",
        "    - [7.3.1 ビュー](#7.3.1-ビュー)\n",
        "<br><br>\n",
        "- **[7.4 総合問題](#7.4-総合問題)**\n",
        "    - [7.4.1 総合問題1](#7.4.1-総合問題1)\n",
        "    - [7.4.2 総合問題2](#7.4.2-総合問題2)"
      ]
    },
    {
      "cell_type": "markdown",
      "metadata": {
        "id": "COJg-l-Ywuuh"
      },
      "source": [
        "## 7.1 この章の概要\n",
        "ゴール：データベースの役割を知る"
      ]
    },
    {
      "cell_type": "markdown",
      "metadata": {
        "id": "foSHQnbKwuui"
      },
      "source": [
        "### 7.1.1 データベースとは\n",
        "キーワード：データベース、RDBMS"
      ]
    },
    {
      "cell_type": "markdown",
      "metadata": {
        "id": "JomuJ0Rrwuui"
      },
      "source": [
        "ここからはデータベースについて学んでいきます。データベースとは、簡単にいいますと、コンピューターを利用して膨大なデータをまとめて、後から色々なニーズに対して活用できるように、管理されたデータの集まりのことです。データベースには、たくさんのテーブルがあり、そのテーブルの中にデータがあります。以下が、データベースとテーブルのイメージ図です。なお、テーブルの行をレコードといい、列をカラムといいます。"
      ]
    },
    {
      "cell_type": "markdown",
      "metadata": {
        "id": "ipAOh7IWwuuj"
      },
      "source": [
        "![comment](http://www.webolve.com/image/basic/aboutdb/fig_02.jpg)"
      ]
    },
    {
      "cell_type": "markdown",
      "metadata": {
        "id": "3_Tcsagswuuj"
      },
      "source": [
        "参照URL：http://www.webolve.com/image/basic/aboutdb/fig_02.jpg"
      ]
    },
    {
      "cell_type": "markdown",
      "metadata": {
        "id": "5lvHMLUnwuuj"
      },
      "source": [
        "具体的なデータとしては、ある店舗の毎日の売り上げをデータベースで管理していることもありますし、顧客の個人情報、社員の給料情報、金融の取引データ、ウェブサイトのアクセスログデータ等もデータベースで管理されたりしています。購買データでいうと、売れた商品の日時、その商品を識別するコード、購買者、その商品の値段、数量などがデータとしてテーブルに入ってきます。これらのデータは日々追加されますし、何かの集計（1ヶ月の売り上げの計算など）をするときはデータベースからデータが抽出され、必要なければ削除されます。\n",
        "\n",
        "それでは、そもそも何故データベースが必要なのでしょうか。小さなデータで、一貫性等を求められていなければ、Excelで十分かもしれません。しかし、データは日々大きくなっていきますし、昨今は特にIoTなどが注目されており、リアルタイムに膨大な量のデータが生まれています。ビッグデータと言われる現代、データソースのテーブルに1億レコード以上あるということもしばしばあり、これをExcelで集計することは困難でしょう。データベースとそれを呼び出すためのSQLという言語を使うことで、大きなデータに対しても効率的に作業ができるのです。（ただし、昨今はビッグデータを扱う際にHadoopやSparkなどの分散処理をするソフトウェアなどが使われるようになっており、この講座でも後半の章で少し触れます。）\n",
        "\n",
        "さらに管理するという視点でも、Excelでは限界があります。Excelは基本的に誰でも編集ができますし、後からデータに問題があった場合に対処するのが困難です。列も自由に異なるデータを入力できますし、それを統一的に扱うのは難しいです。データベースを使うことで、容易に管理できます。なお、同時にデータを変更することを避けるために、データにロックをかけて、他の人が編集できないようにすることを**「排他制御」**といい、以下のようなイメージ図になります。"
      ]
    },
    {
      "cell_type": "markdown",
      "metadata": {
        "id": "sOky1R8xwuuk"
      },
      "source": [
        "\n",
        "![](http://image.itmedia.co.jp/ait/articles/1105/30/r501-01.gif)"
      ]
    },
    {
      "cell_type": "markdown",
      "metadata": {
        "id": "kKUTcsNOwuuk"
      },
      "source": [
        "参照URL：http://image.itmedia.co.jp/ait/articles/1105/30/r501-01.gif"
      ]
    },
    {
      "cell_type": "markdown",
      "metadata": {
        "id": "Jzu8e49Vwuuk"
      },
      "source": [
        "### 7.1.2 RDBMS\n",
        "キーワード：RDMBS、MySQL、テーブル"
      ]
    },
    {
      "cell_type": "markdown",
      "metadata": {
        "id": "keFvVuQcwuuk"
      },
      "source": [
        "この章で学ぶデータベースのシステムは、RDBMSと言われるリレーショナルデータベースを管理するシステムです。代表的な製品に、Oracle, Microsoft SQL Server, PostgreSQL, MySQLなどがあります。ここでは、SQLITEというデータベースを使用します。以下は、データベースのイメージです。"
      ]
    },
    {
      "cell_type": "markdown",
      "metadata": {
        "id": "PBZ3a3mgwuul"
      },
      "source": [
        "![comment](https://www.mysql.com/common/images/products/MySQL_Workbench_Visual_Design_Windows.gif)"
      ]
    },
    {
      "cell_type": "markdown",
      "metadata": {
        "id": "2palPjcpwuul"
      },
      "source": [
        "参照URL：https://www.mysql.com/common/images/products/MySQL_Workbench_Visual_Design_Windows.gif"
      ]
    },
    {
      "cell_type": "markdown",
      "metadata": {
        "id": "J62oR4clwuul"
      },
      "source": [
        "なお、SQLITEの参考サイトは以下になりますので、適宜参照してください。"
      ]
    },
    {
      "cell_type": "markdown",
      "metadata": {
        "id": "80w8HkDmwuul"
      },
      "source": [
        "参照URL：https://sqlite.org/index.html"
      ]
    },
    {
      "cell_type": "markdown",
      "metadata": {
        "id": "CuU_RAJawuul"
      },
      "source": [
        "データベースにはテーブルがあり、データはそのテーブルから抽出します。テーブルは幾つかのカラム（列）から構成され、それぞれ型の異なるデータが入っています。数値型であったり、文字であったり、日時であったりします。Excelでは、同じ列に数字や文字など、色々な型のデータを混在して入れることができますが、データベースのテーブルには同じ型を指定してデータを入れる必要があります。データがそのような状態なので、後で集計がとても簡単にできます。それらの扱い方についても、後で学びます。"
      ]
    },
    {
      "cell_type": "markdown",
      "metadata": {
        "id": "CiMb3fV6wuum"
      },
      "source": [
        "ここでデータベースに関する簡単な紹介は終わります。他にも色々な概念がありますが、まずはデータをハンドリングできるように、実装中心に学んでいきましょう。SQLもまた手を動かしながら学ぶことで、早く使えるようになります。"
      ]
    },
    {
      "cell_type": "markdown",
      "metadata": {
        "id": "KGLKpJ4iwuum"
      },
      "source": [
        "なお、以下の参考文献が初心者にはわかりやすいので、全くSQLの経験がない方は前半のみ一読をおすすめします。一部、PHPとその連携もありますが、この講座を理解するためには必要ありません。適宜、興味があれば学習して、何か簡単なウェブサービスを作ってみるのもデータベースの大変よい理解になります。"
      ]
    },
    {
      "cell_type": "markdown",
      "metadata": {
        "id": "5ypp8P9fwuum"
      },
      "source": [
        ">[参考文献]\n",
        ">\n",
        ">『基礎からのMySQL 改訂版 (基礎からシリーズ) 』（西沢 夢路 (著)、 SBクリエイティブ）"
      ]
    },
    {
      "cell_type": "markdown",
      "metadata": {
        "id": "IwRfmgREwuum"
      },
      "source": [
        "## 7.2 SQLの基礎\n",
        "ゴール：SQLの基礎的な操作方法を身につける"
      ]
    },
    {
      "cell_type": "markdown",
      "source": [
        "### 7.2.0 Google colabでSQLを使うための設定"
      ],
      "metadata": {
        "id": "AqX8PWw2Syoa"
      }
    },
    {
      "cell_type": "markdown",
      "source": [
        "必要なモジュールをダウンロードします"
      ],
      "metadata": {
        "id": "jt1Uoou4UNnb"
      }
    },
    {
      "cell_type": "code",
      "source": [
        "# IPython用のモジュールをダウンロード\n",
        "!pip install jupysql duckdb-engine"
      ],
      "metadata": {
        "colab": {
          "base_uri": "https://localhost:8080/"
        },
        "id": "EdrnijGfRuJj",
        "outputId": "67b88781-56db-4292-dbf1-9f468d208781"
      },
      "execution_count": 1,
      "outputs": [
        {
          "output_type": "stream",
          "name": "stdout",
          "text": [
            "Collecting jupysql\n",
            "  Downloading jupysql-0.10.10-py3-none-any.whl (95 kB)\n",
            "\u001b[2K     \u001b[90m━━━━━━━━━━━━━━━━━━━━━━━━━━━━━━━━━━━━━━━━\u001b[0m \u001b[32m95.7/95.7 kB\u001b[0m \u001b[31m2.9 MB/s\u001b[0m eta \u001b[36m0:00:00\u001b[0m\n",
            "\u001b[?25hCollecting duckdb-engine\n",
            "  Downloading duckdb_engine-0.13.0-py3-none-any.whl (47 kB)\n",
            "\u001b[2K     \u001b[90m━━━━━━━━━━━━━━━━━━━━━━━━━━━━━━━━━━━━━━━━\u001b[0m \u001b[32m47.2/47.2 kB\u001b[0m \u001b[31m3.5 MB/s\u001b[0m eta \u001b[36m0:00:00\u001b[0m\n",
            "\u001b[?25hRequirement already satisfied: prettytable in /usr/local/lib/python3.10/dist-packages (from jupysql) (3.10.0)\n",
            "Requirement already satisfied: sqlalchemy in /usr/local/lib/python3.10/dist-packages (from jupysql) (2.0.30)\n",
            "Requirement already satisfied: sqlparse in /usr/local/lib/python3.10/dist-packages (from jupysql) (0.5.0)\n",
            "Requirement already satisfied: ipython-genutils>=0.1.0 in /usr/local/lib/python3.10/dist-packages (from jupysql) (0.2.0)\n",
            "Requirement already satisfied: jinja2 in /usr/local/lib/python3.10/dist-packages (from jupysql) (3.1.4)\n",
            "Requirement already satisfied: sqlglot>=11.3.7 in /usr/local/lib/python3.10/dist-packages (from jupysql) (20.11.0)\n",
            "Collecting jupysql-plugin>=0.4.2 (from jupysql)\n",
            "  Downloading jupysql_plugin-0.4.3-py3-none-any.whl (250 kB)\n",
            "\u001b[2K     \u001b[90m━━━━━━━━━━━━━━━━━━━━━━━━━━━━━━━━━━━━━━━━\u001b[0m \u001b[32m251.0/251.0 kB\u001b[0m \u001b[31m7.4 MB/s\u001b[0m eta \u001b[36m0:00:00\u001b[0m\n",
            "\u001b[?25hCollecting ploomber-core>=0.2.7 (from jupysql)\n",
            "  Downloading ploomber_core-0.2.25-py3-none-any.whl (22 kB)\n",
            "Collecting ploomber-extension (from jupysql)\n",
            "  Downloading ploomber_extension-0.1.0-py3-none-any.whl (193 kB)\n",
            "\u001b[2K     \u001b[90m━━━━━━━━━━━━━━━━━━━━━━━━━━━━━━━━━━━━━━━━\u001b[0m \u001b[32m193.0/193.0 kB\u001b[0m \u001b[31m8.7 MB/s\u001b[0m eta \u001b[36m0:00:00\u001b[0m\n",
            "\u001b[?25hRequirement already satisfied: duckdb>=0.5.0 in /usr/local/lib/python3.10/dist-packages (from duckdb-engine) (0.10.3)\n",
            "Requirement already satisfied: packaging>=21 in /usr/local/lib/python3.10/dist-packages (from duckdb-engine) (24.0)\n",
            "Requirement already satisfied: pyyaml in /usr/local/lib/python3.10/dist-packages (from ploomber-core>=0.2.7->jupysql) (6.0.1)\n",
            "Collecting posthog (from ploomber-core>=0.2.7->jupysql)\n",
            "  Downloading posthog-3.5.0-py2.py3-none-any.whl (41 kB)\n",
            "\u001b[2K     \u001b[90m━━━━━━━━━━━━━━━━━━━━━━━━━━━━━━━━━━━━━━━━\u001b[0m \u001b[32m41.3/41.3 kB\u001b[0m \u001b[31m3.3 MB/s\u001b[0m eta \u001b[36m0:00:00\u001b[0m\n",
            "\u001b[?25hRequirement already satisfied: typing-extensions>=4.6.0 in /usr/local/lib/python3.10/dist-packages (from sqlalchemy->jupysql) (4.12.0)\n",
            "Requirement already satisfied: greenlet!=0.4.17 in /usr/local/lib/python3.10/dist-packages (from sqlalchemy->jupysql) (3.0.3)\n",
            "Requirement already satisfied: MarkupSafe>=2.0 in /usr/local/lib/python3.10/dist-packages (from jinja2->jupysql) (2.1.5)\n",
            "Requirement already satisfied: wcwidth in /usr/local/lib/python3.10/dist-packages (from prettytable->jupysql) (0.2.13)\n",
            "Requirement already satisfied: requests<3.0,>=2.7 in /usr/local/lib/python3.10/dist-packages (from posthog->ploomber-core>=0.2.7->jupysql) (2.31.0)\n",
            "Requirement already satisfied: six>=1.5 in /usr/local/lib/python3.10/dist-packages (from posthog->ploomber-core>=0.2.7->jupysql) (1.16.0)\n",
            "Collecting monotonic>=1.5 (from posthog->ploomber-core>=0.2.7->jupysql)\n",
            "  Downloading monotonic-1.6-py2.py3-none-any.whl (8.2 kB)\n",
            "Collecting backoff>=1.10.0 (from posthog->ploomber-core>=0.2.7->jupysql)\n",
            "  Downloading backoff-2.2.1-py3-none-any.whl (15 kB)\n",
            "Requirement already satisfied: python-dateutil>2.1 in /usr/local/lib/python3.10/dist-packages (from posthog->ploomber-core>=0.2.7->jupysql) (2.8.2)\n",
            "Requirement already satisfied: charset-normalizer<4,>=2 in /usr/local/lib/python3.10/dist-packages (from requests<3.0,>=2.7->posthog->ploomber-core>=0.2.7->jupysql) (3.3.2)\n",
            "Requirement already satisfied: idna<4,>=2.5 in /usr/local/lib/python3.10/dist-packages (from requests<3.0,>=2.7->posthog->ploomber-core>=0.2.7->jupysql) (3.7)\n",
            "Requirement already satisfied: urllib3<3,>=1.21.1 in /usr/local/lib/python3.10/dist-packages (from requests<3.0,>=2.7->posthog->ploomber-core>=0.2.7->jupysql) (2.0.7)\n",
            "Requirement already satisfied: certifi>=2017.4.17 in /usr/local/lib/python3.10/dist-packages (from requests<3.0,>=2.7->posthog->ploomber-core>=0.2.7->jupysql) (2024.2.2)\n",
            "Installing collected packages: monotonic, backoff, posthog, duckdb-engine, ploomber-core, ploomber-extension, jupysql-plugin, jupysql\n",
            "Successfully installed backoff-2.2.1 duckdb-engine-0.13.0 jupysql-0.10.10 jupysql-plugin-0.4.3 monotonic-1.6 ploomber-core-0.2.25 ploomber-extension-0.1.0 posthog-3.5.0\n"
          ]
        }
      ]
    },
    {
      "cell_type": "markdown",
      "source": [
        "データ読み込みとデータベースの設定をします。"
      ],
      "metadata": {
        "id": "XYFPjS7gUKih"
      }
    },
    {
      "cell_type": "code",
      "source": [
        "%load_ext sql\n",
        "%sql duckdb://"
      ],
      "metadata": {
        "colab": {
          "base_uri": "https://localhost:8080/",
          "height": 52
        },
        "id": "hEFw8zs0RwD5",
        "outputId": "6ef0009b-58fd-4a62-fafb-8364857c9ab8"
      },
      "execution_count": 2,
      "outputs": [
        {
          "output_type": "stream",
          "name": "stdout",
          "text": [
            "Deploy Streamlit apps for free on Ploomber Cloud! Learn more: https://ploomber.io/s/signup\n"
          ]
        },
        {
          "output_type": "display_data",
          "data": {
            "text/plain": [
              "Connecting to 'duckdb://'"
            ],
            "text/html": [
              "<span style=\"None\">Connecting to &#x27;duckdb://&#x27;</span>"
            ]
          },
          "metadata": {}
        }
      ]
    },
    {
      "cell_type": "markdown",
      "source": [
        "以降、セルの最初に\n",
        "\n",
        "```\n",
        "%%sql\n",
        "```\n",
        "を記載するとSQLが使えるようになります。\n",
        "\n",
        "\n",
        "**※「\"」は使えません。「'」を使用するようにしてください。**\n",
        "\n",
        "また、SQLでは大文字と小文字は区別されませんが、コードの可読性と視認性を高めるために、以下のような慣例が広く用いられています。\n",
        "*   予約語（SELECT、FROM、WHERE、JOIN等）は大文字で記述する\n",
        "*   テーブル名やカラム名は小文字で記述する\n",
        "*   複数の単語からなるテーブル名やカラム名はアンダースコア（_）で区切る\n",
        "\n"
      ],
      "metadata": {
        "id": "srP_lfp8ZEw8"
      }
    },
    {
      "cell_type": "markdown",
      "metadata": {
        "id": "v0CdxPzrwuum"
      },
      "source": [
        "### 7.2.1 データベースとテーブルの作成\n",
        "キーワード：データベース作成、テーブル、SHOW DATABASES, USE, SHOW TABLES, CREATE, SELECT"
      ]
    },
    {
      "cell_type": "markdown",
      "metadata": {
        "id": "wyKl-4eWwuun"
      },
      "source": [
        "** 注意：以下、練習問題も含め、可能な限り上から実行するようにしてください。あとの問題で使います。**"
      ]
    },
    {
      "cell_type": "markdown",
      "metadata": {
        "id": "DT4QpKlPwuuo"
      },
      "source": [
        "テーブルを作成していきます。テーブルにデータが入り、データのカラム名とその型を指定します。実際にテーブルを作ってみましょう。以下のようにCREATE TABLEを実行しますが、要注意です。最初にテーブル名、データの型と名前等を付けています。ここではmeiboテーブルに整数型のid、文字型のnameを設定しています。さらに、PRIMAEY KEYというのは、このカラムが一意のキーとなっていることを宣言しています。つまり、同じデータは入らないということです。"
      ]
    },
    {
      "cell_type": "code",
      "execution_count": 3,
      "metadata": {
        "id": "lGSKEqfiwuuo",
        "colab": {
          "base_uri": "https://localhost:8080/",
          "height": 58
        },
        "outputId": "983d659d-b07c-4640-9d37-eac27f778413"
      },
      "outputs": [
        {
          "output_type": "display_data",
          "data": {
            "text/plain": [
              "Running query in 'duckdb://'"
            ],
            "text/html": [
              "<span style=\"None\">Running query in &#x27;duckdb://&#x27;</span>"
            ]
          },
          "metadata": {}
        },
        {
          "output_type": "execute_result",
          "data": {
            "text/plain": [
              "+-------+\n",
              "| Count |\n",
              "+-------+\n",
              "+-------+"
            ],
            "text/html": [
              "<table>\n",
              "    <thead>\n",
              "        <tr>\n",
              "            <th>Count</th>\n",
              "        </tr>\n",
              "    </thead>\n",
              "    <tbody>\n",
              "    </tbody>\n",
              "</table>"
            ]
          },
          "metadata": {},
          "execution_count": 3
        }
      ],
      "source": [
        "%%sql\n",
        "CREATE TABLE meibo\n",
        "  (id INT PRIMARY KEY, name VARCHAR(20))"
      ]
    },
    {
      "cell_type": "markdown",
      "metadata": {
        "id": "MDmbfTafwuuo"
      },
      "source": [
        "さて、ここでテーブルからデータを引っ張る時に、以下のようにSELECT * FROM テーブル名という書き方をします。アスタリスクは、すべての列名を持ってくるという意味です。ただ、以下のSELECT文を実行しても、空のテーブルだけなので、中身は何もなく、空のレコードが表示されます。"
      ]
    },
    {
      "cell_type": "code",
      "execution_count": 4,
      "metadata": {
        "id": "rLBLaifSwuuo",
        "colab": {
          "base_uri": "https://localhost:8080/",
          "height": 58
        },
        "outputId": "abf2b42b-9fb7-4d4c-a4cf-43493b99a333"
      },
      "outputs": [
        {
          "output_type": "display_data",
          "data": {
            "text/plain": [
              "Running query in 'duckdb://'"
            ],
            "text/html": [
              "<span style=\"None\">Running query in &#x27;duckdb://&#x27;</span>"
            ]
          },
          "metadata": {}
        },
        {
          "output_type": "execute_result",
          "data": {
            "text/plain": [
              "+----+------+\n",
              "| id | name |\n",
              "+----+------+\n",
              "+----+------+"
            ],
            "text/html": [
              "<table>\n",
              "    <thead>\n",
              "        <tr>\n",
              "            <th>id</th>\n",
              "            <th>name</th>\n",
              "        </tr>\n",
              "    </thead>\n",
              "    <tbody>\n",
              "    </tbody>\n",
              "</table>"
            ]
          },
          "metadata": {},
          "execution_count": 4
        }
      ],
      "source": [
        "%%sql\n",
        "SELECT * FROM meibo;"
      ]
    },
    {
      "cell_type": "markdown",
      "metadata": {
        "id": "_TVxLB3Zwuup"
      },
      "source": [
        "用意したテーブルに、データを挿入してみましょう。データの挿入はINSERT INTO を使います。その後に、「テーブル名（カラム名）VALUES 挿入したいデータ」で実行します。以下のように記述して、データを3レコード挿入しています。"
      ]
    },
    {
      "cell_type": "code",
      "execution_count": 5,
      "metadata": {
        "id": "vJpCF2J3wuup",
        "colab": {
          "base_uri": "https://localhost:8080/",
          "height": 58
        },
        "outputId": "730496f7-903b-416e-a99a-1568979385fd"
      },
      "outputs": [
        {
          "output_type": "display_data",
          "data": {
            "text/plain": [
              "Running query in 'duckdb://'"
            ],
            "text/html": [
              "<span style=\"None\">Running query in &#x27;duckdb://&#x27;</span>"
            ]
          },
          "metadata": {}
        },
        {
          "output_type": "execute_result",
          "data": {
            "text/plain": [
              "+-------+\n",
              "| Count |\n",
              "+-------+\n",
              "+-------+"
            ],
            "text/html": [
              "<table>\n",
              "    <thead>\n",
              "        <tr>\n",
              "            <th>Count</th>\n",
              "        </tr>\n",
              "    </thead>\n",
              "    <tbody>\n",
              "    </tbody>\n",
              "</table>"
            ]
          },
          "metadata": {},
          "execution_count": 5
        }
      ],
      "source": [
        "%%sql\n",
        "INSERT INTO meibo (id, name) VALUES (1, 'Yamada'); # ※シングルクオーテーションマークを使用してください"
      ]
    },
    {
      "cell_type": "code",
      "execution_count": 6,
      "metadata": {
        "id": "7IZZJx2Cwuuq",
        "colab": {
          "base_uri": "https://localhost:8080/",
          "height": 58
        },
        "outputId": "156925a8-edb8-4ad2-cdf8-b22b8d17787e"
      },
      "outputs": [
        {
          "output_type": "display_data",
          "data": {
            "text/plain": [
              "Running query in 'duckdb://'"
            ],
            "text/html": [
              "<span style=\"None\">Running query in &#x27;duckdb://&#x27;</span>"
            ]
          },
          "metadata": {}
        },
        {
          "output_type": "execute_result",
          "data": {
            "text/plain": [
              "+-------+\n",
              "| Count |\n",
              "+-------+\n",
              "+-------+"
            ],
            "text/html": [
              "<table>\n",
              "    <thead>\n",
              "        <tr>\n",
              "            <th>Count</th>\n",
              "        </tr>\n",
              "    </thead>\n",
              "    <tbody>\n",
              "    </tbody>\n",
              "</table>"
            ]
          },
          "metadata": {},
          "execution_count": 6
        }
      ],
      "source": [
        "%%sql\n",
        "INSERT INTO meibo (id, name) VALUES (2, 'Tanaka');"
      ]
    },
    {
      "cell_type": "code",
      "execution_count": 7,
      "metadata": {
        "id": "-luR_Dq2wuuq",
        "colab": {
          "base_uri": "https://localhost:8080/",
          "height": 58
        },
        "outputId": "47d7d9d5-2ee7-4c18-d1e7-a88238d3977a"
      },
      "outputs": [
        {
          "output_type": "display_data",
          "data": {
            "text/plain": [
              "Running query in 'duckdb://'"
            ],
            "text/html": [
              "<span style=\"None\">Running query in &#x27;duckdb://&#x27;</span>"
            ]
          },
          "metadata": {}
        },
        {
          "output_type": "execute_result",
          "data": {
            "text/plain": [
              "+-------+\n",
              "| Count |\n",
              "+-------+\n",
              "+-------+"
            ],
            "text/html": [
              "<table>\n",
              "    <thead>\n",
              "        <tr>\n",
              "            <th>Count</th>\n",
              "        </tr>\n",
              "    </thead>\n",
              "    <tbody>\n",
              "    </tbody>\n",
              "</table>"
            ]
          },
          "metadata": {},
          "execution_count": 7
        }
      ],
      "source": [
        "%%sql\n",
        "INSERT INTO meibo (id, name) VALUES (3, 'Sato');"
      ]
    },
    {
      "cell_type": "markdown",
      "metadata": {
        "id": "mxG2EGeLwuuq"
      },
      "source": [
        "もう一度、テーブルを確認してみましょう。"
      ]
    },
    {
      "cell_type": "code",
      "execution_count": 8,
      "metadata": {
        "id": "CUXVHbNPwuuq",
        "colab": {
          "base_uri": "https://localhost:8080/",
          "height": 122
        },
        "outputId": "5664f59b-e78c-4dfd-f00a-da4850e217b7"
      },
      "outputs": [
        {
          "output_type": "display_data",
          "data": {
            "text/plain": [
              "Running query in 'duckdb://'"
            ],
            "text/html": [
              "<span style=\"None\">Running query in &#x27;duckdb://&#x27;</span>"
            ]
          },
          "metadata": {}
        },
        {
          "output_type": "execute_result",
          "data": {
            "text/plain": [
              "+----+--------+\n",
              "| id |  name  |\n",
              "+----+--------+\n",
              "| 1  | Yamada |\n",
              "| 2  | Tanaka |\n",
              "| 3  |  Sato  |\n",
              "+----+--------+"
            ],
            "text/html": [
              "<table>\n",
              "    <thead>\n",
              "        <tr>\n",
              "            <th>id</th>\n",
              "            <th>name</th>\n",
              "        </tr>\n",
              "    </thead>\n",
              "    <tbody>\n",
              "        <tr>\n",
              "            <td>1</td>\n",
              "            <td>Yamada</td>\n",
              "        </tr>\n",
              "        <tr>\n",
              "            <td>2</td>\n",
              "            <td>Tanaka</td>\n",
              "        </tr>\n",
              "        <tr>\n",
              "            <td>3</td>\n",
              "            <td>Sato</td>\n",
              "        </tr>\n",
              "    </tbody>\n",
              "</table>"
            ]
          },
          "metadata": {},
          "execution_count": 8
        }
      ],
      "source": [
        "%%sql\n",
        "SELECT * FROM meibo;"
      ]
    },
    {
      "cell_type": "markdown",
      "metadata": {
        "id": "fCD_UFKfwuuq"
      },
      "source": [
        "なお、同じキーとなるidのデータを入れるとエラーが出て、以下のようになります。"
      ]
    },
    {
      "cell_type": "code",
      "execution_count": 108,
      "metadata": {
        "id": "mFAqtSAOwuur",
        "colab": {
          "base_uri": "https://localhost:8080/",
          "height": 124
        },
        "outputId": "b1287aa3-fbac-43a7-9772-98b096cf9703"
      },
      "outputs": [
        {
          "output_type": "display_data",
          "data": {
            "text/plain": [
              "Running query in 'duckdb://'"
            ],
            "text/html": [
              "<span style=\"None\">Running query in &#x27;duckdb://&#x27;</span>"
            ]
          },
          "metadata": {}
        },
        {
          "output_type": "stream",
          "name": "stderr",
          "text": [
            "RuntimeError: (duckdb.duckdb.ConstraintException) Constraint Error: Duplicate key \"id: 1\" violates primary key constraint. If this is an unexpected constraint violation please double check with the known index limitations section in our documentation (https://duckdb.org/docs/sql/indexes).\n",
            "[SQL: INSERT INTO meibo (id, name) VALUES (1, 'Yamada');]\n",
            "(Background on this error at: https://sqlalche.me/e/20/gkpj)\n",
            "If you need help solving this issue, send us a message: https://ploomber.io/community\n"
          ]
        }
      ],
      "source": [
        "%%sql\n",
        "INSERT INTO meibo (id, name) VALUES (1, 'Yamada');"
      ]
    },
    {
      "cell_type": "markdown",
      "metadata": {
        "id": "oV3NcH-nwuur"
      },
      "source": [
        "以下のSQLでテーブルの一覧を確認できます。"
      ]
    },
    {
      "cell_type": "code",
      "execution_count": 10,
      "metadata": {
        "id": "w9JNErNEwuur",
        "colab": {
          "base_uri": "https://localhost:8080/",
          "height": 79
        },
        "outputId": "e83296e6-f5dd-4383-9f1d-b941613326f2"
      },
      "outputs": [
        {
          "output_type": "display_data",
          "data": {
            "text/plain": [
              "Running query in 'duckdb://'"
            ],
            "text/html": [
              "<span style=\"None\">Running query in &#x27;duckdb://&#x27;</span>"
            ]
          },
          "metadata": {}
        },
        {
          "output_type": "execute_result",
          "data": {
            "text/plain": [
              "+-------+\n",
              "|  name |\n",
              "+-------+\n",
              "| meibo |\n",
              "+-------+"
            ],
            "text/html": [
              "<table>\n",
              "    <thead>\n",
              "        <tr>\n",
              "            <th>name</th>\n",
              "        </tr>\n",
              "    </thead>\n",
              "    <tbody>\n",
              "        <tr>\n",
              "            <td>meibo</td>\n",
              "        </tr>\n",
              "    </tbody>\n",
              "</table>"
            ]
          },
          "metadata": {},
          "execution_count": 10
        }
      ],
      "source": [
        "%%sql\n",
        "SELECT name FROM sqlite_master WHERE type='table';"
      ]
    },
    {
      "cell_type": "markdown",
      "metadata": {
        "id": "s0W2pjKqwuur"
      },
      "source": [
        ">**[ポイント]**\n",
        ">\n",
        ">CREATE DATABASES [データベース名]：データベースの作成\n",
        ">\n",
        ">CREATE TABLE [テーブル名] [カラム名 型]：テーブルの作成\n",
        ">\n",
        ">CREATE TABLE [テーブル名] [カラム名 型] PRIMARY KEY：プライマリーキーの設定\n",
        ">\n",
        ">SELECT * FROM テーブル名：テーブル名のカラムすべてのデータを問い合わせ\n",
        ">\n",
        ">INSERT INTO [テーブル名] [カラム名 型] [値]：データの挿入"
      ]
    },
    {
      "cell_type": "markdown",
      "metadata": {
        "id": "nn9YIOtOwuur"
      },
      "source": [
        "#### <練習問題 1>\n",
        "新しいテーブル「meibo2」を作成してください。作成後はテーブルが完成しているか、確認しましょう。データのカラム名とその型はなんでも構いません。"
      ]
    },
    {
      "cell_type": "code",
      "execution_count": 11,
      "metadata": {
        "id": "LNqRFINjwuur",
        "colab": {
          "base_uri": "https://localhost:8080/",
          "height": 58
        },
        "outputId": "e38f3269-0a06-4265-c3e8-eeef14dd8834"
      },
      "outputs": [
        {
          "output_type": "display_data",
          "data": {
            "text/plain": [
              "Running query in 'duckdb://'"
            ],
            "text/html": [
              "<span style=\"None\">Running query in &#x27;duckdb://&#x27;</span>"
            ]
          },
          "metadata": {}
        },
        {
          "output_type": "execute_result",
          "data": {
            "text/plain": [
              "+-------+\n",
              "| Count |\n",
              "+-------+\n",
              "+-------+"
            ],
            "text/html": [
              "<table>\n",
              "    <thead>\n",
              "        <tr>\n",
              "            <th>Count</th>\n",
              "        </tr>\n",
              "    </thead>\n",
              "    <tbody>\n",
              "    </tbody>\n",
              "</table>"
            ]
          },
          "metadata": {},
          "execution_count": 11
        }
      ],
      "source": [
        "%%sql\n",
        "CREATE TABLE meibo2\n",
        "  (id INT PRIMARY KEY, name VARCHAR(20))"
      ]
    },
    {
      "cell_type": "code",
      "execution_count": 12,
      "metadata": {
        "id": "haLBNdQOwuus",
        "colab": {
          "base_uri": "https://localhost:8080/",
          "height": 100
        },
        "outputId": "cadb44fe-0cd3-4304-9358-4db29d64d59d"
      },
      "outputs": [
        {
          "output_type": "display_data",
          "data": {
            "text/plain": [
              "Running query in 'duckdb://'"
            ],
            "text/html": [
              "<span style=\"None\">Running query in &#x27;duckdb://&#x27;</span>"
            ]
          },
          "metadata": {}
        },
        {
          "output_type": "execute_result",
          "data": {
            "text/plain": [
              "+--------+\n",
              "|  name  |\n",
              "+--------+\n",
              "| meibo  |\n",
              "| meibo2 |\n",
              "+--------+"
            ],
            "text/html": [
              "<table>\n",
              "    <thead>\n",
              "        <tr>\n",
              "            <th>name</th>\n",
              "        </tr>\n",
              "    </thead>\n",
              "    <tbody>\n",
              "        <tr>\n",
              "            <td>meibo</td>\n",
              "        </tr>\n",
              "        <tr>\n",
              "            <td>meibo2</td>\n",
              "        </tr>\n",
              "    </tbody>\n",
              "</table>"
            ]
          },
          "metadata": {},
          "execution_count": 12
        }
      ],
      "source": [
        "%%sql\n",
        "SELECT name FROM sqlite_master WHERE type='table';"
      ]
    },
    {
      "cell_type": "markdown",
      "metadata": {
        "id": "10lk-Wwcwuus"
      },
      "source": [
        "#### <練習問題 2>\n",
        "\n",
        "練習1で新しく作ったテーブルmeibo2にデータを追加してみましょう。追加後は、確かにデータが入っているか確認してください。"
      ]
    },
    {
      "cell_type": "code",
      "execution_count": 13,
      "metadata": {
        "id": "AnApuenIwuus",
        "colab": {
          "base_uri": "https://localhost:8080/",
          "height": 58
        },
        "outputId": "37f6402d-6c84-4c99-effd-da5833242ae8"
      },
      "outputs": [
        {
          "output_type": "display_data",
          "data": {
            "text/plain": [
              "Running query in 'duckdb://'"
            ],
            "text/html": [
              "<span style=\"None\">Running query in &#x27;duckdb://&#x27;</span>"
            ]
          },
          "metadata": {}
        },
        {
          "output_type": "execute_result",
          "data": {
            "text/plain": [
              "+-------+\n",
              "| Count |\n",
              "+-------+\n",
              "+-------+"
            ],
            "text/html": [
              "<table>\n",
              "    <thead>\n",
              "        <tr>\n",
              "            <th>Count</th>\n",
              "        </tr>\n",
              "    </thead>\n",
              "    <tbody>\n",
              "    </tbody>\n",
              "</table>"
            ]
          },
          "metadata": {},
          "execution_count": 13
        }
      ],
      "source": [
        "%%sql\n",
        "INSERT INTO meibo2 (id, name) VALUES (1, 'Yamada');"
      ]
    },
    {
      "cell_type": "code",
      "execution_count": 14,
      "metadata": {
        "id": "7oyZqtO8wuus",
        "colab": {
          "base_uri": "https://localhost:8080/",
          "height": 79
        },
        "outputId": "0adf50ea-64d0-4200-a26b-9f1b36cce6cf"
      },
      "outputs": [
        {
          "output_type": "display_data",
          "data": {
            "text/plain": [
              "Running query in 'duckdb://'"
            ],
            "text/html": [
              "<span style=\"None\">Running query in &#x27;duckdb://&#x27;</span>"
            ]
          },
          "metadata": {}
        },
        {
          "output_type": "execute_result",
          "data": {
            "text/plain": [
              "+----+--------+\n",
              "| id |  name  |\n",
              "+----+--------+\n",
              "| 1  | Yamada |\n",
              "+----+--------+"
            ],
            "text/html": [
              "<table>\n",
              "    <thead>\n",
              "        <tr>\n",
              "            <th>id</th>\n",
              "            <th>name</th>\n",
              "        </tr>\n",
              "    </thead>\n",
              "    <tbody>\n",
              "        <tr>\n",
              "            <td>1</td>\n",
              "            <td>Yamada</td>\n",
              "        </tr>\n",
              "    </tbody>\n",
              "</table>"
            ]
          },
          "metadata": {},
          "execution_count": 14
        }
      ],
      "source": [
        "%%sql\n",
        "SELECT * FROM meibo2"
      ]
    },
    {
      "cell_type": "markdown",
      "metadata": {
        "id": "blrwCGQcwuus"
      },
      "source": [
        "### 7.2.2 データの検索と更新、削除、テーブルカラムの変更\n",
        "キーワード：WHERE, IN, LIKE, UPDATE, DELETE, ALTER"
      ]
    },
    {
      "cell_type": "markdown",
      "metadata": {
        "id": "chAExbyGwuus"
      },
      "source": [
        "次は、データの抽出をするときに、条件を絞って実行してみましょう。条件はWHERE文を使います。以下では、id=2の人のデータを抽出しています。"
      ]
    },
    {
      "cell_type": "code",
      "execution_count": 15,
      "metadata": {
        "id": "kPerrBTrwuut",
        "colab": {
          "base_uri": "https://localhost:8080/",
          "height": 79
        },
        "outputId": "970cb196-84dd-4f37-98d2-73bf13c1a4f8"
      },
      "outputs": [
        {
          "output_type": "display_data",
          "data": {
            "text/plain": [
              "Running query in 'duckdb://'"
            ],
            "text/html": [
              "<span style=\"None\">Running query in &#x27;duckdb://&#x27;</span>"
            ]
          },
          "metadata": {}
        },
        {
          "output_type": "execute_result",
          "data": {
            "text/plain": [
              "+----+--------+\n",
              "| id |  name  |\n",
              "+----+--------+\n",
              "| 2  | Tanaka |\n",
              "+----+--------+"
            ],
            "text/html": [
              "<table>\n",
              "    <thead>\n",
              "        <tr>\n",
              "            <th>id</th>\n",
              "            <th>name</th>\n",
              "        </tr>\n",
              "    </thead>\n",
              "    <tbody>\n",
              "        <tr>\n",
              "            <td>2</td>\n",
              "            <td>Tanaka</td>\n",
              "        </tr>\n",
              "    </tbody>\n",
              "</table>"
            ]
          },
          "metadata": {},
          "execution_count": 15
        }
      ],
      "source": [
        "%%sql\n",
        "SELECT * FROM meibo WHERE id=2;"
      ]
    },
    {
      "cell_type": "markdown",
      "metadata": {
        "id": "r3V0thRBwuut"
      },
      "source": [
        "次は、INを使うことでidが1か2であるレコードを抽出します。（他、データの範囲を絞り込むためBETWEENなどもありますので、調べてみてください。）"
      ]
    },
    {
      "cell_type": "code",
      "execution_count": 16,
      "metadata": {
        "id": "r-MPBkKvwuut",
        "colab": {
          "base_uri": "https://localhost:8080/",
          "height": 100
        },
        "outputId": "05cc2371-98bb-467c-b944-ba221fed0081"
      },
      "outputs": [
        {
          "output_type": "display_data",
          "data": {
            "text/plain": [
              "Running query in 'duckdb://'"
            ],
            "text/html": [
              "<span style=\"None\">Running query in &#x27;duckdb://&#x27;</span>"
            ]
          },
          "metadata": {}
        },
        {
          "output_type": "execute_result",
          "data": {
            "text/plain": [
              "+----+--------+\n",
              "| id |  name  |\n",
              "+----+--------+\n",
              "| 1  | Yamada |\n",
              "| 2  | Tanaka |\n",
              "+----+--------+"
            ],
            "text/html": [
              "<table>\n",
              "    <thead>\n",
              "        <tr>\n",
              "            <th>id</th>\n",
              "            <th>name</th>\n",
              "        </tr>\n",
              "    </thead>\n",
              "    <tbody>\n",
              "        <tr>\n",
              "            <td>1</td>\n",
              "            <td>Yamada</td>\n",
              "        </tr>\n",
              "        <tr>\n",
              "            <td>2</td>\n",
              "            <td>Tanaka</td>\n",
              "        </tr>\n",
              "    </tbody>\n",
              "</table>"
            ]
          },
          "metadata": {},
          "execution_count": 16
        }
      ],
      "source": [
        "%%sql\n",
        "SELECT * FROM meibo WHERE id IN (1,2);"
      ]
    },
    {
      "cell_type": "markdown",
      "metadata": {
        "id": "qy6tLieQwuut"
      },
      "source": [
        "以下のような記述で、曖昧検索もできます。LIKEを使って、以下の処理では、Sからはじまって後は任意の文字列ということで、「S%」としています。他にも、「%S」や「%S%」で検索が可能です。"
      ]
    },
    {
      "cell_type": "code",
      "execution_count": 17,
      "metadata": {
        "id": "rkfeC8Grwuut",
        "colab": {
          "base_uri": "https://localhost:8080/",
          "height": 79
        },
        "outputId": "d12dc431-3325-41d0-9959-3217807eeb02"
      },
      "outputs": [
        {
          "output_type": "display_data",
          "data": {
            "text/plain": [
              "Running query in 'duckdb://'"
            ],
            "text/html": [
              "<span style=\"None\">Running query in &#x27;duckdb://&#x27;</span>"
            ]
          },
          "metadata": {}
        },
        {
          "output_type": "execute_result",
          "data": {
            "text/plain": [
              "+----+------+\n",
              "| id | name |\n",
              "+----+------+\n",
              "| 3  | Sato |\n",
              "+----+------+"
            ],
            "text/html": [
              "<table>\n",
              "    <thead>\n",
              "        <tr>\n",
              "            <th>id</th>\n",
              "            <th>name</th>\n",
              "        </tr>\n",
              "    </thead>\n",
              "    <tbody>\n",
              "        <tr>\n",
              "            <td>3</td>\n",
              "            <td>Sato</td>\n",
              "        </tr>\n",
              "    </tbody>\n",
              "</table>"
            ]
          },
          "metadata": {},
          "execution_count": 17
        }
      ],
      "source": [
        "%%sql\n",
        "SELECT * FROM meibo WHERE name LIKE 'S%';"
      ]
    },
    {
      "cell_type": "markdown",
      "metadata": {
        "id": "pqVO7XHuwuuu"
      },
      "source": [
        ">**[やってみよう]**\n",
        ">\n",
        ">上の条件式を色々と変更してデータを検索してみましょう。例えば、idが1以外の人や、nameがaで終わる人はどのように検索しますか？"
      ]
    },
    {
      "cell_type": "markdown",
      "metadata": {
        "id": "vi-ZVfW7wuuu"
      },
      "source": [
        "今までは存在してるデータを抽出してきましたが、次は、データを変更してみます。UPDATEを使って、id=3の人を更新してみます。記述方法は以下のようになります。"
      ]
    },
    {
      "cell_type": "code",
      "execution_count": 18,
      "metadata": {
        "id": "1BOhJVkhwuuu",
        "colab": {
          "base_uri": "https://localhost:8080/",
          "height": 58
        },
        "outputId": "68ad1d71-f5db-49b5-c425-9eb744fde0f2"
      },
      "outputs": [
        {
          "output_type": "display_data",
          "data": {
            "text/plain": [
              "Running query in 'duckdb://'"
            ],
            "text/html": [
              "<span style=\"None\">Running query in &#x27;duckdb://&#x27;</span>"
            ]
          },
          "metadata": {}
        },
        {
          "output_type": "execute_result",
          "data": {
            "text/plain": [
              "+-------+\n",
              "| Count |\n",
              "+-------+\n",
              "+-------+"
            ],
            "text/html": [
              "<table>\n",
              "    <thead>\n",
              "        <tr>\n",
              "            <th>Count</th>\n",
              "        </tr>\n",
              "    </thead>\n",
              "    <tbody>\n",
              "    </tbody>\n",
              "</table>"
            ]
          },
          "metadata": {},
          "execution_count": 18
        }
      ],
      "source": [
        "%%sql\n",
        "UPDATE meibo\n",
        "SET name = 'Suzuki'\n",
        "WHERE id=3;"
      ]
    },
    {
      "cell_type": "markdown",
      "metadata": {
        "id": "Nv5vk5O0wuuu"
      },
      "source": [
        "更新されているか確かめてみましょう。"
      ]
    },
    {
      "cell_type": "code",
      "execution_count": 19,
      "metadata": {
        "id": "QMezRf9Awuuu",
        "colab": {
          "base_uri": "https://localhost:8080/",
          "height": 122
        },
        "outputId": "c3c31bba-c6c7-4af5-dd14-d85bcf28a41d"
      },
      "outputs": [
        {
          "output_type": "display_data",
          "data": {
            "text/plain": [
              "Running query in 'duckdb://'"
            ],
            "text/html": [
              "<span style=\"None\">Running query in &#x27;duckdb://&#x27;</span>"
            ]
          },
          "metadata": {}
        },
        {
          "output_type": "execute_result",
          "data": {
            "text/plain": [
              "+----+--------+\n",
              "| id |  name  |\n",
              "+----+--------+\n",
              "| 1  | Yamada |\n",
              "| 2  | Tanaka |\n",
              "| 3  | Suzuki |\n",
              "+----+--------+"
            ],
            "text/html": [
              "<table>\n",
              "    <thead>\n",
              "        <tr>\n",
              "            <th>id</th>\n",
              "            <th>name</th>\n",
              "        </tr>\n",
              "    </thead>\n",
              "    <tbody>\n",
              "        <tr>\n",
              "            <td>1</td>\n",
              "            <td>Yamada</td>\n",
              "        </tr>\n",
              "        <tr>\n",
              "            <td>2</td>\n",
              "            <td>Tanaka</td>\n",
              "        </tr>\n",
              "        <tr>\n",
              "            <td>3</td>\n",
              "            <td>Suzuki</td>\n",
              "        </tr>\n",
              "    </tbody>\n",
              "</table>"
            ]
          },
          "metadata": {},
          "execution_count": 19
        }
      ],
      "source": [
        "%%sql\n",
        "SELECT * FROM meibo;"
      ]
    },
    {
      "cell_type": "markdown",
      "metadata": {
        "id": "1OBZXE6owuuv"
      },
      "source": [
        "データを削除する場合も扱いましょう。削除用のサンプルデータを用意(id=4)して、確認します。"
      ]
    },
    {
      "cell_type": "code",
      "execution_count": 20,
      "metadata": {
        "id": "uEkGUUeowuuv",
        "colab": {
          "base_uri": "https://localhost:8080/",
          "height": 58
        },
        "outputId": "8a75b2da-5500-4e25-97b5-8087b020e8b1"
      },
      "outputs": [
        {
          "output_type": "display_data",
          "data": {
            "text/plain": [
              "Running query in 'duckdb://'"
            ],
            "text/html": [
              "<span style=\"None\">Running query in &#x27;duckdb://&#x27;</span>"
            ]
          },
          "metadata": {}
        },
        {
          "output_type": "execute_result",
          "data": {
            "text/plain": [
              "+-------+\n",
              "| Count |\n",
              "+-------+\n",
              "+-------+"
            ],
            "text/html": [
              "<table>\n",
              "    <thead>\n",
              "        <tr>\n",
              "            <th>Count</th>\n",
              "        </tr>\n",
              "    </thead>\n",
              "    <tbody>\n",
              "    </tbody>\n",
              "</table>"
            ]
          },
          "metadata": {},
          "execution_count": 20
        }
      ],
      "source": [
        "%%sql\n",
        "INSERT INTO meibo (id, name) VALUES (4, 'Dummy');"
      ]
    },
    {
      "cell_type": "code",
      "execution_count": 21,
      "metadata": {
        "id": "QPCyQVXKwuuv",
        "colab": {
          "base_uri": "https://localhost:8080/",
          "height": 143
        },
        "outputId": "56e421c2-c9cd-4da0-8247-f5f672e3b020"
      },
      "outputs": [
        {
          "output_type": "display_data",
          "data": {
            "text/plain": [
              "Running query in 'duckdb://'"
            ],
            "text/html": [
              "<span style=\"None\">Running query in &#x27;duckdb://&#x27;</span>"
            ]
          },
          "metadata": {}
        },
        {
          "output_type": "execute_result",
          "data": {
            "text/plain": [
              "+----+--------+\n",
              "| id |  name  |\n",
              "+----+--------+\n",
              "| 1  | Yamada |\n",
              "| 2  | Tanaka |\n",
              "| 3  | Suzuki |\n",
              "| 4  | Dummy  |\n",
              "+----+--------+"
            ],
            "text/html": [
              "<table>\n",
              "    <thead>\n",
              "        <tr>\n",
              "            <th>id</th>\n",
              "            <th>name</th>\n",
              "        </tr>\n",
              "    </thead>\n",
              "    <tbody>\n",
              "        <tr>\n",
              "            <td>1</td>\n",
              "            <td>Yamada</td>\n",
              "        </tr>\n",
              "        <tr>\n",
              "            <td>2</td>\n",
              "            <td>Tanaka</td>\n",
              "        </tr>\n",
              "        <tr>\n",
              "            <td>3</td>\n",
              "            <td>Suzuki</td>\n",
              "        </tr>\n",
              "        <tr>\n",
              "            <td>4</td>\n",
              "            <td>Dummy</td>\n",
              "        </tr>\n",
              "    </tbody>\n",
              "</table>"
            ]
          },
          "metadata": {},
          "execution_count": 21
        }
      ],
      "source": [
        "%%sql\n",
        "SELECT * FROM meibo;"
      ]
    },
    {
      "cell_type": "markdown",
      "metadata": {
        "id": "k0VdzA7iwuuv"
      },
      "source": [
        "データの削除はDELETEを使います。ここでは、先ほど用意しましたid＝4の人を削除します。"
      ]
    },
    {
      "cell_type": "code",
      "execution_count": 22,
      "metadata": {
        "id": "gkS7lEBFwuuv",
        "colab": {
          "base_uri": "https://localhost:8080/",
          "height": 58
        },
        "outputId": "fa079c8a-7d4c-4882-f5b5-fc1aad7b750e"
      },
      "outputs": [
        {
          "output_type": "display_data",
          "data": {
            "text/plain": [
              "Running query in 'duckdb://'"
            ],
            "text/html": [
              "<span style=\"None\">Running query in &#x27;duckdb://&#x27;</span>"
            ]
          },
          "metadata": {}
        },
        {
          "output_type": "execute_result",
          "data": {
            "text/plain": [
              "+-------+\n",
              "| Count |\n",
              "+-------+\n",
              "+-------+"
            ],
            "text/html": [
              "<table>\n",
              "    <thead>\n",
              "        <tr>\n",
              "            <th>Count</th>\n",
              "        </tr>\n",
              "    </thead>\n",
              "    <tbody>\n",
              "    </tbody>\n",
              "</table>"
            ]
          },
          "metadata": {},
          "execution_count": 22
        }
      ],
      "source": [
        "%%sql\n",
        "DELETE FROM meibo\n",
        "WHERE id = 4;"
      ]
    },
    {
      "cell_type": "markdown",
      "metadata": {
        "id": "FiZN5mBowuuw"
      },
      "source": [
        "念のため、消えているかどうか確認しましょう。"
      ]
    },
    {
      "cell_type": "code",
      "execution_count": 23,
      "metadata": {
        "id": "kwVqfcK9wuuw",
        "colab": {
          "base_uri": "https://localhost:8080/",
          "height": 122
        },
        "outputId": "56df2f63-b14d-4561-b638-67a1fa87eaa6"
      },
      "outputs": [
        {
          "output_type": "display_data",
          "data": {
            "text/plain": [
              "Running query in 'duckdb://'"
            ],
            "text/html": [
              "<span style=\"None\">Running query in &#x27;duckdb://&#x27;</span>"
            ]
          },
          "metadata": {}
        },
        {
          "output_type": "execute_result",
          "data": {
            "text/plain": [
              "+----+--------+\n",
              "| id |  name  |\n",
              "+----+--------+\n",
              "| 1  | Yamada |\n",
              "| 2  | Tanaka |\n",
              "| 3  | Suzuki |\n",
              "+----+--------+"
            ],
            "text/html": [
              "<table>\n",
              "    <thead>\n",
              "        <tr>\n",
              "            <th>id</th>\n",
              "            <th>name</th>\n",
              "        </tr>\n",
              "    </thead>\n",
              "    <tbody>\n",
              "        <tr>\n",
              "            <td>1</td>\n",
              "            <td>Yamada</td>\n",
              "        </tr>\n",
              "        <tr>\n",
              "            <td>2</td>\n",
              "            <td>Tanaka</td>\n",
              "        </tr>\n",
              "        <tr>\n",
              "            <td>3</td>\n",
              "            <td>Suzuki</td>\n",
              "        </tr>\n",
              "    </tbody>\n",
              "</table>"
            ]
          },
          "metadata": {},
          "execution_count": 23
        }
      ],
      "source": [
        "%%sql\n",
        "SELECT * FROM meibo;"
      ]
    },
    {
      "cell_type": "markdown",
      "metadata": {
        "id": "oPe_y7W0wuuw"
      },
      "source": [
        "次は、新しいカラムを追加しましょう。その人のクラスと年齢を追加します。「ALTER TABLE テーブル名 ADD 新しいカラム名 型」です。"
      ]
    },
    {
      "cell_type": "code",
      "execution_count": 24,
      "metadata": {
        "id": "iA_sS0vJwuuw",
        "colab": {
          "base_uri": "https://localhost:8080/",
          "height": 58
        },
        "outputId": "ab07e8c9-4513-49a4-9ca6-d5a4545fa626"
      },
      "outputs": [
        {
          "output_type": "display_data",
          "data": {
            "text/plain": [
              "Running query in 'duckdb://'"
            ],
            "text/html": [
              "<span style=\"None\">Running query in &#x27;duckdb://&#x27;</span>"
            ]
          },
          "metadata": {}
        },
        {
          "output_type": "execute_result",
          "data": {
            "text/plain": [
              "+---------+\n",
              "| Success |\n",
              "+---------+\n",
              "+---------+"
            ],
            "text/html": [
              "<table>\n",
              "    <thead>\n",
              "        <tr>\n",
              "            <th>Success</th>\n",
              "        </tr>\n",
              "    </thead>\n",
              "    <tbody>\n",
              "    </tbody>\n",
              "</table>"
            ]
          },
          "metadata": {},
          "execution_count": 24
        }
      ],
      "source": [
        "%%sql\n",
        "ALTER TABLE meibo ADD class INT;"
      ]
    },
    {
      "cell_type": "code",
      "execution_count": 25,
      "metadata": {
        "id": "WWHHNqlswuuw",
        "colab": {
          "base_uri": "https://localhost:8080/",
          "height": 58
        },
        "outputId": "13f079cc-7604-4bcd-8002-ff3b435d2e0a"
      },
      "outputs": [
        {
          "output_type": "display_data",
          "data": {
            "text/plain": [
              "Running query in 'duckdb://'"
            ],
            "text/html": [
              "<span style=\"None\">Running query in &#x27;duckdb://&#x27;</span>"
            ]
          },
          "metadata": {}
        },
        {
          "output_type": "execute_result",
          "data": {
            "text/plain": [
              "+---------+\n",
              "| Success |\n",
              "+---------+\n",
              "+---------+"
            ],
            "text/html": [
              "<table>\n",
              "    <thead>\n",
              "        <tr>\n",
              "            <th>Success</th>\n",
              "        </tr>\n",
              "    </thead>\n",
              "    <tbody>\n",
              "    </tbody>\n",
              "</table>"
            ]
          },
          "metadata": {},
          "execution_count": 25
        }
      ],
      "source": [
        "%%sql\n",
        "ALTER TABLE meibo ADD age INT;"
      ]
    },
    {
      "cell_type": "markdown",
      "metadata": {
        "id": "ZlWRD4LWwuuw"
      },
      "source": [
        "新しくカラムを追加したテーブルをチェックしてみましょう。classとageには、まだ何もデータは入っていないので、空（NULL）になります。  "
      ]
    },
    {
      "cell_type": "code",
      "execution_count": 26,
      "metadata": {
        "id": "ZnKSsMqEwuuw",
        "colab": {
          "base_uri": "https://localhost:8080/",
          "height": 122
        },
        "outputId": "1c119325-06ad-4c04-9402-819703d6aee0"
      },
      "outputs": [
        {
          "output_type": "display_data",
          "data": {
            "text/plain": [
              "Running query in 'duckdb://'"
            ],
            "text/html": [
              "<span style=\"None\">Running query in &#x27;duckdb://&#x27;</span>"
            ]
          },
          "metadata": {}
        },
        {
          "output_type": "execute_result",
          "data": {
            "text/plain": [
              "+----+--------+-------+------+\n",
              "| id |  name  | class | age  |\n",
              "+----+--------+-------+------+\n",
              "| 1  | Yamada |  None | None |\n",
              "| 2  | Tanaka |  None | None |\n",
              "| 3  | Suzuki |  None | None |\n",
              "+----+--------+-------+------+"
            ],
            "text/html": [
              "<table>\n",
              "    <thead>\n",
              "        <tr>\n",
              "            <th>id</th>\n",
              "            <th>name</th>\n",
              "            <th>class</th>\n",
              "            <th>age</th>\n",
              "        </tr>\n",
              "    </thead>\n",
              "    <tbody>\n",
              "        <tr>\n",
              "            <td>1</td>\n",
              "            <td>Yamada</td>\n",
              "            <td>None</td>\n",
              "            <td>None</td>\n",
              "        </tr>\n",
              "        <tr>\n",
              "            <td>2</td>\n",
              "            <td>Tanaka</td>\n",
              "            <td>None</td>\n",
              "            <td>None</td>\n",
              "        </tr>\n",
              "        <tr>\n",
              "            <td>3</td>\n",
              "            <td>Suzuki</td>\n",
              "            <td>None</td>\n",
              "            <td>None</td>\n",
              "        </tr>\n",
              "    </tbody>\n",
              "</table>"
            ]
          },
          "metadata": {},
          "execution_count": 26
        }
      ],
      "source": [
        "%%sql\n",
        "SELECT * FROM meibo;"
      ]
    },
    {
      "cell_type": "markdown",
      "metadata": {
        "id": "FzFayF6kwuuw"
      },
      "source": [
        "UPDATEを使ってデータを更新します。"
      ]
    },
    {
      "cell_type": "code",
      "execution_count": 27,
      "metadata": {
        "id": "jgVUq9Jgwuux",
        "colab": {
          "base_uri": "https://localhost:8080/",
          "height": 58
        },
        "outputId": "33114dc5-e5f1-41a9-e91b-e2ebd5be79a9"
      },
      "outputs": [
        {
          "output_type": "display_data",
          "data": {
            "text/plain": [
              "Running query in 'duckdb://'"
            ],
            "text/html": [
              "<span style=\"None\">Running query in &#x27;duckdb://&#x27;</span>"
            ]
          },
          "metadata": {}
        },
        {
          "output_type": "execute_result",
          "data": {
            "text/plain": [
              "+-------+\n",
              "| Count |\n",
              "+-------+\n",
              "+-------+"
            ],
            "text/html": [
              "<table>\n",
              "    <thead>\n",
              "        <tr>\n",
              "            <th>Count</th>\n",
              "        </tr>\n",
              "    </thead>\n",
              "    <tbody>\n",
              "    </tbody>\n",
              "</table>"
            ]
          },
          "metadata": {},
          "execution_count": 27
        }
      ],
      "source": [
        "%%sql\n",
        "UPDATE meibo\n",
        "SET class=1,age=13\n",
        "WHERE id=3;"
      ]
    },
    {
      "cell_type": "markdown",
      "metadata": {
        "id": "QxXxeYq0wuux"
      },
      "source": [
        "id=3の人のレコードにクラスと年齢のデータが入りました。"
      ]
    },
    {
      "cell_type": "code",
      "execution_count": 28,
      "metadata": {
        "id": "0MAet7plwuux",
        "colab": {
          "base_uri": "https://localhost:8080/",
          "height": 122
        },
        "outputId": "cccf0a38-6e9e-494d-8f9f-3bbceed94ff4"
      },
      "outputs": [
        {
          "output_type": "display_data",
          "data": {
            "text/plain": [
              "Running query in 'duckdb://'"
            ],
            "text/html": [
              "<span style=\"None\">Running query in &#x27;duckdb://&#x27;</span>"
            ]
          },
          "metadata": {}
        },
        {
          "output_type": "execute_result",
          "data": {
            "text/plain": [
              "+----+--------+-------+------+\n",
              "| id |  name  | class | age  |\n",
              "+----+--------+-------+------+\n",
              "| 1  | Yamada |  None | None |\n",
              "| 2  | Tanaka |  None | None |\n",
              "| 3  | Suzuki |   1   |  13  |\n",
              "+----+--------+-------+------+"
            ],
            "text/html": [
              "<table>\n",
              "    <thead>\n",
              "        <tr>\n",
              "            <th>id</th>\n",
              "            <th>name</th>\n",
              "            <th>class</th>\n",
              "            <th>age</th>\n",
              "        </tr>\n",
              "    </thead>\n",
              "    <tbody>\n",
              "        <tr>\n",
              "            <td>1</td>\n",
              "            <td>Yamada</td>\n",
              "            <td>None</td>\n",
              "            <td>None</td>\n",
              "        </tr>\n",
              "        <tr>\n",
              "            <td>2</td>\n",
              "            <td>Tanaka</td>\n",
              "            <td>None</td>\n",
              "            <td>None</td>\n",
              "        </tr>\n",
              "        <tr>\n",
              "            <td>3</td>\n",
              "            <td>Suzuki</td>\n",
              "            <td>1</td>\n",
              "            <td>13</td>\n",
              "        </tr>\n",
              "    </tbody>\n",
              "</table>"
            ]
          },
          "metadata": {},
          "execution_count": 28
        }
      ],
      "source": [
        "%%sql\n",
        "SELECT * FROM meibo;"
      ]
    },
    {
      "cell_type": "markdown",
      "metadata": {
        "id": "Xi1fUFMewuux"
      },
      "source": [
        "続けて、他の人のデータも更新しましょう。"
      ]
    },
    {
      "cell_type": "code",
      "execution_count": 29,
      "metadata": {
        "id": "6dqcYUHhwuux",
        "colab": {
          "base_uri": "https://localhost:8080/",
          "height": 58
        },
        "outputId": "cbf136a6-f28b-409b-c989-e877dbd8ae81"
      },
      "outputs": [
        {
          "output_type": "display_data",
          "data": {
            "text/plain": [
              "Running query in 'duckdb://'"
            ],
            "text/html": [
              "<span style=\"None\">Running query in &#x27;duckdb://&#x27;</span>"
            ]
          },
          "metadata": {}
        },
        {
          "output_type": "execute_result",
          "data": {
            "text/plain": [
              "+-------+\n",
              "| Count |\n",
              "+-------+\n",
              "+-------+"
            ],
            "text/html": [
              "<table>\n",
              "    <thead>\n",
              "        <tr>\n",
              "            <th>Count</th>\n",
              "        </tr>\n",
              "    </thead>\n",
              "    <tbody>\n",
              "    </tbody>\n",
              "</table>"
            ]
          },
          "metadata": {},
          "execution_count": 29
        }
      ],
      "source": [
        "%%sql\n",
        "UPDATE meibo\n",
        "SET class=1,age=14\n",
        "WHERE id=1;"
      ]
    },
    {
      "cell_type": "code",
      "execution_count": 30,
      "metadata": {
        "id": "Ydky5eF4wuux",
        "colab": {
          "base_uri": "https://localhost:8080/",
          "height": 58
        },
        "outputId": "53bfac85-3c5d-43be-a064-8bf7d48fbaf9"
      },
      "outputs": [
        {
          "output_type": "display_data",
          "data": {
            "text/plain": [
              "Running query in 'duckdb://'"
            ],
            "text/html": [
              "<span style=\"None\">Running query in &#x27;duckdb://&#x27;</span>"
            ]
          },
          "metadata": {}
        },
        {
          "output_type": "execute_result",
          "data": {
            "text/plain": [
              "+-------+\n",
              "| Count |\n",
              "+-------+\n",
              "+-------+"
            ],
            "text/html": [
              "<table>\n",
              "    <thead>\n",
              "        <tr>\n",
              "            <th>Count</th>\n",
              "        </tr>\n",
              "    </thead>\n",
              "    <tbody>\n",
              "    </tbody>\n",
              "</table>"
            ]
          },
          "metadata": {},
          "execution_count": 30
        }
      ],
      "source": [
        "%%sql\n",
        "UPDATE meibo\n",
        "SET class=2,age=13\n",
        "WHERE id=2;"
      ]
    },
    {
      "cell_type": "code",
      "execution_count": 31,
      "metadata": {
        "id": "yWyCHlwpwuux",
        "colab": {
          "base_uri": "https://localhost:8080/",
          "height": 122
        },
        "outputId": "8c9c9e44-7a81-44c6-bb4c-903824b6bbac"
      },
      "outputs": [
        {
          "output_type": "display_data",
          "data": {
            "text/plain": [
              "Running query in 'duckdb://'"
            ],
            "text/html": [
              "<span style=\"None\">Running query in &#x27;duckdb://&#x27;</span>"
            ]
          },
          "metadata": {}
        },
        {
          "output_type": "execute_result",
          "data": {
            "text/plain": [
              "+----+--------+-------+-----+\n",
              "| id |  name  | class | age |\n",
              "+----+--------+-------+-----+\n",
              "| 1  | Yamada |   1   |  14 |\n",
              "| 2  | Tanaka |   2   |  13 |\n",
              "| 3  | Suzuki |   1   |  13 |\n",
              "+----+--------+-------+-----+"
            ],
            "text/html": [
              "<table>\n",
              "    <thead>\n",
              "        <tr>\n",
              "            <th>id</th>\n",
              "            <th>name</th>\n",
              "            <th>class</th>\n",
              "            <th>age</th>\n",
              "        </tr>\n",
              "    </thead>\n",
              "    <tbody>\n",
              "        <tr>\n",
              "            <td>1</td>\n",
              "            <td>Yamada</td>\n",
              "            <td>1</td>\n",
              "            <td>14</td>\n",
              "        </tr>\n",
              "        <tr>\n",
              "            <td>2</td>\n",
              "            <td>Tanaka</td>\n",
              "            <td>2</td>\n",
              "            <td>13</td>\n",
              "        </tr>\n",
              "        <tr>\n",
              "            <td>3</td>\n",
              "            <td>Suzuki</td>\n",
              "            <td>1</td>\n",
              "            <td>13</td>\n",
              "        </tr>\n",
              "    </tbody>\n",
              "</table>"
            ]
          },
          "metadata": {},
          "execution_count": 31
        }
      ],
      "source": [
        "%%sql\n",
        "SELECT * FROM meibo;"
      ]
    },
    {
      "cell_type": "markdown",
      "metadata": {
        "id": "TsssSYgPwuux"
      },
      "source": [
        "新しい人たちのデータを追加しましょう。先ほどはINSERTを1つ1つ実行していきました。ここでは、以下のコマンドで一度に更新します。"
      ]
    },
    {
      "cell_type": "code",
      "execution_count": 32,
      "metadata": {
        "id": "-yCFVjfzwuux",
        "colab": {
          "base_uri": "https://localhost:8080/",
          "height": 58
        },
        "outputId": "b7d56516-1605-4951-964c-da6265483a11"
      },
      "outputs": [
        {
          "output_type": "display_data",
          "data": {
            "text/plain": [
              "Running query in 'duckdb://'"
            ],
            "text/html": [
              "<span style=\"None\">Running query in &#x27;duckdb://&#x27;</span>"
            ]
          },
          "metadata": {}
        },
        {
          "output_type": "execute_result",
          "data": {
            "text/plain": [
              "+-------+\n",
              "| Count |\n",
              "+-------+\n",
              "+-------+"
            ],
            "text/html": [
              "<table>\n",
              "    <thead>\n",
              "        <tr>\n",
              "            <th>Count</th>\n",
              "        </tr>\n",
              "    </thead>\n",
              "    <tbody>\n",
              "    </tbody>\n",
              "</table>"
            ]
          },
          "metadata": {},
          "execution_count": 32
        }
      ],
      "source": [
        "%%sql\n",
        "INSERT INTO meibo (id,name,class,age)\n",
        "VALUES (4,'Kato',2,15),(5,'Ito',3,12),(6,'Takeuchi',2,16),(7,'Kimura',3,11),(8,'Sato',1,14);"
      ]
    },
    {
      "cell_type": "markdown",
      "metadata": {
        "id": "FRJ0ICf8wuuy"
      },
      "source": [
        "データの確認をします。"
      ]
    },
    {
      "cell_type": "code",
      "execution_count": 33,
      "metadata": {
        "id": "2F-CVd0hwuuy",
        "colab": {
          "base_uri": "https://localhost:8080/",
          "height": 229
        },
        "outputId": "a421895b-d8fe-4ea9-e6af-a45d5ebc9306"
      },
      "outputs": [
        {
          "output_type": "display_data",
          "data": {
            "text/plain": [
              "Running query in 'duckdb://'"
            ],
            "text/html": [
              "<span style=\"None\">Running query in &#x27;duckdb://&#x27;</span>"
            ]
          },
          "metadata": {}
        },
        {
          "output_type": "execute_result",
          "data": {
            "text/plain": [
              "+----+----------+-------+-----+\n",
              "| id |   name   | class | age |\n",
              "+----+----------+-------+-----+\n",
              "| 1  |  Yamada  |   1   |  14 |\n",
              "| 2  |  Tanaka  |   2   |  13 |\n",
              "| 3  |  Suzuki  |   1   |  13 |\n",
              "| 4  |   Kato   |   2   |  15 |\n",
              "| 5  |   Ito    |   3   |  12 |\n",
              "| 6  | Takeuchi |   2   |  16 |\n",
              "| 7  |  Kimura  |   3   |  11 |\n",
              "| 8  |   Sato   |   1   |  14 |\n",
              "+----+----------+-------+-----+"
            ],
            "text/html": [
              "<table>\n",
              "    <thead>\n",
              "        <tr>\n",
              "            <th>id</th>\n",
              "            <th>name</th>\n",
              "            <th>class</th>\n",
              "            <th>age</th>\n",
              "        </tr>\n",
              "    </thead>\n",
              "    <tbody>\n",
              "        <tr>\n",
              "            <td>1</td>\n",
              "            <td>Yamada</td>\n",
              "            <td>1</td>\n",
              "            <td>14</td>\n",
              "        </tr>\n",
              "        <tr>\n",
              "            <td>2</td>\n",
              "            <td>Tanaka</td>\n",
              "            <td>2</td>\n",
              "            <td>13</td>\n",
              "        </tr>\n",
              "        <tr>\n",
              "            <td>3</td>\n",
              "            <td>Suzuki</td>\n",
              "            <td>1</td>\n",
              "            <td>13</td>\n",
              "        </tr>\n",
              "        <tr>\n",
              "            <td>4</td>\n",
              "            <td>Kato</td>\n",
              "            <td>2</td>\n",
              "            <td>15</td>\n",
              "        </tr>\n",
              "        <tr>\n",
              "            <td>5</td>\n",
              "            <td>Ito</td>\n",
              "            <td>3</td>\n",
              "            <td>12</td>\n",
              "        </tr>\n",
              "        <tr>\n",
              "            <td>6</td>\n",
              "            <td>Takeuchi</td>\n",
              "            <td>2</td>\n",
              "            <td>16</td>\n",
              "        </tr>\n",
              "        <tr>\n",
              "            <td>7</td>\n",
              "            <td>Kimura</td>\n",
              "            <td>3</td>\n",
              "            <td>11</td>\n",
              "        </tr>\n",
              "        <tr>\n",
              "            <td>8</td>\n",
              "            <td>Sato</td>\n",
              "            <td>1</td>\n",
              "            <td>14</td>\n",
              "        </tr>\n",
              "    </tbody>\n",
              "</table>"
            ]
          },
          "metadata": {},
          "execution_count": 33
        }
      ],
      "source": [
        "%%sql\n",
        "SELECT * FROM meibo;"
      ]
    },
    {
      "cell_type": "markdown",
      "metadata": {
        "id": "tNkNis2lwuuy"
      },
      "source": [
        ">**[ポイント]**\n",
        ">\n",
        ">SELCT * FROM [テーブル名] WHERE 条件：条件でデータを絞り込み\n",
        ">\n",
        ">IN：条件マッチ\n",
        ">\n",
        ">LIKE：曖昧検索\n",
        ">\n",
        ">DELETE FROM [テーブル名]：データの削除（注：条件を絞りこむ場合はWHERE文を追加する）\n",
        ">\n",
        ">ALTER [テーブル名] ADD [カラム名 型]:テーブルのカラム名追加\n",
        ">\n",
        ">UPDATE [テーブル名] SET ：データのアップデート"
      ]
    },
    {
      "cell_type": "markdown",
      "metadata": {
        "id": "MgFLjANzwuuy"
      },
      "source": [
        "#### <練習問題 1>\n",
        "上記のテーブルmeiboにて、id=4の人レコードを抽出してください。"
      ]
    },
    {
      "cell_type": "code",
      "execution_count": 34,
      "metadata": {
        "id": "BpOVnqr-wuuy",
        "colab": {
          "base_uri": "https://localhost:8080/",
          "height": 79
        },
        "outputId": "24af9c35-3bb8-40f3-dfe8-0eb09973f1a1"
      },
      "outputs": [
        {
          "output_type": "display_data",
          "data": {
            "text/plain": [
              "Running query in 'duckdb://'"
            ],
            "text/html": [
              "<span style=\"None\">Running query in &#x27;duckdb://&#x27;</span>"
            ]
          },
          "metadata": {}
        },
        {
          "output_type": "execute_result",
          "data": {
            "text/plain": [
              "+----+------+-------+-----+\n",
              "| id | name | class | age |\n",
              "+----+------+-------+-----+\n",
              "| 4  | Kato |   2   |  15 |\n",
              "+----+------+-------+-----+"
            ],
            "text/html": [
              "<table>\n",
              "    <thead>\n",
              "        <tr>\n",
              "            <th>id</th>\n",
              "            <th>name</th>\n",
              "            <th>class</th>\n",
              "            <th>age</th>\n",
              "        </tr>\n",
              "    </thead>\n",
              "    <tbody>\n",
              "        <tr>\n",
              "            <td>4</td>\n",
              "            <td>Kato</td>\n",
              "            <td>2</td>\n",
              "            <td>15</td>\n",
              "        </tr>\n",
              "    </tbody>\n",
              "</table>"
            ]
          },
          "metadata": {},
          "execution_count": 34
        }
      ],
      "source": [
        "%%sql\n",
        "SELECT * FROM meibo WHERE id = 4;"
      ]
    },
    {
      "cell_type": "markdown",
      "metadata": {
        "id": "UGAdyM2Awuuy"
      },
      "source": [
        "#### <練習問題 2>\n",
        "\n",
        "上のmeiboテーブルでid=8の人のclassを7にアップデートしてください。select文でアップデートを確認できたら、id=8の人のclassを1に戻してください。"
      ]
    },
    {
      "cell_type": "code",
      "execution_count": 35,
      "metadata": {
        "id": "LJrnL6dEwuuz",
        "colab": {
          "base_uri": "https://localhost:8080/",
          "height": 79
        },
        "outputId": "225aedfe-68e6-4647-8603-2af8666eb004"
      },
      "outputs": [
        {
          "output_type": "display_data",
          "data": {
            "text/plain": [
              "Running query in 'duckdb://'"
            ],
            "text/html": [
              "<span style=\"None\">Running query in &#x27;duckdb://&#x27;</span>"
            ]
          },
          "metadata": {}
        },
        {
          "output_type": "execute_result",
          "data": {
            "text/plain": [
              "+----+------+-------+-----+\n",
              "| id | name | class | age |\n",
              "+----+------+-------+-----+\n",
              "| 8  | Sato |   1   |  14 |\n",
              "+----+------+-------+-----+"
            ],
            "text/html": [
              "<table>\n",
              "    <thead>\n",
              "        <tr>\n",
              "            <th>id</th>\n",
              "            <th>name</th>\n",
              "            <th>class</th>\n",
              "            <th>age</th>\n",
              "        </tr>\n",
              "    </thead>\n",
              "    <tbody>\n",
              "        <tr>\n",
              "            <td>8</td>\n",
              "            <td>Sato</td>\n",
              "            <td>1</td>\n",
              "            <td>14</td>\n",
              "        </tr>\n",
              "    </tbody>\n",
              "</table>"
            ]
          },
          "metadata": {},
          "execution_count": 35
        }
      ],
      "source": [
        "%%sql\n",
        "SELECT * FROM meibo WHERE id = 8;"
      ]
    },
    {
      "cell_type": "code",
      "execution_count": 36,
      "metadata": {
        "id": "ELrI3rUVwuuz",
        "colab": {
          "base_uri": "https://localhost:8080/",
          "height": 58
        },
        "outputId": "495aeaf8-d6ac-4962-810d-4fb056473f94"
      },
      "outputs": [
        {
          "output_type": "display_data",
          "data": {
            "text/plain": [
              "Running query in 'duckdb://'"
            ],
            "text/html": [
              "<span style=\"None\">Running query in &#x27;duckdb://&#x27;</span>"
            ]
          },
          "metadata": {}
        },
        {
          "output_type": "execute_result",
          "data": {
            "text/plain": [
              "+-------+\n",
              "| Count |\n",
              "+-------+\n",
              "+-------+"
            ],
            "text/html": [
              "<table>\n",
              "    <thead>\n",
              "        <tr>\n",
              "            <th>Count</th>\n",
              "        </tr>\n",
              "    </thead>\n",
              "    <tbody>\n",
              "    </tbody>\n",
              "</table>"
            ]
          },
          "metadata": {},
          "execution_count": 36
        }
      ],
      "source": [
        "%%sql\n",
        "UPDATE meibo\n",
        "SET class = 7\n",
        "WHERE id=8;"
      ]
    },
    {
      "cell_type": "code",
      "execution_count": 37,
      "metadata": {
        "id": "-2g9Jygzwuuz",
        "colab": {
          "base_uri": "https://localhost:8080/",
          "height": 79
        },
        "outputId": "00275159-c71b-4095-fc7a-451a1a2f6c55"
      },
      "outputs": [
        {
          "output_type": "display_data",
          "data": {
            "text/plain": [
              "Running query in 'duckdb://'"
            ],
            "text/html": [
              "<span style=\"None\">Running query in &#x27;duckdb://&#x27;</span>"
            ]
          },
          "metadata": {}
        },
        {
          "output_type": "execute_result",
          "data": {
            "text/plain": [
              "+----+------+-------+-----+\n",
              "| id | name | class | age |\n",
              "+----+------+-------+-----+\n",
              "| 8  | Sato |   7   |  14 |\n",
              "+----+------+-------+-----+"
            ],
            "text/html": [
              "<table>\n",
              "    <thead>\n",
              "        <tr>\n",
              "            <th>id</th>\n",
              "            <th>name</th>\n",
              "            <th>class</th>\n",
              "            <th>age</th>\n",
              "        </tr>\n",
              "    </thead>\n",
              "    <tbody>\n",
              "        <tr>\n",
              "            <td>8</td>\n",
              "            <td>Sato</td>\n",
              "            <td>7</td>\n",
              "            <td>14</td>\n",
              "        </tr>\n",
              "    </tbody>\n",
              "</table>"
            ]
          },
          "metadata": {},
          "execution_count": 37
        }
      ],
      "source": [
        "%%sql\n",
        "SELECT * FROM meibo WHERE id = 8;"
      ]
    },
    {
      "cell_type": "code",
      "execution_count": 38,
      "metadata": {
        "id": "72-PCQXLwuuz",
        "colab": {
          "base_uri": "https://localhost:8080/",
          "height": 58
        },
        "outputId": "f4ef0662-5541-40a9-af73-0a677a1adddc"
      },
      "outputs": [
        {
          "output_type": "display_data",
          "data": {
            "text/plain": [
              "Running query in 'duckdb://'"
            ],
            "text/html": [
              "<span style=\"None\">Running query in &#x27;duckdb://&#x27;</span>"
            ]
          },
          "metadata": {}
        },
        {
          "output_type": "execute_result",
          "data": {
            "text/plain": [
              "+-------+\n",
              "| Count |\n",
              "+-------+\n",
              "+-------+"
            ],
            "text/html": [
              "<table>\n",
              "    <thead>\n",
              "        <tr>\n",
              "            <th>Count</th>\n",
              "        </tr>\n",
              "    </thead>\n",
              "    <tbody>\n",
              "    </tbody>\n",
              "</table>"
            ]
          },
          "metadata": {},
          "execution_count": 38
        }
      ],
      "source": [
        "%%sql\n",
        "UPDATE meibo\n",
        "SET class = 1\n",
        "WHERE id=8;"
      ]
    },
    {
      "cell_type": "code",
      "execution_count": 39,
      "metadata": {
        "id": "OamO0TN7wuuz",
        "colab": {
          "base_uri": "https://localhost:8080/",
          "height": 79
        },
        "outputId": "d4a66363-5f84-41c2-a057-cfdd540a1555"
      },
      "outputs": [
        {
          "output_type": "display_data",
          "data": {
            "text/plain": [
              "Running query in 'duckdb://'"
            ],
            "text/html": [
              "<span style=\"None\">Running query in &#x27;duckdb://&#x27;</span>"
            ]
          },
          "metadata": {}
        },
        {
          "output_type": "execute_result",
          "data": {
            "text/plain": [
              "+----+------+-------+-----+\n",
              "| id | name | class | age |\n",
              "+----+------+-------+-----+\n",
              "| 8  | Sato |   1   |  14 |\n",
              "+----+------+-------+-----+"
            ],
            "text/html": [
              "<table>\n",
              "    <thead>\n",
              "        <tr>\n",
              "            <th>id</th>\n",
              "            <th>name</th>\n",
              "            <th>class</th>\n",
              "            <th>age</th>\n",
              "        </tr>\n",
              "    </thead>\n",
              "    <tbody>\n",
              "        <tr>\n",
              "            <td>8</td>\n",
              "            <td>Sato</td>\n",
              "            <td>1</td>\n",
              "            <td>14</td>\n",
              "        </tr>\n",
              "    </tbody>\n",
              "</table>"
            ]
          },
          "metadata": {},
          "execution_count": 39
        }
      ],
      "source": [
        "%%sql\n",
        " SELECT * FROM meibo WHERE id = 8;"
      ]
    },
    {
      "cell_type": "markdown",
      "metadata": {
        "id": "1P7rtAV-wuuz"
      },
      "source": [
        "#### <練習問題 3>　(※必須問題：以降の問題で使います。)\n",
        "\n",
        "上記と同じテーブルmeiboに新しい列heightという身長のカラムを追加してください。さらに、id=1から4までの人は150、id=5から6までの人は155、id=7から8までの人は160でアップデートしてください。"
      ]
    },
    {
      "cell_type": "code",
      "execution_count": 40,
      "metadata": {
        "id": "C9zPpMqJwuu0",
        "colab": {
          "base_uri": "https://localhost:8080/",
          "height": 58
        },
        "outputId": "4b1b6921-e91a-4ffb-ed52-36b6f0db4bfc"
      },
      "outputs": [
        {
          "output_type": "display_data",
          "data": {
            "text/plain": [
              "Running query in 'duckdb://'"
            ],
            "text/html": [
              "<span style=\"None\">Running query in &#x27;duckdb://&#x27;</span>"
            ]
          },
          "metadata": {}
        },
        {
          "output_type": "execute_result",
          "data": {
            "text/plain": [
              "+---------+\n",
              "| Success |\n",
              "+---------+\n",
              "+---------+"
            ],
            "text/html": [
              "<table>\n",
              "    <thead>\n",
              "        <tr>\n",
              "            <th>Success</th>\n",
              "        </tr>\n",
              "    </thead>\n",
              "    <tbody>\n",
              "    </tbody>\n",
              "</table>"
            ]
          },
          "metadata": {},
          "execution_count": 40
        }
      ],
      "source": [
        "%%sql\n",
        "ALTER TABLE meibo ADD height INT;"
      ]
    },
    {
      "cell_type": "code",
      "execution_count": 41,
      "metadata": {
        "id": "REhbEVhUwuu0",
        "colab": {
          "base_uri": "https://localhost:8080/",
          "height": 58
        },
        "outputId": "f1ca09d2-e919-4990-bb7a-265d84455378"
      },
      "outputs": [
        {
          "output_type": "display_data",
          "data": {
            "text/plain": [
              "Running query in 'duckdb://'"
            ],
            "text/html": [
              "<span style=\"None\">Running query in &#x27;duckdb://&#x27;</span>"
            ]
          },
          "metadata": {}
        },
        {
          "output_type": "execute_result",
          "data": {
            "text/plain": [
              "+-------+\n",
              "| Count |\n",
              "+-------+\n",
              "+-------+"
            ],
            "text/html": [
              "<table>\n",
              "    <thead>\n",
              "        <tr>\n",
              "            <th>Count</th>\n",
              "        </tr>\n",
              "    </thead>\n",
              "    <tbody>\n",
              "    </tbody>\n",
              "</table>"
            ]
          },
          "metadata": {},
          "execution_count": 41
        }
      ],
      "source": [
        "%%sql\n",
        "UPDATE meibo\n",
        "SET height=150\n",
        "WHERE id<=4;"
      ]
    },
    {
      "cell_type": "code",
      "execution_count": 42,
      "metadata": {
        "id": "JvlIgAJCwuu0",
        "colab": {
          "base_uri": "https://localhost:8080/",
          "height": 58
        },
        "outputId": "0a4cb7ba-67ae-419b-cbcb-13966b16b607"
      },
      "outputs": [
        {
          "output_type": "display_data",
          "data": {
            "text/plain": [
              "Running query in 'duckdb://'"
            ],
            "text/html": [
              "<span style=\"None\">Running query in &#x27;duckdb://&#x27;</span>"
            ]
          },
          "metadata": {}
        },
        {
          "output_type": "execute_result",
          "data": {
            "text/plain": [
              "+-------+\n",
              "| Count |\n",
              "+-------+\n",
              "+-------+"
            ],
            "text/html": [
              "<table>\n",
              "    <thead>\n",
              "        <tr>\n",
              "            <th>Count</th>\n",
              "        </tr>\n",
              "    </thead>\n",
              "    <tbody>\n",
              "    </tbody>\n",
              "</table>"
            ]
          },
          "metadata": {},
          "execution_count": 42
        }
      ],
      "source": [
        "%%sql\n",
        "UPDATE meibo\n",
        "SET height=155\n",
        "WHERE id>=5 AND id<=6;"
      ]
    },
    {
      "cell_type": "code",
      "execution_count": 43,
      "metadata": {
        "id": "vYnPvvAIwuu0",
        "colab": {
          "base_uri": "https://localhost:8080/",
          "height": 58
        },
        "outputId": "843738ad-2055-458c-e7c7-41422f951254"
      },
      "outputs": [
        {
          "output_type": "display_data",
          "data": {
            "text/plain": [
              "Running query in 'duckdb://'"
            ],
            "text/html": [
              "<span style=\"None\">Running query in &#x27;duckdb://&#x27;</span>"
            ]
          },
          "metadata": {}
        },
        {
          "output_type": "execute_result",
          "data": {
            "text/plain": [
              "+-------+\n",
              "| Count |\n",
              "+-------+\n",
              "+-------+"
            ],
            "text/html": [
              "<table>\n",
              "    <thead>\n",
              "        <tr>\n",
              "            <th>Count</th>\n",
              "        </tr>\n",
              "    </thead>\n",
              "    <tbody>\n",
              "    </tbody>\n",
              "</table>"
            ]
          },
          "metadata": {},
          "execution_count": 43
        }
      ],
      "source": [
        "%%sql\n",
        "UPDATE meibo\n",
        "SET height=160\n",
        "WHERE id>=7;"
      ]
    },
    {
      "cell_type": "code",
      "execution_count": 44,
      "metadata": {
        "id": "yWbZT1e8wuu0",
        "colab": {
          "base_uri": "https://localhost:8080/",
          "height": 229
        },
        "outputId": "5a1ac790-9d1d-42a9-f2f2-3543c5a969be"
      },
      "outputs": [
        {
          "output_type": "display_data",
          "data": {
            "text/plain": [
              "Running query in 'duckdb://'"
            ],
            "text/html": [
              "<span style=\"None\">Running query in &#x27;duckdb://&#x27;</span>"
            ]
          },
          "metadata": {}
        },
        {
          "output_type": "execute_result",
          "data": {
            "text/plain": [
              "+----+----------+-------+-----+--------+\n",
              "| id |   name   | class | age | height |\n",
              "+----+----------+-------+-----+--------+\n",
              "| 1  |  Yamada  |   1   |  14 |  150   |\n",
              "| 2  |  Tanaka  |   2   |  13 |  150   |\n",
              "| 3  |  Suzuki  |   1   |  13 |  150   |\n",
              "| 4  |   Kato   |   2   |  15 |  150   |\n",
              "| 5  |   Ito    |   3   |  12 |  155   |\n",
              "| 6  | Takeuchi |   2   |  16 |  155   |\n",
              "| 7  |  Kimura  |   3   |  11 |  160   |\n",
              "| 8  |   Sato   |   1   |  14 |  160   |\n",
              "+----+----------+-------+-----+--------+"
            ],
            "text/html": [
              "<table>\n",
              "    <thead>\n",
              "        <tr>\n",
              "            <th>id</th>\n",
              "            <th>name</th>\n",
              "            <th>class</th>\n",
              "            <th>age</th>\n",
              "            <th>height</th>\n",
              "        </tr>\n",
              "    </thead>\n",
              "    <tbody>\n",
              "        <tr>\n",
              "            <td>1</td>\n",
              "            <td>Yamada</td>\n",
              "            <td>1</td>\n",
              "            <td>14</td>\n",
              "            <td>150</td>\n",
              "        </tr>\n",
              "        <tr>\n",
              "            <td>2</td>\n",
              "            <td>Tanaka</td>\n",
              "            <td>2</td>\n",
              "            <td>13</td>\n",
              "            <td>150</td>\n",
              "        </tr>\n",
              "        <tr>\n",
              "            <td>3</td>\n",
              "            <td>Suzuki</td>\n",
              "            <td>1</td>\n",
              "            <td>13</td>\n",
              "            <td>150</td>\n",
              "        </tr>\n",
              "        <tr>\n",
              "            <td>4</td>\n",
              "            <td>Kato</td>\n",
              "            <td>2</td>\n",
              "            <td>15</td>\n",
              "            <td>150</td>\n",
              "        </tr>\n",
              "        <tr>\n",
              "            <td>5</td>\n",
              "            <td>Ito</td>\n",
              "            <td>3</td>\n",
              "            <td>12</td>\n",
              "            <td>155</td>\n",
              "        </tr>\n",
              "        <tr>\n",
              "            <td>6</td>\n",
              "            <td>Takeuchi</td>\n",
              "            <td>2</td>\n",
              "            <td>16</td>\n",
              "            <td>155</td>\n",
              "        </tr>\n",
              "        <tr>\n",
              "            <td>7</td>\n",
              "            <td>Kimura</td>\n",
              "            <td>3</td>\n",
              "            <td>11</td>\n",
              "            <td>160</td>\n",
              "        </tr>\n",
              "        <tr>\n",
              "            <td>8</td>\n",
              "            <td>Sato</td>\n",
              "            <td>1</td>\n",
              "            <td>14</td>\n",
              "            <td>160</td>\n",
              "        </tr>\n",
              "    </tbody>\n",
              "</table>"
            ]
          },
          "metadata": {},
          "execution_count": 44
        }
      ],
      "source": [
        "%%sql\n",
        "SELECT * FROM meibo;"
      ]
    },
    {
      "cell_type": "markdown",
      "metadata": {
        "id": "ISMTWcHIwuu0"
      },
      "source": [
        "### 7.2.3 データの集計、演算、並び替え\n",
        "キーワード：COUNT, DISTINCT, ORDER, AVG, SUM, LIMIT\n"
      ]
    },
    {
      "cell_type": "markdown",
      "metadata": {
        "id": "_pm1Uw7Zwuu0"
      },
      "source": [
        "次は、SQLを使った集計になります。データを見るときにまず気になるのが、何レコードあるかということです。以下で、データが何行あるかカウントするために、COUNTを使っています。"
      ]
    },
    {
      "cell_type": "code",
      "execution_count": 45,
      "metadata": {
        "id": "TywcEYKqwuu1",
        "scrolled": true,
        "colab": {
          "base_uri": "https://localhost:8080/",
          "height": 79
        },
        "outputId": "17ac5d91-5525-4ea5-8c86-5e4fb709fda4"
      },
      "outputs": [
        {
          "output_type": "display_data",
          "data": {
            "text/plain": [
              "Running query in 'duckdb://'"
            ],
            "text/html": [
              "<span style=\"None\">Running query in &#x27;duckdb://&#x27;</span>"
            ]
          },
          "metadata": {}
        },
        {
          "output_type": "execute_result",
          "data": {
            "text/plain": [
              "+--------------+\n",
              "| count_star() |\n",
              "+--------------+\n",
              "|      8       |\n",
              "+--------------+"
            ],
            "text/html": [
              "<table>\n",
              "    <thead>\n",
              "        <tr>\n",
              "            <th>count_star()</th>\n",
              "        </tr>\n",
              "    </thead>\n",
              "    <tbody>\n",
              "        <tr>\n",
              "            <td>8</td>\n",
              "        </tr>\n",
              "    </tbody>\n",
              "</table>"
            ]
          },
          "metadata": {},
          "execution_count": 45
        }
      ],
      "source": [
        "%%sql\n",
        "SELECT COUNT(*) FROM meibo;"
      ]
    },
    {
      "cell_type": "markdown",
      "metadata": {
        "id": "ZnDNX6gFwuu1"
      },
      "source": [
        "なお、asで名前をつけることができます。エイリアスといいます。cntというカラム名をつけてみましょう。"
      ]
    },
    {
      "cell_type": "code",
      "execution_count": 46,
      "metadata": {
        "id": "SNjmfxxcwuu1",
        "colab": {
          "base_uri": "https://localhost:8080/",
          "height": 79
        },
        "outputId": "a6b3cb0a-b844-4de8-cb97-8aa07f7759f6"
      },
      "outputs": [
        {
          "output_type": "display_data",
          "data": {
            "text/plain": [
              "Running query in 'duckdb://'"
            ],
            "text/html": [
              "<span style=\"None\">Running query in &#x27;duckdb://&#x27;</span>"
            ]
          },
          "metadata": {}
        },
        {
          "output_type": "execute_result",
          "data": {
            "text/plain": [
              "+-----+\n",
              "| cnt |\n",
              "+-----+\n",
              "|  8  |\n",
              "+-----+"
            ],
            "text/html": [
              "<table>\n",
              "    <thead>\n",
              "        <tr>\n",
              "            <th>cnt</th>\n",
              "        </tr>\n",
              "    </thead>\n",
              "    <tbody>\n",
              "        <tr>\n",
              "            <td>8</td>\n",
              "        </tr>\n",
              "    </tbody>\n",
              "</table>"
            ]
          },
          "metadata": {},
          "execution_count": 46
        }
      ],
      "source": [
        "%%sql\n",
        "SELECT COUNT(*) AS cnt FROM meibo;"
      ]
    },
    {
      "cell_type": "markdown",
      "metadata": {
        "id": "LX5uX152wuu1"
      },
      "source": [
        "次は、このCOUNTを使って、異なる種類のデータを数えてみます。具体的には、先ほどレコード数は8レコードありましたが、異なるクラスは何クラスあるでしょうか。COUNTとDISTINCT を併用することで、重複を除いた件数をカウントできます。"
      ]
    },
    {
      "cell_type": "code",
      "execution_count": 47,
      "metadata": {
        "id": "Hl0c_Tulwuu1",
        "scrolled": true,
        "colab": {
          "base_uri": "https://localhost:8080/",
          "height": 79
        },
        "outputId": "4ba4fe4d-4581-48a1-9eef-429f510d29c2"
      },
      "outputs": [
        {
          "output_type": "display_data",
          "data": {
            "text/plain": [
              "Running query in 'duckdb://'"
            ],
            "text/html": [
              "<span style=\"None\">Running query in &#x27;duckdb://&#x27;</span>"
            ]
          },
          "metadata": {}
        },
        {
          "output_type": "execute_result",
          "data": {
            "text/plain": [
              "+----------+\n",
              "| classCnt |\n",
              "+----------+\n",
              "|    3     |\n",
              "+----------+"
            ],
            "text/html": [
              "<table>\n",
              "    <thead>\n",
              "        <tr>\n",
              "            <th>classCnt</th>\n",
              "        </tr>\n",
              "    </thead>\n",
              "    <tbody>\n",
              "        <tr>\n",
              "            <td>3</td>\n",
              "        </tr>\n",
              "    </tbody>\n",
              "</table>"
            ]
          },
          "metadata": {},
          "execution_count": 47
        }
      ],
      "source": [
        "%%sql\n",
        "SELECT COUNT(DISTINCT class) AS classCnt FROM meibo;"
      ]
    },
    {
      "cell_type": "markdown",
      "metadata": {
        "id": "gvJbdyxtwuu1"
      },
      "source": [
        "次は、平均を計算します。以下は、平均年齢を計算しています。AVGを使います。"
      ]
    },
    {
      "cell_type": "code",
      "execution_count": 48,
      "metadata": {
        "id": "OSeMHw27wuu1",
        "colab": {
          "base_uri": "https://localhost:8080/",
          "height": 79
        },
        "outputId": "574ad22a-ef04-48b6-c278-8e90ae59bdf8"
      },
      "outputs": [
        {
          "output_type": "display_data",
          "data": {
            "text/plain": [
              "Running query in 'duckdb://'"
            ],
            "text/html": [
              "<span style=\"None\">Running query in &#x27;duckdb://&#x27;</span>"
            ]
          },
          "metadata": {}
        },
        {
          "output_type": "execute_result",
          "data": {
            "text/plain": [
              "+--------+\n",
              "| avgAge |\n",
              "+--------+\n",
              "|  13.5  |\n",
              "+--------+"
            ],
            "text/html": [
              "<table>\n",
              "    <thead>\n",
              "        <tr>\n",
              "            <th>avgAge</th>\n",
              "        </tr>\n",
              "    </thead>\n",
              "    <tbody>\n",
              "        <tr>\n",
              "            <td>13.5</td>\n",
              "        </tr>\n",
              "    </tbody>\n",
              "</table>"
            ]
          },
          "metadata": {},
          "execution_count": 48
        }
      ],
      "source": [
        "%%sql\n",
        " SELECT AVG(age) AS avgAge FROM meibo;"
      ]
    },
    {
      "cell_type": "markdown",
      "metadata": {
        "id": "6Rgd4BEYwuu2"
      },
      "source": [
        "なお、SUM関数を使うと合計されますが、年齢の合計の用途はあまりなさそうです。ここでは、先ほどのCOUNTと組み合わせて、平均年齢を算出しましょう。上記の結果と同じになっていることがわかります。このように、SELECTの中で演算が可能です。"
      ]
    },
    {
      "cell_type": "code",
      "execution_count": 49,
      "metadata": {
        "id": "Ma3pf4dnwuu2",
        "colab": {
          "base_uri": "https://localhost:8080/",
          "height": 79
        },
        "outputId": "11c05cdc-9bdf-4bbe-e69b-d47e14cb45fc"
      },
      "outputs": [
        {
          "output_type": "display_data",
          "data": {
            "text/plain": [
              "Running query in 'duckdb://'"
            ],
            "text/html": [
              "<span style=\"None\">Running query in &#x27;duckdb://&#x27;</span>"
            ]
          },
          "metadata": {}
        },
        {
          "output_type": "execute_result",
          "data": {
            "text/plain": [
              "+--------+\n",
              "| avgAge |\n",
              "+--------+\n",
              "|  13.5  |\n",
              "+--------+"
            ],
            "text/html": [
              "<table>\n",
              "    <thead>\n",
              "        <tr>\n",
              "            <th>avgAge</th>\n",
              "        </tr>\n",
              "    </thead>\n",
              "    <tbody>\n",
              "        <tr>\n",
              "            <td>13.5</td>\n",
              "        </tr>\n",
              "    </tbody>\n",
              "</table>"
            ]
          },
          "metadata": {},
          "execution_count": 49
        }
      ],
      "source": [
        "%%sql\n",
        "SELECT CAST(SUM(age) AS REAL) / CAST(COUNT(*) AS REAL) AS avgAge FROM meibo;"
      ]
    },
    {
      "cell_type": "markdown",
      "metadata": {
        "id": "SnlKC8w3wuu2"
      },
      "source": [
        "年齢最大値と最小値は以下のように記述します。最年少が11歳、最年長が16歳とわかります。"
      ]
    },
    {
      "cell_type": "code",
      "execution_count": 50,
      "metadata": {
        "id": "qEhGZJW9wuu2",
        "colab": {
          "base_uri": "https://localhost:8080/",
          "height": 79
        },
        "outputId": "498ea3b9-e8bb-469e-a1e1-f607f118241e"
      },
      "outputs": [
        {
          "output_type": "display_data",
          "data": {
            "text/plain": [
              "Running query in 'duckdb://'"
            ],
            "text/html": [
              "<span style=\"None\">Running query in &#x27;duckdb://&#x27;</span>"
            ]
          },
          "metadata": {}
        },
        {
          "output_type": "execute_result",
          "data": {
            "text/plain": [
              "+--------+--------+\n",
              "| minAge | maxAge |\n",
              "+--------+--------+\n",
              "|   11   |   16   |\n",
              "+--------+--------+"
            ],
            "text/html": [
              "<table>\n",
              "    <thead>\n",
              "        <tr>\n",
              "            <th>minAge</th>\n",
              "            <th>maxAge</th>\n",
              "        </tr>\n",
              "    </thead>\n",
              "    <tbody>\n",
              "        <tr>\n",
              "            <td>11</td>\n",
              "            <td>16</td>\n",
              "        </tr>\n",
              "    </tbody>\n",
              "</table>"
            ]
          },
          "metadata": {},
          "execution_count": 50
        }
      ],
      "source": [
        "%%sql\n",
        "SELECT MIN(age) AS minAge, MAX(age) AS maxAge FROM meibo;"
      ]
    },
    {
      "cell_type": "markdown",
      "metadata": {
        "id": "7T16QDtQwuu2"
      },
      "source": [
        "次は、idを軸として降順に並べてみましょう。並び替えはORDER BY カラム名を使います。 DESCをつけることで、降順（大きいものから小さいものの順番）になります。"
      ]
    },
    {
      "cell_type": "code",
      "execution_count": 51,
      "metadata": {
        "id": "WbqDhkt5wuu2",
        "scrolled": true,
        "colab": {
          "base_uri": "https://localhost:8080/",
          "height": 229
        },
        "outputId": "76044b0d-47a1-47a7-c4eb-cab87c461f4f"
      },
      "outputs": [
        {
          "output_type": "display_data",
          "data": {
            "text/plain": [
              "Running query in 'duckdb://'"
            ],
            "text/html": [
              "<span style=\"None\">Running query in &#x27;duckdb://&#x27;</span>"
            ]
          },
          "metadata": {}
        },
        {
          "output_type": "execute_result",
          "data": {
            "text/plain": [
              "+----+----------+-------+-----+--------+\n",
              "| id |   name   | class | age | height |\n",
              "+----+----------+-------+-----+--------+\n",
              "| 8  |   Sato   |   1   |  14 |  160   |\n",
              "| 7  |  Kimura  |   3   |  11 |  160   |\n",
              "| 6  | Takeuchi |   2   |  16 |  155   |\n",
              "| 5  |   Ito    |   3   |  12 |  155   |\n",
              "| 4  |   Kato   |   2   |  15 |  150   |\n",
              "| 3  |  Suzuki  |   1   |  13 |  150   |\n",
              "| 2  |  Tanaka  |   2   |  13 |  150   |\n",
              "| 1  |  Yamada  |   1   |  14 |  150   |\n",
              "+----+----------+-------+-----+--------+"
            ],
            "text/html": [
              "<table>\n",
              "    <thead>\n",
              "        <tr>\n",
              "            <th>id</th>\n",
              "            <th>name</th>\n",
              "            <th>class</th>\n",
              "            <th>age</th>\n",
              "            <th>height</th>\n",
              "        </tr>\n",
              "    </thead>\n",
              "    <tbody>\n",
              "        <tr>\n",
              "            <td>8</td>\n",
              "            <td>Sato</td>\n",
              "            <td>1</td>\n",
              "            <td>14</td>\n",
              "            <td>160</td>\n",
              "        </tr>\n",
              "        <tr>\n",
              "            <td>7</td>\n",
              "            <td>Kimura</td>\n",
              "            <td>3</td>\n",
              "            <td>11</td>\n",
              "            <td>160</td>\n",
              "        </tr>\n",
              "        <tr>\n",
              "            <td>6</td>\n",
              "            <td>Takeuchi</td>\n",
              "            <td>2</td>\n",
              "            <td>16</td>\n",
              "            <td>155</td>\n",
              "        </tr>\n",
              "        <tr>\n",
              "            <td>5</td>\n",
              "            <td>Ito</td>\n",
              "            <td>3</td>\n",
              "            <td>12</td>\n",
              "            <td>155</td>\n",
              "        </tr>\n",
              "        <tr>\n",
              "            <td>4</td>\n",
              "            <td>Kato</td>\n",
              "            <td>2</td>\n",
              "            <td>15</td>\n",
              "            <td>150</td>\n",
              "        </tr>\n",
              "        <tr>\n",
              "            <td>3</td>\n",
              "            <td>Suzuki</td>\n",
              "            <td>1</td>\n",
              "            <td>13</td>\n",
              "            <td>150</td>\n",
              "        </tr>\n",
              "        <tr>\n",
              "            <td>2</td>\n",
              "            <td>Tanaka</td>\n",
              "            <td>2</td>\n",
              "            <td>13</td>\n",
              "            <td>150</td>\n",
              "        </tr>\n",
              "        <tr>\n",
              "            <td>1</td>\n",
              "            <td>Yamada</td>\n",
              "            <td>1</td>\n",
              "            <td>14</td>\n",
              "            <td>150</td>\n",
              "        </tr>\n",
              "    </tbody>\n",
              "</table>"
            ]
          },
          "metadata": {},
          "execution_count": 51
        }
      ],
      "source": [
        "%%sql\n",
        "SELECT * FROM meibo ORDER BY id DESC;"
      ]
    },
    {
      "cell_type": "markdown",
      "metadata": {
        "id": "INaAsTVswuu2"
      },
      "source": [
        "今度は、ageを軸として昇順（小さいものから大きいものの順番）に並べてみましょう。デフォルトは昇順です。"
      ]
    },
    {
      "cell_type": "code",
      "execution_count": 52,
      "metadata": {
        "id": "SshOM7Vswuu2",
        "colab": {
          "base_uri": "https://localhost:8080/",
          "height": 229
        },
        "outputId": "9f619f88-429d-40fc-db47-25952f6bfa29"
      },
      "outputs": [
        {
          "output_type": "display_data",
          "data": {
            "text/plain": [
              "Running query in 'duckdb://'"
            ],
            "text/html": [
              "<span style=\"None\">Running query in &#x27;duckdb://&#x27;</span>"
            ]
          },
          "metadata": {}
        },
        {
          "output_type": "execute_result",
          "data": {
            "text/plain": [
              "+----+----------+-------+-----+--------+\n",
              "| id |   name   | class | age | height |\n",
              "+----+----------+-------+-----+--------+\n",
              "| 7  |  Kimura  |   3   |  11 |  160   |\n",
              "| 5  |   Ito    |   3   |  12 |  155   |\n",
              "| 2  |  Tanaka  |   2   |  13 |  150   |\n",
              "| 3  |  Suzuki  |   1   |  13 |  150   |\n",
              "| 1  |  Yamada  |   1   |  14 |  150   |\n",
              "| 8  |   Sato   |   1   |  14 |  160   |\n",
              "| 4  |   Kato   |   2   |  15 |  150   |\n",
              "| 6  | Takeuchi |   2   |  16 |  155   |\n",
              "+----+----------+-------+-----+--------+"
            ],
            "text/html": [
              "<table>\n",
              "    <thead>\n",
              "        <tr>\n",
              "            <th>id</th>\n",
              "            <th>name</th>\n",
              "            <th>class</th>\n",
              "            <th>age</th>\n",
              "            <th>height</th>\n",
              "        </tr>\n",
              "    </thead>\n",
              "    <tbody>\n",
              "        <tr>\n",
              "            <td>7</td>\n",
              "            <td>Kimura</td>\n",
              "            <td>3</td>\n",
              "            <td>11</td>\n",
              "            <td>160</td>\n",
              "        </tr>\n",
              "        <tr>\n",
              "            <td>5</td>\n",
              "            <td>Ito</td>\n",
              "            <td>3</td>\n",
              "            <td>12</td>\n",
              "            <td>155</td>\n",
              "        </tr>\n",
              "        <tr>\n",
              "            <td>2</td>\n",
              "            <td>Tanaka</td>\n",
              "            <td>2</td>\n",
              "            <td>13</td>\n",
              "            <td>150</td>\n",
              "        </tr>\n",
              "        <tr>\n",
              "            <td>3</td>\n",
              "            <td>Suzuki</td>\n",
              "            <td>1</td>\n",
              "            <td>13</td>\n",
              "            <td>150</td>\n",
              "        </tr>\n",
              "        <tr>\n",
              "            <td>1</td>\n",
              "            <td>Yamada</td>\n",
              "            <td>1</td>\n",
              "            <td>14</td>\n",
              "            <td>150</td>\n",
              "        </tr>\n",
              "        <tr>\n",
              "            <td>8</td>\n",
              "            <td>Sato</td>\n",
              "            <td>1</td>\n",
              "            <td>14</td>\n",
              "            <td>160</td>\n",
              "        </tr>\n",
              "        <tr>\n",
              "            <td>4</td>\n",
              "            <td>Kato</td>\n",
              "            <td>2</td>\n",
              "            <td>15</td>\n",
              "            <td>150</td>\n",
              "        </tr>\n",
              "        <tr>\n",
              "            <td>6</td>\n",
              "            <td>Takeuchi</td>\n",
              "            <td>2</td>\n",
              "            <td>16</td>\n",
              "            <td>155</td>\n",
              "        </tr>\n",
              "    </tbody>\n",
              "</table>"
            ]
          },
          "metadata": {},
          "execution_count": 52
        }
      ],
      "source": [
        "%%sql\n",
        "SELECT * FROM meibo ORDER BY age;"
      ]
    },
    {
      "cell_type": "markdown",
      "metadata": {
        "id": "XBT_sQQtwuu3"
      },
      "source": [
        "class, ageの2つの軸で昇順に並べてみましょう。なお、優先順位は先に記述したカラムになります。この場合は、classです。"
      ]
    },
    {
      "cell_type": "code",
      "execution_count": 53,
      "metadata": {
        "id": "YrBEM_yawuu3",
        "colab": {
          "base_uri": "https://localhost:8080/",
          "height": 229
        },
        "outputId": "2ae4dc77-5f56-4f19-8b7c-659751b9b11f"
      },
      "outputs": [
        {
          "output_type": "display_data",
          "data": {
            "text/plain": [
              "Running query in 'duckdb://'"
            ],
            "text/html": [
              "<span style=\"None\">Running query in &#x27;duckdb://&#x27;</span>"
            ]
          },
          "metadata": {}
        },
        {
          "output_type": "execute_result",
          "data": {
            "text/plain": [
              "+----+----------+-------+-----+--------+\n",
              "| id |   name   | class | age | height |\n",
              "+----+----------+-------+-----+--------+\n",
              "| 3  |  Suzuki  |   1   |  13 |  150   |\n",
              "| 1  |  Yamada  |   1   |  14 |  150   |\n",
              "| 8  |   Sato   |   1   |  14 |  160   |\n",
              "| 2  |  Tanaka  |   2   |  13 |  150   |\n",
              "| 4  |   Kato   |   2   |  15 |  150   |\n",
              "| 6  | Takeuchi |   2   |  16 |  155   |\n",
              "| 7  |  Kimura  |   3   |  11 |  160   |\n",
              "| 5  |   Ito    |   3   |  12 |  155   |\n",
              "+----+----------+-------+-----+--------+"
            ],
            "text/html": [
              "<table>\n",
              "    <thead>\n",
              "        <tr>\n",
              "            <th>id</th>\n",
              "            <th>name</th>\n",
              "            <th>class</th>\n",
              "            <th>age</th>\n",
              "            <th>height</th>\n",
              "        </tr>\n",
              "    </thead>\n",
              "    <tbody>\n",
              "        <tr>\n",
              "            <td>3</td>\n",
              "            <td>Suzuki</td>\n",
              "            <td>1</td>\n",
              "            <td>13</td>\n",
              "            <td>150</td>\n",
              "        </tr>\n",
              "        <tr>\n",
              "            <td>1</td>\n",
              "            <td>Yamada</td>\n",
              "            <td>1</td>\n",
              "            <td>14</td>\n",
              "            <td>150</td>\n",
              "        </tr>\n",
              "        <tr>\n",
              "            <td>8</td>\n",
              "            <td>Sato</td>\n",
              "            <td>1</td>\n",
              "            <td>14</td>\n",
              "            <td>160</td>\n",
              "        </tr>\n",
              "        <tr>\n",
              "            <td>2</td>\n",
              "            <td>Tanaka</td>\n",
              "            <td>2</td>\n",
              "            <td>13</td>\n",
              "            <td>150</td>\n",
              "        </tr>\n",
              "        <tr>\n",
              "            <td>4</td>\n",
              "            <td>Kato</td>\n",
              "            <td>2</td>\n",
              "            <td>15</td>\n",
              "            <td>150</td>\n",
              "        </tr>\n",
              "        <tr>\n",
              "            <td>6</td>\n",
              "            <td>Takeuchi</td>\n",
              "            <td>2</td>\n",
              "            <td>16</td>\n",
              "            <td>155</td>\n",
              "        </tr>\n",
              "        <tr>\n",
              "            <td>7</td>\n",
              "            <td>Kimura</td>\n",
              "            <td>3</td>\n",
              "            <td>11</td>\n",
              "            <td>160</td>\n",
              "        </tr>\n",
              "        <tr>\n",
              "            <td>5</td>\n",
              "            <td>Ito</td>\n",
              "            <td>3</td>\n",
              "            <td>12</td>\n",
              "            <td>155</td>\n",
              "        </tr>\n",
              "    </tbody>\n",
              "</table>"
            ]
          },
          "metadata": {},
          "execution_count": 53
        }
      ],
      "source": [
        "%%sql\n",
        "SELECT * FROM meibo ORDER BY class, age;"
      ]
    },
    {
      "cell_type": "markdown",
      "metadata": {
        "id": "F6mkK0Zqwuu3"
      },
      "source": [
        "LIMITを使うと行数の制限ができます。大量のデータがある場合は、LIMITを使って表示数を制限しましょう。\n"
      ]
    },
    {
      "cell_type": "code",
      "execution_count": 54,
      "metadata": {
        "id": "hIkj-4dQwuu3",
        "colab": {
          "base_uri": "https://localhost:8080/",
          "height": 122
        },
        "outputId": "bdd544fa-9dfa-4487-c1c8-380ad8d4cd89"
      },
      "outputs": [
        {
          "output_type": "display_data",
          "data": {
            "text/plain": [
              "Running query in 'duckdb://'"
            ],
            "text/html": [
              "<span style=\"None\">Running query in &#x27;duckdb://&#x27;</span>"
            ]
          },
          "metadata": {}
        },
        {
          "output_type": "execute_result",
          "data": {
            "text/plain": [
              "+----+--------+-------+-----+--------+\n",
              "| id |  name  | class | age | height |\n",
              "+----+--------+-------+-----+--------+\n",
              "| 1  | Yamada |   1   |  14 |  150   |\n",
              "| 2  | Tanaka |   2   |  13 |  150   |\n",
              "| 3  | Suzuki |   1   |  13 |  150   |\n",
              "+----+--------+-------+-----+--------+"
            ],
            "text/html": [
              "<table>\n",
              "    <thead>\n",
              "        <tr>\n",
              "            <th>id</th>\n",
              "            <th>name</th>\n",
              "            <th>class</th>\n",
              "            <th>age</th>\n",
              "            <th>height</th>\n",
              "        </tr>\n",
              "    </thead>\n",
              "    <tbody>\n",
              "        <tr>\n",
              "            <td>1</td>\n",
              "            <td>Yamada</td>\n",
              "            <td>1</td>\n",
              "            <td>14</td>\n",
              "            <td>150</td>\n",
              "        </tr>\n",
              "        <tr>\n",
              "            <td>2</td>\n",
              "            <td>Tanaka</td>\n",
              "            <td>2</td>\n",
              "            <td>13</td>\n",
              "            <td>150</td>\n",
              "        </tr>\n",
              "        <tr>\n",
              "            <td>3</td>\n",
              "            <td>Suzuki</td>\n",
              "            <td>1</td>\n",
              "            <td>13</td>\n",
              "            <td>150</td>\n",
              "        </tr>\n",
              "    </tbody>\n",
              "</table>"
            ]
          },
          "metadata": {},
          "execution_count": 54
        }
      ],
      "source": [
        "%%sql\n",
        "SELECT * FROM meibo LIMIT 3;"
      ]
    },
    {
      "cell_type": "markdown",
      "metadata": {
        "id": "8KFPVt9lwuu3"
      },
      "source": [
        "次は、複数条件での絞り込みです。同時条件で絞り込む場合はANDを使います。"
      ]
    },
    {
      "cell_type": "code",
      "execution_count": 55,
      "metadata": {
        "id": "-7scE1Dywuu3",
        "colab": {
          "base_uri": "https://localhost:8080/",
          "height": 100
        },
        "outputId": "41a678d0-d986-4624-fca1-57acb01c91cc"
      },
      "outputs": [
        {
          "output_type": "display_data",
          "data": {
            "text/plain": [
              "Running query in 'duckdb://'"
            ],
            "text/html": [
              "<span style=\"None\">Running query in &#x27;duckdb://&#x27;</span>"
            ]
          },
          "metadata": {}
        },
        {
          "output_type": "execute_result",
          "data": {
            "text/plain": [
              "+----+----------+-------+-----+--------+\n",
              "| id |   name   | class | age | height |\n",
              "+----+----------+-------+-----+--------+\n",
              "| 4  |   Kato   |   2   |  15 |  150   |\n",
              "| 6  | Takeuchi |   2   |  16 |  155   |\n",
              "+----+----------+-------+-----+--------+"
            ],
            "text/html": [
              "<table>\n",
              "    <thead>\n",
              "        <tr>\n",
              "            <th>id</th>\n",
              "            <th>name</th>\n",
              "            <th>class</th>\n",
              "            <th>age</th>\n",
              "            <th>height</th>\n",
              "        </tr>\n",
              "    </thead>\n",
              "    <tbody>\n",
              "        <tr>\n",
              "            <td>4</td>\n",
              "            <td>Kato</td>\n",
              "            <td>2</td>\n",
              "            <td>15</td>\n",
              "            <td>150</td>\n",
              "        </tr>\n",
              "        <tr>\n",
              "            <td>6</td>\n",
              "            <td>Takeuchi</td>\n",
              "            <td>2</td>\n",
              "            <td>16</td>\n",
              "            <td>155</td>\n",
              "        </tr>\n",
              "    </tbody>\n",
              "</table>"
            ]
          },
          "metadata": {},
          "execution_count": 55
        }
      ],
      "source": [
        "%%sql\n",
        "SELECT * FROM meibo WHERE class=2 AND age>=15;"
      ]
    },
    {
      "cell_type": "markdown",
      "metadata": {
        "id": "Bp0EsZUGwuu3"
      },
      "source": [
        "次は、OR です。どちらか片方の条件を満たすものを絞り込む場合に使います。"
      ]
    },
    {
      "cell_type": "code",
      "execution_count": 56,
      "metadata": {
        "id": "ydtO8IHowuu3",
        "colab": {
          "base_uri": "https://localhost:8080/",
          "height": 165
        },
        "outputId": "7060f88d-3c51-486b-9ea4-9e089a4f9be2"
      },
      "outputs": [
        {
          "output_type": "display_data",
          "data": {
            "text/plain": [
              "Running query in 'duckdb://'"
            ],
            "text/html": [
              "<span style=\"None\">Running query in &#x27;duckdb://&#x27;</span>"
            ]
          },
          "metadata": {}
        },
        {
          "output_type": "execute_result",
          "data": {
            "text/plain": [
              "+----+----------+-------+-----+--------+\n",
              "| id |   name   | class | age | height |\n",
              "+----+----------+-------+-----+--------+\n",
              "| 1  |  Yamada  |   1   |  14 |  150   |\n",
              "| 3  |  Suzuki  |   1   |  13 |  150   |\n",
              "| 8  |   Sato   |   1   |  14 |  160   |\n",
              "| 4  |   Kato   |   2   |  15 |  150   |\n",
              "| 6  | Takeuchi |   2   |  16 |  155   |\n",
              "+----+----------+-------+-----+--------+"
            ],
            "text/html": [
              "<table>\n",
              "    <thead>\n",
              "        <tr>\n",
              "            <th>id</th>\n",
              "            <th>name</th>\n",
              "            <th>class</th>\n",
              "            <th>age</th>\n",
              "            <th>height</th>\n",
              "        </tr>\n",
              "    </thead>\n",
              "    <tbody>\n",
              "        <tr>\n",
              "            <td>1</td>\n",
              "            <td>Yamada</td>\n",
              "            <td>1</td>\n",
              "            <td>14</td>\n",
              "            <td>150</td>\n",
              "        </tr>\n",
              "        <tr>\n",
              "            <td>3</td>\n",
              "            <td>Suzuki</td>\n",
              "            <td>1</td>\n",
              "            <td>13</td>\n",
              "            <td>150</td>\n",
              "        </tr>\n",
              "        <tr>\n",
              "            <td>8</td>\n",
              "            <td>Sato</td>\n",
              "            <td>1</td>\n",
              "            <td>14</td>\n",
              "            <td>160</td>\n",
              "        </tr>\n",
              "        <tr>\n",
              "            <td>4</td>\n",
              "            <td>Kato</td>\n",
              "            <td>2</td>\n",
              "            <td>15</td>\n",
              "            <td>150</td>\n",
              "        </tr>\n",
              "        <tr>\n",
              "            <td>6</td>\n",
              "            <td>Takeuchi</td>\n",
              "            <td>2</td>\n",
              "            <td>16</td>\n",
              "            <td>155</td>\n",
              "        </tr>\n",
              "    </tbody>\n",
              "</table>"
            ]
          },
          "metadata": {},
          "execution_count": 56
        }
      ],
      "source": [
        "%%sql\n",
        "SELECT * FROM meibo WHERE class=1 OR age>=15;"
      ]
    },
    {
      "cell_type": "markdown",
      "metadata": {
        "id": "X41hDNuNwuu4"
      },
      "source": [
        ">**[ポイント]**\n",
        ">\n",
        ">COUNT：レコードのカウント\n",
        ">\n",
        ">AS：エイリアス（名前をつける）\n",
        ">\n",
        ">DISTINCT ：重複なく区別する\n",
        ">\n",
        ">AVG ：平均値\n",
        ">\n",
        ">MAX ：最大値\n",
        ">\n",
        ">MIN ：最小値\n",
        ">\n",
        ">ORDER BY カラム名：昇順に並び替え（降順はカラム名の後にDESC）"
      ]
    },
    {
      "cell_type": "markdown",
      "metadata": {
        "id": "KgDcQnfkwuu4"
      },
      "source": [
        "#### <練習問題 1>\n",
        "上記と同じmeiboテーブルで、異なる年齢は何種類でしょうか。"
      ]
    },
    {
      "cell_type": "code",
      "execution_count": 57,
      "metadata": {
        "id": "fV0B1K7lwuu4",
        "scrolled": true,
        "colab": {
          "base_uri": "https://localhost:8080/",
          "height": 79
        },
        "outputId": "82078796-0a95-48bb-ab02-041bae240f6a"
      },
      "outputs": [
        {
          "output_type": "display_data",
          "data": {
            "text/plain": [
              "Running query in 'duckdb://'"
            ],
            "text/html": [
              "<span style=\"None\">Running query in &#x27;duckdb://&#x27;</span>"
            ]
          },
          "metadata": {}
        },
        {
          "output_type": "execute_result",
          "data": {
            "text/plain": [
              "+--------+\n",
              "| ageCnt |\n",
              "+--------+\n",
              "|   6    |\n",
              "+--------+"
            ],
            "text/html": [
              "<table>\n",
              "    <thead>\n",
              "        <tr>\n",
              "            <th>ageCnt</th>\n",
              "        </tr>\n",
              "    </thead>\n",
              "    <tbody>\n",
              "        <tr>\n",
              "            <td>6</td>\n",
              "        </tr>\n",
              "    </tbody>\n",
              "</table>"
            ]
          },
          "metadata": {},
          "execution_count": 57
        }
      ],
      "source": [
        "%%sql\n",
        "SELECT COUNT(DISTINCT age) AS ageCnt FROM meibo;"
      ]
    },
    {
      "cell_type": "markdown",
      "metadata": {
        "id": "8teX7ONvwuu4"
      },
      "source": [
        "#### <練習問題 2>\n",
        "身長が一番小さい人、大きい人の身長をそれぞれ求めてください。"
      ]
    },
    {
      "cell_type": "code",
      "execution_count": 58,
      "metadata": {
        "id": "JOznibS7wuu4",
        "colab": {
          "base_uri": "https://localhost:8080/",
          "height": 79
        },
        "outputId": "0b396479-2885-4fa0-f1ba-4060fbb9439c"
      },
      "outputs": [
        {
          "output_type": "display_data",
          "data": {
            "text/plain": [
              "Running query in 'duckdb://'"
            ],
            "text/html": [
              "<span style=\"None\">Running query in &#x27;duckdb://&#x27;</span>"
            ]
          },
          "metadata": {}
        },
        {
          "output_type": "execute_result",
          "data": {
            "text/plain": [
              "+-----------+-----------+\n",
              "| minHeight | maxHeight |\n",
              "+-----------+-----------+\n",
              "|    150    |    160    |\n",
              "+-----------+-----------+"
            ],
            "text/html": [
              "<table>\n",
              "    <thead>\n",
              "        <tr>\n",
              "            <th>minHeight</th>\n",
              "            <th>maxHeight</th>\n",
              "        </tr>\n",
              "    </thead>\n",
              "    <tbody>\n",
              "        <tr>\n",
              "            <td>150</td>\n",
              "            <td>160</td>\n",
              "        </tr>\n",
              "    </tbody>\n",
              "</table>"
            ]
          },
          "metadata": {},
          "execution_count": 58
        }
      ],
      "source": [
        "%%sql\n",
        "SELECT MIN(height) AS minHeight, MAX(height) AS maxHeight FROM meibo;"
      ]
    },
    {
      "cell_type": "markdown",
      "metadata": {
        "id": "HoTStCutwuu4"
      },
      "source": [
        "#### <練習問題 3>\n",
        "身長が155以上で、classが3のレコードを抽出してください。\n",
        "\n"
      ]
    },
    {
      "cell_type": "code",
      "execution_count": 59,
      "metadata": {
        "id": "72o-JBGvwuu4",
        "colab": {
          "base_uri": "https://localhost:8080/",
          "height": 100
        },
        "outputId": "d083de4f-8ce9-4418-89cd-e53e2674fd69"
      },
      "outputs": [
        {
          "output_type": "display_data",
          "data": {
            "text/plain": [
              "Running query in 'duckdb://'"
            ],
            "text/html": [
              "<span style=\"None\">Running query in &#x27;duckdb://&#x27;</span>"
            ]
          },
          "metadata": {}
        },
        {
          "output_type": "execute_result",
          "data": {
            "text/plain": [
              "+----+--------+-------+-----+--------+\n",
              "| id |  name  | class | age | height |\n",
              "+----+--------+-------+-----+--------+\n",
              "| 5  |  Ito   |   3   |  12 |  155   |\n",
              "| 7  | Kimura |   3   |  11 |  160   |\n",
              "+----+--------+-------+-----+--------+"
            ],
            "text/html": [
              "<table>\n",
              "    <thead>\n",
              "        <tr>\n",
              "            <th>id</th>\n",
              "            <th>name</th>\n",
              "            <th>class</th>\n",
              "            <th>age</th>\n",
              "            <th>height</th>\n",
              "        </tr>\n",
              "    </thead>\n",
              "    <tbody>\n",
              "        <tr>\n",
              "            <td>5</td>\n",
              "            <td>Ito</td>\n",
              "            <td>3</td>\n",
              "            <td>12</td>\n",
              "            <td>155</td>\n",
              "        </tr>\n",
              "        <tr>\n",
              "            <td>7</td>\n",
              "            <td>Kimura</td>\n",
              "            <td>3</td>\n",
              "            <td>11</td>\n",
              "            <td>160</td>\n",
              "        </tr>\n",
              "    </tbody>\n",
              "</table>"
            ]
          },
          "metadata": {},
          "execution_count": 59
        }
      ],
      "source": [
        "%%sql\n",
        "SELECT * FROM meibo WHERE height>=155 AND class=3;"
      ]
    },
    {
      "cell_type": "markdown",
      "metadata": {
        "id": "Sd6Yk9gQwuu5"
      },
      "source": [
        "### 7.2.4 グループごとの集計\n",
        "キーワード：GROUP BY, HAVING"
      ]
    },
    {
      "cell_type": "markdown",
      "metadata": {
        "id": "cnIzTdIOwuu5"
      },
      "source": [
        "次は、SQLを使ってグループごとに集計してみましょう。似ているのはExcelのピボットテーブルの機能です。ここではクラスを軸にしてみます。次のコマンドは各クラスの人数を数えています。"
      ]
    },
    {
      "cell_type": "code",
      "execution_count": 60,
      "metadata": {
        "id": "C6qdX3rzwuu5",
        "colab": {
          "base_uri": "https://localhost:8080/",
          "height": 122
        },
        "outputId": "f3906d46-c3d7-4a5c-fca0-a53bd5e6a291"
      },
      "outputs": [
        {
          "output_type": "display_data",
          "data": {
            "text/plain": [
              "Running query in 'duckdb://'"
            ],
            "text/html": [
              "<span style=\"None\">Running query in &#x27;duckdb://&#x27;</span>"
            ]
          },
          "metadata": {}
        },
        {
          "output_type": "execute_result",
          "data": {
            "text/plain": [
              "+-------+-----+\n",
              "| class | num |\n",
              "+-------+-----+\n",
              "|   1   |  3  |\n",
              "|   2   |  3  |\n",
              "|   3   |  2  |\n",
              "+-------+-----+"
            ],
            "text/html": [
              "<table>\n",
              "    <thead>\n",
              "        <tr>\n",
              "            <th>class</th>\n",
              "            <th>num</th>\n",
              "        </tr>\n",
              "    </thead>\n",
              "    <tbody>\n",
              "        <tr>\n",
              "            <td>1</td>\n",
              "            <td>3</td>\n",
              "        </tr>\n",
              "        <tr>\n",
              "            <td>2</td>\n",
              "            <td>3</td>\n",
              "        </tr>\n",
              "        <tr>\n",
              "            <td>3</td>\n",
              "            <td>2</td>\n",
              "        </tr>\n",
              "    </tbody>\n",
              "</table>"
            ]
          },
          "metadata": {},
          "execution_count": 60
        }
      ],
      "source": [
        "%%sql\n",
        "SELECT class, COUNT(*) AS num FROM meibo GROUP BY class;"
      ]
    },
    {
      "cell_type": "markdown",
      "metadata": {
        "id": "IExIpti-wuu5"
      },
      "source": [
        "平均を各グループごとに算出することも可能です。最小値、最大値も同様に算出できます。"
      ]
    },
    {
      "cell_type": "code",
      "execution_count": 61,
      "metadata": {
        "id": "Hap_s9Szwuu5",
        "scrolled": true,
        "colab": {
          "base_uri": "https://localhost:8080/",
          "height": 122
        },
        "outputId": "87665c41-3272-472e-aa0c-76989fc30f41"
      },
      "outputs": [
        {
          "output_type": "display_data",
          "data": {
            "text/plain": [
              "Running query in 'duckdb://'"
            ],
            "text/html": [
              "<span style=\"None\">Running query in &#x27;duckdb://&#x27;</span>"
            ]
          },
          "metadata": {}
        },
        {
          "output_type": "execute_result",
          "data": {
            "text/plain": [
              "+-------+-----+--------------------+\n",
              "| class | num |       avgAge       |\n",
              "+-------+-----+--------------------+\n",
              "|   1   |  3  | 13.666666666666666 |\n",
              "|   2   |  3  | 14.666666666666666 |\n",
              "|   3   |  2  |        11.5        |\n",
              "+-------+-----+--------------------+"
            ],
            "text/html": [
              "<table>\n",
              "    <thead>\n",
              "        <tr>\n",
              "            <th>class</th>\n",
              "            <th>num</th>\n",
              "            <th>avgAge</th>\n",
              "        </tr>\n",
              "    </thead>\n",
              "    <tbody>\n",
              "        <tr>\n",
              "            <td>1</td>\n",
              "            <td>3</td>\n",
              "            <td>13.666666666666666</td>\n",
              "        </tr>\n",
              "        <tr>\n",
              "            <td>2</td>\n",
              "            <td>3</td>\n",
              "            <td>14.666666666666666</td>\n",
              "        </tr>\n",
              "        <tr>\n",
              "            <td>3</td>\n",
              "            <td>2</td>\n",
              "            <td>11.5</td>\n",
              "        </tr>\n",
              "    </tbody>\n",
              "</table>"
            ]
          },
          "metadata": {},
          "execution_count": 61
        }
      ],
      "source": [
        "%%sql\n",
        "SELECT class, COUNT(*) AS num, AVG(age) AS avgAge FROM meibo GROUP BY class;"
      ]
    },
    {
      "cell_type": "markdown",
      "metadata": {
        "id": "tBJtR8vUwuu5"
      },
      "source": [
        "さらに条件付きで表示してみましょう。HAVING を使っています。"
      ]
    },
    {
      "cell_type": "code",
      "execution_count": 62,
      "metadata": {
        "id": "mPGWlCgwwuu5",
        "colab": {
          "base_uri": "https://localhost:8080/",
          "height": 100
        },
        "outputId": "7a44bb5c-a7aa-42d3-e486-18644f2107a3"
      },
      "outputs": [
        {
          "output_type": "display_data",
          "data": {
            "text/plain": [
              "Running query in 'duckdb://'"
            ],
            "text/html": [
              "<span style=\"None\">Running query in &#x27;duckdb://&#x27;</span>"
            ]
          },
          "metadata": {}
        },
        {
          "output_type": "execute_result",
          "data": {
            "text/plain": [
              "+-------+--------------------+\n",
              "| class |       avgAge       |\n",
              "+-------+--------------------+\n",
              "|   1   | 13.666666666666666 |\n",
              "|   2   | 14.666666666666666 |\n",
              "+-------+--------------------+"
            ],
            "text/html": [
              "<table>\n",
              "    <thead>\n",
              "        <tr>\n",
              "            <th>class</th>\n",
              "            <th>avgAge</th>\n",
              "        </tr>\n",
              "    </thead>\n",
              "    <tbody>\n",
              "        <tr>\n",
              "            <td>1</td>\n",
              "            <td>13.666666666666666</td>\n",
              "        </tr>\n",
              "        <tr>\n",
              "            <td>2</td>\n",
              "            <td>14.666666666666666</td>\n",
              "        </tr>\n",
              "    </tbody>\n",
              "</table>"
            ]
          },
          "metadata": {},
          "execution_count": 62
        }
      ],
      "source": [
        "%%sql\n",
        "SELECT class, AVG(age) AS avgAge FROM meibo GROUP BY class HAVING avgAge>13;"
      ]
    },
    {
      "cell_type": "markdown",
      "metadata": {
        "id": "wjM-PnLLwuu5"
      },
      "source": [
        "whereと組み合わせることもできます。"
      ]
    },
    {
      "cell_type": "code",
      "execution_count": 63,
      "metadata": {
        "id": "tOdjmu8jwuu5",
        "colab": {
          "base_uri": "https://localhost:8080/",
          "height": 100
        },
        "outputId": "ac5d3aeb-4d9f-43fa-b2c9-20a9b3da53f5"
      },
      "outputs": [
        {
          "output_type": "display_data",
          "data": {
            "text/plain": [
              "Running query in 'duckdb://'"
            ],
            "text/html": [
              "<span style=\"None\">Running query in &#x27;duckdb://&#x27;</span>"
            ]
          },
          "metadata": {}
        },
        {
          "output_type": "execute_result",
          "data": {
            "text/plain": [
              "+-------+--------+\n",
              "| class | avgAge |\n",
              "+-------+--------+\n",
              "|   1   |  14.0  |\n",
              "|   2   |  15.5  |\n",
              "+-------+--------+"
            ],
            "text/html": [
              "<table>\n",
              "    <thead>\n",
              "        <tr>\n",
              "            <th>class</th>\n",
              "            <th>avgAge</th>\n",
              "        </tr>\n",
              "    </thead>\n",
              "    <tbody>\n",
              "        <tr>\n",
              "            <td>1</td>\n",
              "            <td>14.0</td>\n",
              "        </tr>\n",
              "        <tr>\n",
              "            <td>2</td>\n",
              "            <td>15.5</td>\n",
              "        </tr>\n",
              "    </tbody>\n",
              "</table>"
            ]
          },
          "metadata": {},
          "execution_count": 63
        }
      ],
      "source": [
        "%%sql\n",
        "SELECT class, AVG(age) AS avgAge FROM meibo WHERE age > 13 GROUP BY class;"
      ]
    },
    {
      "cell_type": "markdown",
      "metadata": {
        "id": "SPQashDfwuu6"
      },
      "source": [
        "WHEREとHAVINGはどちらも条件を絞っているのですが、WHEREはSELECTで抽出された中から条件を絞っていますが、HAVINGはGROUP BYでグループ化した結果から条件を絞っています。"
      ]
    },
    {
      "cell_type": "markdown",
      "metadata": {
        "id": "r2EXVov2wuu6"
      },
      "source": [
        "次は、2つの軸を使った集計です。クラス×年齢でレコード数をカウントしています。"
      ]
    },
    {
      "cell_type": "code",
      "execution_count": 64,
      "metadata": {
        "id": "HC5EDmuYwuu6",
        "colab": {
          "base_uri": "https://localhost:8080/",
          "height": 207
        },
        "outputId": "02ffd6e2-f54d-441b-bef2-506d9bcd5311"
      },
      "outputs": [
        {
          "output_type": "display_data",
          "data": {
            "text/plain": [
              "Running query in 'duckdb://'"
            ],
            "text/html": [
              "<span style=\"None\">Running query in &#x27;duckdb://&#x27;</span>"
            ]
          },
          "metadata": {}
        },
        {
          "output_type": "execute_result",
          "data": {
            "text/plain": [
              "+-------+-----+-----+\n",
              "| class | age | num |\n",
              "+-------+-----+-----+\n",
              "|   1   |  13 |  1  |\n",
              "|   1   |  14 |  2  |\n",
              "|   2   |  13 |  1  |\n",
              "|   2   |  15 |  1  |\n",
              "|   2   |  16 |  1  |\n",
              "|   3   |  11 |  1  |\n",
              "|   3   |  12 |  1  |\n",
              "+-------+-----+-----+"
            ],
            "text/html": [
              "<table>\n",
              "    <thead>\n",
              "        <tr>\n",
              "            <th>class</th>\n",
              "            <th>age</th>\n",
              "            <th>num</th>\n",
              "        </tr>\n",
              "    </thead>\n",
              "    <tbody>\n",
              "        <tr>\n",
              "            <td>1</td>\n",
              "            <td>13</td>\n",
              "            <td>1</td>\n",
              "        </tr>\n",
              "        <tr>\n",
              "            <td>1</td>\n",
              "            <td>14</td>\n",
              "            <td>2</td>\n",
              "        </tr>\n",
              "        <tr>\n",
              "            <td>2</td>\n",
              "            <td>13</td>\n",
              "            <td>1</td>\n",
              "        </tr>\n",
              "        <tr>\n",
              "            <td>2</td>\n",
              "            <td>15</td>\n",
              "            <td>1</td>\n",
              "        </tr>\n",
              "        <tr>\n",
              "            <td>2</td>\n",
              "            <td>16</td>\n",
              "            <td>1</td>\n",
              "        </tr>\n",
              "        <tr>\n",
              "            <td>3</td>\n",
              "            <td>11</td>\n",
              "            <td>1</td>\n",
              "        </tr>\n",
              "        <tr>\n",
              "            <td>3</td>\n",
              "            <td>12</td>\n",
              "            <td>1</td>\n",
              "        </tr>\n",
              "    </tbody>\n",
              "</table>"
            ]
          },
          "metadata": {},
          "execution_count": 64
        }
      ],
      "source": [
        "%%sql\n",
        "SELECT class, age, COUNT(*) AS num FROM meibo GROUP BY class, age;"
      ]
    },
    {
      "cell_type": "markdown",
      "metadata": {
        "id": "JyAyulB9wuu6"
      },
      "source": [
        "番号（順）で指定して集計することも可能です。なお、GROUP BY は以下のように、呼び出している列の番号で指定することもできます。ただし、わからなくなる可能性がありますので、簡易集計以外のときにはカラム名を指定することをおすすめします。"
      ]
    },
    {
      "cell_type": "code",
      "execution_count": 65,
      "metadata": {
        "id": "fCpW9nCYwuu6",
        "colab": {
          "base_uri": "https://localhost:8080/",
          "height": 207
        },
        "outputId": "abb57239-899b-41d5-bc27-54534c7749a3"
      },
      "outputs": [
        {
          "output_type": "display_data",
          "data": {
            "text/plain": [
              "Running query in 'duckdb://'"
            ],
            "text/html": [
              "<span style=\"None\">Running query in &#x27;duckdb://&#x27;</span>"
            ]
          },
          "metadata": {}
        },
        {
          "output_type": "execute_result",
          "data": {
            "text/plain": [
              "+-------+-----+-----+\n",
              "| class | age | num |\n",
              "+-------+-----+-----+\n",
              "|   1   |  13 |  1  |\n",
              "|   1   |  14 |  2  |\n",
              "|   2   |  13 |  1  |\n",
              "|   2   |  15 |  1  |\n",
              "|   2   |  16 |  1  |\n",
              "|   3   |  11 |  1  |\n",
              "|   3   |  12 |  1  |\n",
              "+-------+-----+-----+"
            ],
            "text/html": [
              "<table>\n",
              "    <thead>\n",
              "        <tr>\n",
              "            <th>class</th>\n",
              "            <th>age</th>\n",
              "            <th>num</th>\n",
              "        </tr>\n",
              "    </thead>\n",
              "    <tbody>\n",
              "        <tr>\n",
              "            <td>1</td>\n",
              "            <td>13</td>\n",
              "            <td>1</td>\n",
              "        </tr>\n",
              "        <tr>\n",
              "            <td>1</td>\n",
              "            <td>14</td>\n",
              "            <td>2</td>\n",
              "        </tr>\n",
              "        <tr>\n",
              "            <td>2</td>\n",
              "            <td>13</td>\n",
              "            <td>1</td>\n",
              "        </tr>\n",
              "        <tr>\n",
              "            <td>2</td>\n",
              "            <td>15</td>\n",
              "            <td>1</td>\n",
              "        </tr>\n",
              "        <tr>\n",
              "            <td>2</td>\n",
              "            <td>16</td>\n",
              "            <td>1</td>\n",
              "        </tr>\n",
              "        <tr>\n",
              "            <td>3</td>\n",
              "            <td>11</td>\n",
              "            <td>1</td>\n",
              "        </tr>\n",
              "        <tr>\n",
              "            <td>3</td>\n",
              "            <td>12</td>\n",
              "            <td>1</td>\n",
              "        </tr>\n",
              "    </tbody>\n",
              "</table>"
            ]
          },
          "metadata": {},
          "execution_count": 65
        }
      ],
      "source": [
        "%%sql\n",
        "SELECT class, age, COUNT(*) AS num FROM meibo GROUP BY 1, 2;"
      ]
    },
    {
      "cell_type": "markdown",
      "metadata": {
        "id": "Ore0sz-ywuu6"
      },
      "source": [
        ">**[ポイント]**\n",
        ">\n",
        ">GROUP BY：軸を設定\n",
        ">\n",
        ">HAVING：条件設定"
      ]
    },
    {
      "cell_type": "markdown",
      "metadata": {
        "id": "fNgF94C5wuu7"
      },
      "source": [
        "#### <練習問題 1>\n",
        "\n",
        "meiboテーブルにてクラスごとの平均身長を求めてみましょう。"
      ]
    },
    {
      "cell_type": "code",
      "execution_count": 66,
      "metadata": {
        "id": "pTCoP_fDwuu7",
        "colab": {
          "base_uri": "https://localhost:8080/",
          "height": 122
        },
        "outputId": "0ff04109-b646-4396-eeaa-9881fd6cb163"
      },
      "outputs": [
        {
          "output_type": "display_data",
          "data": {
            "text/plain": [
              "Running query in 'duckdb://'"
            ],
            "text/html": [
              "<span style=\"None\">Running query in &#x27;duckdb://&#x27;</span>"
            ]
          },
          "metadata": {}
        },
        {
          "output_type": "execute_result",
          "data": {
            "text/plain": [
              "+-------+--------------------+\n",
              "| class |     avgHeight      |\n",
              "+-------+--------------------+\n",
              "|   1   | 153.33333333333334 |\n",
              "|   2   | 151.66666666666666 |\n",
              "|   3   |       157.5        |\n",
              "+-------+--------------------+"
            ],
            "text/html": [
              "<table>\n",
              "    <thead>\n",
              "        <tr>\n",
              "            <th>class</th>\n",
              "            <th>avgHeight</th>\n",
              "        </tr>\n",
              "    </thead>\n",
              "    <tbody>\n",
              "        <tr>\n",
              "            <td>1</td>\n",
              "            <td>153.33333333333334</td>\n",
              "        </tr>\n",
              "        <tr>\n",
              "            <td>2</td>\n",
              "            <td>151.66666666666666</td>\n",
              "        </tr>\n",
              "        <tr>\n",
              "            <td>3</td>\n",
              "            <td>157.5</td>\n",
              "        </tr>\n",
              "    </tbody>\n",
              "</table>"
            ]
          },
          "metadata": {},
          "execution_count": 66
        }
      ],
      "source": [
        "#解答\n",
        "%%sql\n",
        "SELECT class, AVG(height) AS avgHeight FROM meibo GROUP BY class;"
      ]
    },
    {
      "cell_type": "markdown",
      "metadata": {
        "id": "f8XmNWmBwuu7"
      },
      "source": [
        "#### <練習問題 2>\n",
        "\n",
        "上に加えて、クラスごとの人数、一番小さい人と、一番大きな人の身長もそれぞれのクラスで算出しましょう。"
      ]
    },
    {
      "cell_type": "code",
      "execution_count": 67,
      "metadata": {
        "id": "BGeqCo4qwuu7",
        "colab": {
          "base_uri": "https://localhost:8080/",
          "height": 122
        },
        "outputId": "45e95d40-2852-437a-d3b8-7d8aa08f12a0"
      },
      "outputs": [
        {
          "output_type": "display_data",
          "data": {
            "text/plain": [
              "Running query in 'duckdb://'"
            ],
            "text/html": [
              "<span style=\"None\">Running query in &#x27;duckdb://&#x27;</span>"
            ]
          },
          "metadata": {}
        },
        {
          "output_type": "execute_result",
          "data": {
            "text/plain": [
              "+-------+-----+-----------+-----------+\n",
              "| class | cnt | minHeight | maxHeight |\n",
              "+-------+-----+-----------+-----------+\n",
              "|   1   |  3  |    150    |    160    |\n",
              "|   2   |  3  |    150    |    155    |\n",
              "|   3   |  2  |    155    |    160    |\n",
              "+-------+-----+-----------+-----------+"
            ],
            "text/html": [
              "<table>\n",
              "    <thead>\n",
              "        <tr>\n",
              "            <th>class</th>\n",
              "            <th>cnt</th>\n",
              "            <th>minHeight</th>\n",
              "            <th>maxHeight</th>\n",
              "        </tr>\n",
              "    </thead>\n",
              "    <tbody>\n",
              "        <tr>\n",
              "            <td>1</td>\n",
              "            <td>3</td>\n",
              "            <td>150</td>\n",
              "            <td>160</td>\n",
              "        </tr>\n",
              "        <tr>\n",
              "            <td>2</td>\n",
              "            <td>3</td>\n",
              "            <td>150</td>\n",
              "            <td>155</td>\n",
              "        </tr>\n",
              "        <tr>\n",
              "            <td>3</td>\n",
              "            <td>2</td>\n",
              "            <td>155</td>\n",
              "            <td>160</td>\n",
              "        </tr>\n",
              "    </tbody>\n",
              "</table>"
            ]
          },
          "metadata": {},
          "execution_count": 67
        }
      ],
      "source": [
        "#解答\n",
        "%%sql\n",
        "SELECT class, COUNT(*) AS cnt, MIN(height) AS minHeight, MAX(height) AS maxHeight FROM meibo GROUP BY class;"
      ]
    },
    {
      "cell_type": "markdown",
      "metadata": {
        "id": "-UeNLNNywuu7"
      },
      "source": [
        "#### <練習問題 3>\n",
        "\n",
        "年齢が13歳より上の人に絞って、上記と同じ項目を求めてください。"
      ]
    },
    {
      "cell_type": "code",
      "execution_count": 68,
      "metadata": {
        "id": "Q6y-h7Obwuu7",
        "colab": {
          "base_uri": "https://localhost:8080/",
          "height": 100
        },
        "outputId": "0357f22e-acbb-472b-f55b-b07e1f5c10ac"
      },
      "outputs": [
        {
          "output_type": "display_data",
          "data": {
            "text/plain": [
              "Running query in 'duckdb://'"
            ],
            "text/html": [
              "<span style=\"None\">Running query in &#x27;duckdb://&#x27;</span>"
            ]
          },
          "metadata": {}
        },
        {
          "output_type": "execute_result",
          "data": {
            "text/plain": [
              "+-------+-----+-----------+-----------+\n",
              "| class | cnt | minHeight | maxHeight |\n",
              "+-------+-----+-----------+-----------+\n",
              "|   1   |  2  |    150    |    160    |\n",
              "|   2   |  2  |    150    |    155    |\n",
              "+-------+-----+-----------+-----------+"
            ],
            "text/html": [
              "<table>\n",
              "    <thead>\n",
              "        <tr>\n",
              "            <th>class</th>\n",
              "            <th>cnt</th>\n",
              "            <th>minHeight</th>\n",
              "            <th>maxHeight</th>\n",
              "        </tr>\n",
              "    </thead>\n",
              "    <tbody>\n",
              "        <tr>\n",
              "            <td>1</td>\n",
              "            <td>2</td>\n",
              "            <td>150</td>\n",
              "            <td>160</td>\n",
              "        </tr>\n",
              "        <tr>\n",
              "            <td>2</td>\n",
              "            <td>2</td>\n",
              "            <td>150</td>\n",
              "            <td>155</td>\n",
              "        </tr>\n",
              "    </tbody>\n",
              "</table>"
            ]
          },
          "metadata": {},
          "execution_count": 68
        }
      ],
      "source": [
        "#解答\n",
        "%%sql\n",
        "SELECT class, COUNT(*) AS cnt, MIN(height) AS minHeight, MAX(height) AS maxHeight FROM meibo WHERE age > 13 GROUP BY class;"
      ]
    },
    {
      "cell_type": "markdown",
      "metadata": {
        "id": "esWe9Uw8wuu8"
      },
      "source": [
        "### 7.2.5 複数テーブルの利用\n",
        "キーワード：UNION, UNION ALL, INNER JOIN(内部結合), OUTER JOIN(外部結合), 自己結合\n"
      ]
    },
    {
      "cell_type": "markdown",
      "metadata": {
        "id": "0ZxWQnEgwuu8"
      },
      "source": [
        "次は複数のテーブルを使って、データを操作してみましょう。準備のため、テーブルを作成します。テーブルの作成は以前に学んだ方法でも作成できますが、再び作成するのは面倒なので、すでに作成したテーブルを「コピー」しましょう。以下のように CREATE で新規に作成するテーブル名を指定した後、テーブル構造を丸ごとコピーできます。"
      ]
    },
    {
      "cell_type": "code",
      "execution_count": 69,
      "metadata": {
        "id": "BkCjrDKKwuu8",
        "colab": {
          "base_uri": "https://localhost:8080/",
          "height": 58
        },
        "outputId": "45e5e52b-f771-4875-e493-95871fda010c"
      },
      "outputs": [
        {
          "output_type": "display_data",
          "data": {
            "text/plain": [
              "Running query in 'duckdb://'"
            ],
            "text/html": [
              "<span style=\"None\">Running query in &#x27;duckdb://&#x27;</span>"
            ]
          },
          "metadata": {}
        },
        {
          "output_type": "execute_result",
          "data": {
            "text/plain": [
              "+---------+\n",
              "| Success |\n",
              "+---------+\n",
              "+---------+"
            ],
            "text/html": [
              "<table>\n",
              "    <thead>\n",
              "        <tr>\n",
              "            <th>Success</th>\n",
              "        </tr>\n",
              "    </thead>\n",
              "    <tbody>\n",
              "    </tbody>\n",
              "</table>"
            ]
          },
          "metadata": {},
          "execution_count": 69
        }
      ],
      "source": [
        "#前の練習問題で作成したテーブルは使わないので、一旦削除します\n",
        "%%sql\n",
        "DROP TABLE IF EXISTS meibo2;"
      ]
    },
    {
      "cell_type": "code",
      "execution_count": 70,
      "metadata": {
        "id": "jLyyO6_Iwuu8",
        "scrolled": true,
        "colab": {
          "base_uri": "https://localhost:8080/",
          "height": 58
        },
        "outputId": "665f6eb3-7665-4aec-8107-d4713b5ec733"
      },
      "outputs": [
        {
          "output_type": "display_data",
          "data": {
            "text/plain": [
              "Running query in 'duckdb://'"
            ],
            "text/html": [
              "<span style=\"None\">Running query in &#x27;duckdb://&#x27;</span>"
            ]
          },
          "metadata": {}
        },
        {
          "output_type": "execute_result",
          "data": {
            "text/plain": [
              "+-------+\n",
              "| Count |\n",
              "+-------+\n",
              "+-------+"
            ],
            "text/html": [
              "<table>\n",
              "    <thead>\n",
              "        <tr>\n",
              "            <th>Count</th>\n",
              "        </tr>\n",
              "    </thead>\n",
              "    <tbody>\n",
              "    </tbody>\n",
              "</table>"
            ]
          },
          "metadata": {},
          "execution_count": 70
        }
      ],
      "source": [
        "#class=100000は存在しないため、レコードは０\n",
        "%%sql\n",
        "CREATE TABLE meibo2 AS SELECT * FROM meibo WHERE class=10000;"
      ]
    },
    {
      "cell_type": "markdown",
      "metadata": {
        "id": "MHYLO3Hmwuu8"
      },
      "source": [
        "確認してみましょう。"
      ]
    },
    {
      "cell_type": "code",
      "execution_count": 71,
      "metadata": {
        "id": "oXClvqP3wuu8",
        "colab": {
          "base_uri": "https://localhost:8080/",
          "height": 58
        },
        "outputId": "27ba220a-4626-49dd-c7c8-c66c4fd82ffb"
      },
      "outputs": [
        {
          "output_type": "display_data",
          "data": {
            "text/plain": [
              "Running query in 'duckdb://'"
            ],
            "text/html": [
              "<span style=\"None\">Running query in &#x27;duckdb://&#x27;</span>"
            ]
          },
          "metadata": {}
        },
        {
          "output_type": "execute_result",
          "data": {
            "text/plain": [
              "+----+------+-------+-----+--------+\n",
              "| id | name | class | age | height |\n",
              "+----+------+-------+-----+--------+\n",
              "+----+------+-------+-----+--------+"
            ],
            "text/html": [
              "<table>\n",
              "    <thead>\n",
              "        <tr>\n",
              "            <th>id</th>\n",
              "            <th>name</th>\n",
              "            <th>class</th>\n",
              "            <th>age</th>\n",
              "            <th>height</th>\n",
              "        </tr>\n",
              "    </thead>\n",
              "    <tbody>\n",
              "    </tbody>\n",
              "</table>"
            ]
          },
          "metadata": {},
          "execution_count": 71
        }
      ],
      "source": [
        "#データの確認\n",
        "%%sql\n",
        "SELECT * FROM  meibo2;"
      ]
    },
    {
      "cell_type": "markdown",
      "metadata": {
        "id": "Nnk0p2Ifwuu9"
      },
      "source": [
        "データを追加します。なお、１行目はわざとmeiboにある同じデータ（Yamada）を入れています。結果を確認してみてください。"
      ]
    },
    {
      "cell_type": "code",
      "execution_count": 72,
      "metadata": {
        "id": "K8wVef14wuu9",
        "colab": {
          "base_uri": "https://localhost:8080/",
          "height": 58
        },
        "outputId": "d9fcc1a8-c4eb-4777-b786-fdcc01844151"
      },
      "outputs": [
        {
          "output_type": "display_data",
          "data": {
            "text/plain": [
              "Running query in 'duckdb://'"
            ],
            "text/html": [
              "<span style=\"None\">Running query in &#x27;duckdb://&#x27;</span>"
            ]
          },
          "metadata": {}
        },
        {
          "output_type": "execute_result",
          "data": {
            "text/plain": [
              "+-------+\n",
              "| Count |\n",
              "+-------+\n",
              "+-------+"
            ],
            "text/html": [
              "<table>\n",
              "    <thead>\n",
              "        <tr>\n",
              "            <th>Count</th>\n",
              "        </tr>\n",
              "    </thead>\n",
              "    <tbody>\n",
              "    </tbody>\n",
              "</table>"
            ]
          },
          "metadata": {},
          "execution_count": 72
        }
      ],
      "source": [
        "%%sql\n",
        "INSERT INTO meibo2 (id, name, class, age, height)\n",
        "VALUES (1,'Yamada',1,14,150),\n",
        "       (9,'Nagata',4,11,160),\n",
        "       (10,'Sugino',2,13,150),\n",
        "       (11,'Takayama',1,14,155),\n",
        "       (12,'John',3,16,165);"
      ]
    },
    {
      "cell_type": "code",
      "execution_count": 73,
      "metadata": {
        "id": "HzijThQ7wuu9",
        "colab": {
          "base_uri": "https://localhost:8080/",
          "height": 165
        },
        "outputId": "3e2240a3-f0e9-42c9-dc7d-a1d13d81cc4b"
      },
      "outputs": [
        {
          "output_type": "display_data",
          "data": {
            "text/plain": [
              "Running query in 'duckdb://'"
            ],
            "text/html": [
              "<span style=\"None\">Running query in &#x27;duckdb://&#x27;</span>"
            ]
          },
          "metadata": {}
        },
        {
          "output_type": "execute_result",
          "data": {
            "text/plain": [
              "+----+----------+-------+-----+--------+\n",
              "| id |   name   | class | age | height |\n",
              "+----+----------+-------+-----+--------+\n",
              "| 1  |  Yamada  |   1   |  14 |  150   |\n",
              "| 9  |  Nagata  |   4   |  11 |  160   |\n",
              "| 10 |  Sugino  |   2   |  13 |  150   |\n",
              "| 11 | Takayama |   1   |  14 |  155   |\n",
              "| 12 |   John   |   3   |  16 |  165   |\n",
              "+----+----------+-------+-----+--------+"
            ],
            "text/html": [
              "<table>\n",
              "    <thead>\n",
              "        <tr>\n",
              "            <th>id</th>\n",
              "            <th>name</th>\n",
              "            <th>class</th>\n",
              "            <th>age</th>\n",
              "            <th>height</th>\n",
              "        </tr>\n",
              "    </thead>\n",
              "    <tbody>\n",
              "        <tr>\n",
              "            <td>1</td>\n",
              "            <td>Yamada</td>\n",
              "            <td>1</td>\n",
              "            <td>14</td>\n",
              "            <td>150</td>\n",
              "        </tr>\n",
              "        <tr>\n",
              "            <td>9</td>\n",
              "            <td>Nagata</td>\n",
              "            <td>4</td>\n",
              "            <td>11</td>\n",
              "            <td>160</td>\n",
              "        </tr>\n",
              "        <tr>\n",
              "            <td>10</td>\n",
              "            <td>Sugino</td>\n",
              "            <td>2</td>\n",
              "            <td>13</td>\n",
              "            <td>150</td>\n",
              "        </tr>\n",
              "        <tr>\n",
              "            <td>11</td>\n",
              "            <td>Takayama</td>\n",
              "            <td>1</td>\n",
              "            <td>14</td>\n",
              "            <td>155</td>\n",
              "        </tr>\n",
              "        <tr>\n",
              "            <td>12</td>\n",
              "            <td>John</td>\n",
              "            <td>3</td>\n",
              "            <td>16</td>\n",
              "            <td>165</td>\n",
              "        </tr>\n",
              "    </tbody>\n",
              "</table>"
            ]
          },
          "metadata": {},
          "execution_count": 73
        }
      ],
      "source": [
        "%%sql\n",
        " SELECT * FROM  meibo2;"
      ]
    },
    {
      "cell_type": "markdown",
      "metadata": {
        "id": "9du0tuYHwuu9"
      },
      "source": [
        "データを結合してみましょう。UNIONを使います。なお、UNIONは重複レコードは省きますが、UNION ALLは重複も許容します。id=1の人がUNION ALLの場合2レコードあるのがわかります。"
      ]
    },
    {
      "cell_type": "code",
      "execution_count": 74,
      "metadata": {
        "id": "XQ5xjX0Hwuu9",
        "colab": {
          "base_uri": "https://localhost:8080/",
          "height": 289
        },
        "outputId": "f08b6c7c-f563-4a31-ce57-98b9814c8c79"
      },
      "outputs": [
        {
          "output_type": "display_data",
          "data": {
            "text/plain": [
              "Running query in 'duckdb://'"
            ],
            "text/html": [
              "<span style=\"None\">Running query in &#x27;duckdb://&#x27;</span>"
            ]
          },
          "metadata": {}
        },
        {
          "output_type": "execute_result",
          "data": {
            "text/plain": [
              "+----+----------+-------+-----+--------+\n",
              "| id |   name   | class | age | height |\n",
              "+----+----------+-------+-----+--------+\n",
              "| 5  |   Ito    |   3   |  12 |  155   |\n",
              "| 6  | Takeuchi |   2   |  16 |  155   |\n",
              "| 1  |  Yamada  |   1   |  14 |  150   |\n",
              "| 2  |  Tanaka  |   2   |  13 |  150   |\n",
              "| 3  |  Suzuki  |   1   |  13 |  150   |\n",
              "| 4  |   Kato   |   2   |  15 |  150   |\n",
              "| 7  |  Kimura  |   3   |  11 |  160   |\n",
              "| 8  |   Sato   |   1   |  14 |  160   |\n",
              "| 9  |  Nagata  |   4   |  11 |  160   |\n",
              "| 10 |  Sugino  |   2   |  13 |  150   |\n",
              "+----+----------+-------+-----+--------+\n",
              "Truncated to displaylimit of 10."
            ],
            "text/html": [
              "<table>\n",
              "    <thead>\n",
              "        <tr>\n",
              "            <th>id</th>\n",
              "            <th>name</th>\n",
              "            <th>class</th>\n",
              "            <th>age</th>\n",
              "            <th>height</th>\n",
              "        </tr>\n",
              "    </thead>\n",
              "    <tbody>\n",
              "        <tr>\n",
              "            <td>5</td>\n",
              "            <td>Ito</td>\n",
              "            <td>3</td>\n",
              "            <td>12</td>\n",
              "            <td>155</td>\n",
              "        </tr>\n",
              "        <tr>\n",
              "            <td>6</td>\n",
              "            <td>Takeuchi</td>\n",
              "            <td>2</td>\n",
              "            <td>16</td>\n",
              "            <td>155</td>\n",
              "        </tr>\n",
              "        <tr>\n",
              "            <td>1</td>\n",
              "            <td>Yamada</td>\n",
              "            <td>1</td>\n",
              "            <td>14</td>\n",
              "            <td>150</td>\n",
              "        </tr>\n",
              "        <tr>\n",
              "            <td>2</td>\n",
              "            <td>Tanaka</td>\n",
              "            <td>2</td>\n",
              "            <td>13</td>\n",
              "            <td>150</td>\n",
              "        </tr>\n",
              "        <tr>\n",
              "            <td>3</td>\n",
              "            <td>Suzuki</td>\n",
              "            <td>1</td>\n",
              "            <td>13</td>\n",
              "            <td>150</td>\n",
              "        </tr>\n",
              "        <tr>\n",
              "            <td>4</td>\n",
              "            <td>Kato</td>\n",
              "            <td>2</td>\n",
              "            <td>15</td>\n",
              "            <td>150</td>\n",
              "        </tr>\n",
              "        <tr>\n",
              "            <td>7</td>\n",
              "            <td>Kimura</td>\n",
              "            <td>3</td>\n",
              "            <td>11</td>\n",
              "            <td>160</td>\n",
              "        </tr>\n",
              "        <tr>\n",
              "            <td>8</td>\n",
              "            <td>Sato</td>\n",
              "            <td>1</td>\n",
              "            <td>14</td>\n",
              "            <td>160</td>\n",
              "        </tr>\n",
              "        <tr>\n",
              "            <td>9</td>\n",
              "            <td>Nagata</td>\n",
              "            <td>4</td>\n",
              "            <td>11</td>\n",
              "            <td>160</td>\n",
              "        </tr>\n",
              "        <tr>\n",
              "            <td>10</td>\n",
              "            <td>Sugino</td>\n",
              "            <td>2</td>\n",
              "            <td>13</td>\n",
              "            <td>150</td>\n",
              "        </tr>\n",
              "    </tbody>\n",
              "</table>\n",
              "<span style=\"font-style:italic;text-align:center;\">Truncated to <a href=\"https://jupysql.ploomber.io/en/latest/api/configuration.html#displaylimit\">displaylimit</a> of 10.</span>"
            ]
          },
          "metadata": {},
          "execution_count": 74
        }
      ],
      "source": [
        "%%sql\n",
        "SELECT * FROM meibo\n",
        "UNION\n",
        "SELECT * FROM meibo2;"
      ]
    },
    {
      "cell_type": "code",
      "execution_count": 75,
      "metadata": {
        "id": "v25AbctNwuu9",
        "colab": {
          "base_uri": "https://localhost:8080/",
          "height": 289
        },
        "outputId": "0db8126c-e311-4940-da40-ca0582d14eaf"
      },
      "outputs": [
        {
          "output_type": "display_data",
          "data": {
            "text/plain": [
              "Running query in 'duckdb://'"
            ],
            "text/html": [
              "<span style=\"None\">Running query in &#x27;duckdb://&#x27;</span>"
            ]
          },
          "metadata": {}
        },
        {
          "output_type": "execute_result",
          "data": {
            "text/plain": [
              "+----+----------+-------+-----+--------+\n",
              "| id |   name   | class | age | height |\n",
              "+----+----------+-------+-----+--------+\n",
              "| 1  |  Yamada  |   1   |  14 |  150   |\n",
              "| 2  |  Tanaka  |   2   |  13 |  150   |\n",
              "| 3  |  Suzuki  |   1   |  13 |  150   |\n",
              "| 4  |   Kato   |   2   |  15 |  150   |\n",
              "| 5  |   Ito    |   3   |  12 |  155   |\n",
              "| 6  | Takeuchi |   2   |  16 |  155   |\n",
              "| 7  |  Kimura  |   3   |  11 |  160   |\n",
              "| 8  |   Sato   |   1   |  14 |  160   |\n",
              "| 1  |  Yamada  |   1   |  14 |  150   |\n",
              "| 9  |  Nagata  |   4   |  11 |  160   |\n",
              "+----+----------+-------+-----+--------+\n",
              "Truncated to displaylimit of 10."
            ],
            "text/html": [
              "<table>\n",
              "    <thead>\n",
              "        <tr>\n",
              "            <th>id</th>\n",
              "            <th>name</th>\n",
              "            <th>class</th>\n",
              "            <th>age</th>\n",
              "            <th>height</th>\n",
              "        </tr>\n",
              "    </thead>\n",
              "    <tbody>\n",
              "        <tr>\n",
              "            <td>1</td>\n",
              "            <td>Yamada</td>\n",
              "            <td>1</td>\n",
              "            <td>14</td>\n",
              "            <td>150</td>\n",
              "        </tr>\n",
              "        <tr>\n",
              "            <td>2</td>\n",
              "            <td>Tanaka</td>\n",
              "            <td>2</td>\n",
              "            <td>13</td>\n",
              "            <td>150</td>\n",
              "        </tr>\n",
              "        <tr>\n",
              "            <td>3</td>\n",
              "            <td>Suzuki</td>\n",
              "            <td>1</td>\n",
              "            <td>13</td>\n",
              "            <td>150</td>\n",
              "        </tr>\n",
              "        <tr>\n",
              "            <td>4</td>\n",
              "            <td>Kato</td>\n",
              "            <td>2</td>\n",
              "            <td>15</td>\n",
              "            <td>150</td>\n",
              "        </tr>\n",
              "        <tr>\n",
              "            <td>5</td>\n",
              "            <td>Ito</td>\n",
              "            <td>3</td>\n",
              "            <td>12</td>\n",
              "            <td>155</td>\n",
              "        </tr>\n",
              "        <tr>\n",
              "            <td>6</td>\n",
              "            <td>Takeuchi</td>\n",
              "            <td>2</td>\n",
              "            <td>16</td>\n",
              "            <td>155</td>\n",
              "        </tr>\n",
              "        <tr>\n",
              "            <td>7</td>\n",
              "            <td>Kimura</td>\n",
              "            <td>3</td>\n",
              "            <td>11</td>\n",
              "            <td>160</td>\n",
              "        </tr>\n",
              "        <tr>\n",
              "            <td>8</td>\n",
              "            <td>Sato</td>\n",
              "            <td>1</td>\n",
              "            <td>14</td>\n",
              "            <td>160</td>\n",
              "        </tr>\n",
              "        <tr>\n",
              "            <td>1</td>\n",
              "            <td>Yamada</td>\n",
              "            <td>1</td>\n",
              "            <td>14</td>\n",
              "            <td>150</td>\n",
              "        </tr>\n",
              "        <tr>\n",
              "            <td>9</td>\n",
              "            <td>Nagata</td>\n",
              "            <td>4</td>\n",
              "            <td>11</td>\n",
              "            <td>160</td>\n",
              "        </tr>\n",
              "    </tbody>\n",
              "</table>\n",
              "<span style=\"font-style:italic;text-align:center;\">Truncated to <a href=\"https://jupysql.ploomber.io/en/latest/api/configuration.html#displaylimit\">displaylimit</a> of 10.</span>"
            ]
          },
          "metadata": {},
          "execution_count": 75
        }
      ],
      "source": [
        "%%sql\n",
        "SELECT * FROM meibo\n",
        "UNION ALL\n",
        "SELECT * FROM meibo2;"
      ]
    },
    {
      "cell_type": "markdown",
      "metadata": {
        "id": "XFu5xPYJwuu-"
      },
      "source": [
        "テストのスコアテーブルを作成して、このmeiboテーブルと結合してみましょう。"
      ]
    },
    {
      "cell_type": "code",
      "execution_count": 76,
      "metadata": {
        "id": "lnGSJS8hwuu-",
        "colab": {
          "base_uri": "https://localhost:8080/",
          "height": 58
        },
        "outputId": "a5887af5-929d-4241-b0b5-c0f9bb9f6925"
      },
      "outputs": [
        {
          "output_type": "display_data",
          "data": {
            "text/plain": [
              "Running query in 'duckdb://'"
            ],
            "text/html": [
              "<span style=\"None\">Running query in &#x27;duckdb://&#x27;</span>"
            ]
          },
          "metadata": {}
        },
        {
          "output_type": "execute_result",
          "data": {
            "text/plain": [
              "+-------+\n",
              "| Count |\n",
              "+-------+\n",
              "+-------+"
            ],
            "text/html": [
              "<table>\n",
              "    <thead>\n",
              "        <tr>\n",
              "            <th>Count</th>\n",
              "        </tr>\n",
              "    </thead>\n",
              "    <tbody>\n",
              "    </tbody>\n",
              "</table>"
            ]
          },
          "metadata": {},
          "execution_count": 76
        }
      ],
      "source": [
        "%%sql\n",
        "CREATE TABLE score\n",
        "  (id INT PRIMARY KEY, math INT, english INT,science INT);"
      ]
    },
    {
      "cell_type": "markdown",
      "metadata": {
        "id": "yh2C_Ixtwuu-"
      },
      "source": [
        "scoreテーブルにサンプルデータを挿入します。"
      ]
    },
    {
      "cell_type": "code",
      "execution_count": 77,
      "metadata": {
        "id": "EZCyHbYzwuu-",
        "colab": {
          "base_uri": "https://localhost:8080/",
          "height": 58
        },
        "outputId": "5c0a4fff-54d1-4b0c-906b-965226562da9"
      },
      "outputs": [
        {
          "output_type": "display_data",
          "data": {
            "text/plain": [
              "Running query in 'duckdb://'"
            ],
            "text/html": [
              "<span style=\"None\">Running query in &#x27;duckdb://&#x27;</span>"
            ]
          },
          "metadata": {}
        },
        {
          "output_type": "execute_result",
          "data": {
            "text/plain": [
              "+-------+\n",
              "| Count |\n",
              "+-------+\n",
              "+-------+"
            ],
            "text/html": [
              "<table>\n",
              "    <thead>\n",
              "        <tr>\n",
              "            <th>Count</th>\n",
              "        </tr>\n",
              "    </thead>\n",
              "    <tbody>\n",
              "    </tbody>\n",
              "</table>"
            ]
          },
          "metadata": {},
          "execution_count": 77
        }
      ],
      "source": [
        "%%sql\n",
        "INSERT INTO score (id, math, english, science)\n",
        "VALUES (1,10,10,40),(2,NULL,60,100),(3,30,40,60),\n",
        "       (5,25,31,10),(6,50,30,10),(8,90,100,90),\n",
        "       (9,67,71,50),(11,100,40,88),(15,76,21,13);"
      ]
    },
    {
      "cell_type": "markdown",
      "metadata": {
        "id": "sQ_y8XLSwuu-"
      },
      "source": [
        "念のためデータが入っているかどうか確認します。"
      ]
    },
    {
      "cell_type": "code",
      "execution_count": 78,
      "metadata": {
        "id": "L1_USAPHwuu-",
        "scrolled": true,
        "colab": {
          "base_uri": "https://localhost:8080/",
          "height": 250
        },
        "outputId": "43048d80-d81c-4467-85cb-f9bd7db8f896"
      },
      "outputs": [
        {
          "output_type": "display_data",
          "data": {
            "text/plain": [
              "Running query in 'duckdb://'"
            ],
            "text/html": [
              "<span style=\"None\">Running query in &#x27;duckdb://&#x27;</span>"
            ]
          },
          "metadata": {}
        },
        {
          "output_type": "execute_result",
          "data": {
            "text/plain": [
              "+----+------+---------+---------+\n",
              "| id | math | english | science |\n",
              "+----+------+---------+---------+\n",
              "| 1  |  10  |    10   |    40   |\n",
              "| 2  | None |    60   |   100   |\n",
              "| 3  |  30  |    40   |    60   |\n",
              "| 5  |  25  |    31   |    10   |\n",
              "| 6  |  50  |    30   |    10   |\n",
              "| 8  |  90  |   100   |    90   |\n",
              "| 9  |  67  |    71   |    50   |\n",
              "| 11 | 100  |    40   |    88   |\n",
              "| 15 |  76  |    21   |    13   |\n",
              "+----+------+---------+---------+"
            ],
            "text/html": [
              "<table>\n",
              "    <thead>\n",
              "        <tr>\n",
              "            <th>id</th>\n",
              "            <th>math</th>\n",
              "            <th>english</th>\n",
              "            <th>science</th>\n",
              "        </tr>\n",
              "    </thead>\n",
              "    <tbody>\n",
              "        <tr>\n",
              "            <td>1</td>\n",
              "            <td>10</td>\n",
              "            <td>10</td>\n",
              "            <td>40</td>\n",
              "        </tr>\n",
              "        <tr>\n",
              "            <td>2</td>\n",
              "            <td>None</td>\n",
              "            <td>60</td>\n",
              "            <td>100</td>\n",
              "        </tr>\n",
              "        <tr>\n",
              "            <td>3</td>\n",
              "            <td>30</td>\n",
              "            <td>40</td>\n",
              "            <td>60</td>\n",
              "        </tr>\n",
              "        <tr>\n",
              "            <td>5</td>\n",
              "            <td>25</td>\n",
              "            <td>31</td>\n",
              "            <td>10</td>\n",
              "        </tr>\n",
              "        <tr>\n",
              "            <td>6</td>\n",
              "            <td>50</td>\n",
              "            <td>30</td>\n",
              "            <td>10</td>\n",
              "        </tr>\n",
              "        <tr>\n",
              "            <td>8</td>\n",
              "            <td>90</td>\n",
              "            <td>100</td>\n",
              "            <td>90</td>\n",
              "        </tr>\n",
              "        <tr>\n",
              "            <td>9</td>\n",
              "            <td>67</td>\n",
              "            <td>71</td>\n",
              "            <td>50</td>\n",
              "        </tr>\n",
              "        <tr>\n",
              "            <td>11</td>\n",
              "            <td>100</td>\n",
              "            <td>40</td>\n",
              "            <td>88</td>\n",
              "        </tr>\n",
              "        <tr>\n",
              "            <td>15</td>\n",
              "            <td>76</td>\n",
              "            <td>21</td>\n",
              "            <td>13</td>\n",
              "        </tr>\n",
              "    </tbody>\n",
              "</table>"
            ]
          },
          "metadata": {},
          "execution_count": 78
        }
      ],
      "source": [
        "%%sql\n",
        "SELECT * FROM score;"
      ]
    },
    {
      "cell_type": "markdown",
      "metadata": {
        "id": "ZDmHEqzlwuu-"
      },
      "source": [
        "以下でidをキーに内部結合しています。テーブル名の後に別名を簡単に付けています。（meiboはa、scoreはb）"
      ]
    },
    {
      "cell_type": "code",
      "execution_count": 79,
      "metadata": {
        "id": "KTt7bkwowuu-",
        "colab": {
          "base_uri": "https://localhost:8080/",
          "height": 186
        },
        "outputId": "3dd8f1e4-950e-4b4e-8878-ca54d111c576"
      },
      "outputs": [
        {
          "output_type": "display_data",
          "data": {
            "text/plain": [
              "Running query in 'duckdb://'"
            ],
            "text/html": [
              "<span style=\"None\">Running query in &#x27;duckdb://&#x27;</span>"
            ]
          },
          "metadata": {}
        },
        {
          "output_type": "execute_result",
          "data": {
            "text/plain": [
              "+----+----------+-------+-----+--------+------+------+---------+---------+\n",
              "| id |   name   | class | age | height | id_1 | math | english | science |\n",
              "+----+----------+-------+-----+--------+------+------+---------+---------+\n",
              "| 1  |  Yamada  |   1   |  14 |  150   |  1   |  10  |    10   |    40   |\n",
              "| 2  |  Tanaka  |   2   |  13 |  150   |  2   | None |    60   |   100   |\n",
              "| 3  |  Suzuki  |   1   |  13 |  150   |  3   |  30  |    40   |    60   |\n",
              "| 5  |   Ito    |   3   |  12 |  155   |  5   |  25  |    31   |    10   |\n",
              "| 6  | Takeuchi |   2   |  16 |  155   |  6   |  50  |    30   |    10   |\n",
              "| 8  |   Sato   |   1   |  14 |  160   |  8   |  90  |   100   |    90   |\n",
              "+----+----------+-------+-----+--------+------+------+---------+---------+"
            ],
            "text/html": [
              "<table>\n",
              "    <thead>\n",
              "        <tr>\n",
              "            <th>id</th>\n",
              "            <th>name</th>\n",
              "            <th>class</th>\n",
              "            <th>age</th>\n",
              "            <th>height</th>\n",
              "            <th>id_1</th>\n",
              "            <th>math</th>\n",
              "            <th>english</th>\n",
              "            <th>science</th>\n",
              "        </tr>\n",
              "    </thead>\n",
              "    <tbody>\n",
              "        <tr>\n",
              "            <td>1</td>\n",
              "            <td>Yamada</td>\n",
              "            <td>1</td>\n",
              "            <td>14</td>\n",
              "            <td>150</td>\n",
              "            <td>1</td>\n",
              "            <td>10</td>\n",
              "            <td>10</td>\n",
              "            <td>40</td>\n",
              "        </tr>\n",
              "        <tr>\n",
              "            <td>2</td>\n",
              "            <td>Tanaka</td>\n",
              "            <td>2</td>\n",
              "            <td>13</td>\n",
              "            <td>150</td>\n",
              "            <td>2</td>\n",
              "            <td>None</td>\n",
              "            <td>60</td>\n",
              "            <td>100</td>\n",
              "        </tr>\n",
              "        <tr>\n",
              "            <td>3</td>\n",
              "            <td>Suzuki</td>\n",
              "            <td>1</td>\n",
              "            <td>13</td>\n",
              "            <td>150</td>\n",
              "            <td>3</td>\n",
              "            <td>30</td>\n",
              "            <td>40</td>\n",
              "            <td>60</td>\n",
              "        </tr>\n",
              "        <tr>\n",
              "            <td>5</td>\n",
              "            <td>Ito</td>\n",
              "            <td>3</td>\n",
              "            <td>12</td>\n",
              "            <td>155</td>\n",
              "            <td>5</td>\n",
              "            <td>25</td>\n",
              "            <td>31</td>\n",
              "            <td>10</td>\n",
              "        </tr>\n",
              "        <tr>\n",
              "            <td>6</td>\n",
              "            <td>Takeuchi</td>\n",
              "            <td>2</td>\n",
              "            <td>16</td>\n",
              "            <td>155</td>\n",
              "            <td>6</td>\n",
              "            <td>50</td>\n",
              "            <td>30</td>\n",
              "            <td>10</td>\n",
              "        </tr>\n",
              "        <tr>\n",
              "            <td>8</td>\n",
              "            <td>Sato</td>\n",
              "            <td>1</td>\n",
              "            <td>14</td>\n",
              "            <td>160</td>\n",
              "            <td>8</td>\n",
              "            <td>90</td>\n",
              "            <td>100</td>\n",
              "            <td>90</td>\n",
              "        </tr>\n",
              "    </tbody>\n",
              "</table>"
            ]
          },
          "metadata": {},
          "execution_count": 79
        }
      ],
      "source": [
        "%%sql\n",
        "SELECT * FROM meibo a JOIN score b ON a.id=b.id;"
      ]
    },
    {
      "cell_type": "markdown",
      "metadata": {
        "id": "pdlfGi1xwuu_"
      },
      "source": [
        "idをキーに外部結合(左)しています。左にあるテーブルがベースになります。右にデータがいない場合は、None(NULL)になります。"
      ]
    },
    {
      "cell_type": "code",
      "execution_count": 80,
      "metadata": {
        "id": "FpMDMJ9ewuu_",
        "colab": {
          "base_uri": "https://localhost:8080/",
          "height": 229
        },
        "outputId": "fd162451-4e62-4cd4-852e-13d6fe136c21"
      },
      "outputs": [
        {
          "output_type": "display_data",
          "data": {
            "text/plain": [
              "Running query in 'duckdb://'"
            ],
            "text/html": [
              "<span style=\"None\">Running query in &#x27;duckdb://&#x27;</span>"
            ]
          },
          "metadata": {}
        },
        {
          "output_type": "execute_result",
          "data": {
            "text/plain": [
              "+----+----------+-------+-----+--------+------+------+---------+---------+\n",
              "| id |   name   | class | age | height | id_1 | math | english | science |\n",
              "+----+----------+-------+-----+--------+------+------+---------+---------+\n",
              "| 1  |  Yamada  |   1   |  14 |  150   |  1   |  10  |    10   |    40   |\n",
              "| 2  |  Tanaka  |   2   |  13 |  150   |  2   | None |    60   |   100   |\n",
              "| 3  |  Suzuki  |   1   |  13 |  150   |  3   |  30  |    40   |    60   |\n",
              "| 5  |   Ito    |   3   |  12 |  155   |  5   |  25  |    31   |    10   |\n",
              "| 6  | Takeuchi |   2   |  16 |  155   |  6   |  50  |    30   |    10   |\n",
              "| 8  |   Sato   |   1   |  14 |  160   |  8   |  90  |   100   |    90   |\n",
              "| 4  |   Kato   |   2   |  15 |  150   | None | None |   None  |   None  |\n",
              "| 7  |  Kimura  |   3   |  11 |  160   | None | None |   None  |   None  |\n",
              "+----+----------+-------+-----+--------+------+------+---------+---------+"
            ],
            "text/html": [
              "<table>\n",
              "    <thead>\n",
              "        <tr>\n",
              "            <th>id</th>\n",
              "            <th>name</th>\n",
              "            <th>class</th>\n",
              "            <th>age</th>\n",
              "            <th>height</th>\n",
              "            <th>id_1</th>\n",
              "            <th>math</th>\n",
              "            <th>english</th>\n",
              "            <th>science</th>\n",
              "        </tr>\n",
              "    </thead>\n",
              "    <tbody>\n",
              "        <tr>\n",
              "            <td>1</td>\n",
              "            <td>Yamada</td>\n",
              "            <td>1</td>\n",
              "            <td>14</td>\n",
              "            <td>150</td>\n",
              "            <td>1</td>\n",
              "            <td>10</td>\n",
              "            <td>10</td>\n",
              "            <td>40</td>\n",
              "        </tr>\n",
              "        <tr>\n",
              "            <td>2</td>\n",
              "            <td>Tanaka</td>\n",
              "            <td>2</td>\n",
              "            <td>13</td>\n",
              "            <td>150</td>\n",
              "            <td>2</td>\n",
              "            <td>None</td>\n",
              "            <td>60</td>\n",
              "            <td>100</td>\n",
              "        </tr>\n",
              "        <tr>\n",
              "            <td>3</td>\n",
              "            <td>Suzuki</td>\n",
              "            <td>1</td>\n",
              "            <td>13</td>\n",
              "            <td>150</td>\n",
              "            <td>3</td>\n",
              "            <td>30</td>\n",
              "            <td>40</td>\n",
              "            <td>60</td>\n",
              "        </tr>\n",
              "        <tr>\n",
              "            <td>5</td>\n",
              "            <td>Ito</td>\n",
              "            <td>3</td>\n",
              "            <td>12</td>\n",
              "            <td>155</td>\n",
              "            <td>5</td>\n",
              "            <td>25</td>\n",
              "            <td>31</td>\n",
              "            <td>10</td>\n",
              "        </tr>\n",
              "        <tr>\n",
              "            <td>6</td>\n",
              "            <td>Takeuchi</td>\n",
              "            <td>2</td>\n",
              "            <td>16</td>\n",
              "            <td>155</td>\n",
              "            <td>6</td>\n",
              "            <td>50</td>\n",
              "            <td>30</td>\n",
              "            <td>10</td>\n",
              "        </tr>\n",
              "        <tr>\n",
              "            <td>8</td>\n",
              "            <td>Sato</td>\n",
              "            <td>1</td>\n",
              "            <td>14</td>\n",
              "            <td>160</td>\n",
              "            <td>8</td>\n",
              "            <td>90</td>\n",
              "            <td>100</td>\n",
              "            <td>90</td>\n",
              "        </tr>\n",
              "        <tr>\n",
              "            <td>4</td>\n",
              "            <td>Kato</td>\n",
              "            <td>2</td>\n",
              "            <td>15</td>\n",
              "            <td>150</td>\n",
              "            <td>None</td>\n",
              "            <td>None</td>\n",
              "            <td>None</td>\n",
              "            <td>None</td>\n",
              "        </tr>\n",
              "        <tr>\n",
              "            <td>7</td>\n",
              "            <td>Kimura</td>\n",
              "            <td>3</td>\n",
              "            <td>11</td>\n",
              "            <td>160</td>\n",
              "            <td>None</td>\n",
              "            <td>None</td>\n",
              "            <td>None</td>\n",
              "            <td>None</td>\n",
              "        </tr>\n",
              "    </tbody>\n",
              "</table>"
            ]
          },
          "metadata": {},
          "execution_count": 80
        }
      ],
      "source": [
        "%%sql\n",
        "SELECT * FROM meibo a LEFT JOIN score b ON a.id=b.id;"
      ]
    },
    {
      "cell_type": "markdown",
      "metadata": {
        "id": "pt_crHNpwuu_"
      },
      "source": [
        "以下は、参考ですが、自分自身のテーブルと結合をする自己結合も可能です。"
      ]
    },
    {
      "cell_type": "code",
      "execution_count": 81,
      "metadata": {
        "id": "E61_P_dnwuu_",
        "colab": {
          "base_uri": "https://localhost:8080/",
          "height": 229
        },
        "outputId": "1910f80c-761d-4139-bcd4-4a2dc5ebd98b"
      },
      "outputs": [
        {
          "output_type": "display_data",
          "data": {
            "text/plain": [
              "Running query in 'duckdb://'"
            ],
            "text/html": [
              "<span style=\"None\">Running query in &#x27;duckdb://&#x27;</span>"
            ]
          },
          "metadata": {}
        },
        {
          "output_type": "execute_result",
          "data": {
            "text/plain": [
              "+----+----------+-------+-----+--------+------+----------+---------+-------+----------+\n",
              "| id |   name   | class | age | height | id_1 |  name_1  | class_1 | age_1 | height_1 |\n",
              "+----+----------+-------+-----+--------+------+----------+---------+-------+----------+\n",
              "| 1  |  Yamada  |   1   |  14 |  150   |  1   |  Yamada  |    1    |   14  |   150    |\n",
              "| 2  |  Tanaka  |   2   |  13 |  150   |  2   |  Tanaka  |    2    |   13  |   150    |\n",
              "| 3  |  Suzuki  |   1   |  13 |  150   |  3   |  Suzuki  |    1    |   13  |   150    |\n",
              "| 4  |   Kato   |   2   |  15 |  150   |  4   |   Kato   |    2    |   15  |   150    |\n",
              "| 5  |   Ito    |   3   |  12 |  155   |  5   |   Ito    |    3    |   12  |   155    |\n",
              "| 6  | Takeuchi |   2   |  16 |  155   |  6   | Takeuchi |    2    |   16  |   155    |\n",
              "| 7  |  Kimura  |   3   |  11 |  160   |  7   |  Kimura  |    3    |   11  |   160    |\n",
              "| 8  |   Sato   |   1   |  14 |  160   |  8   |   Sato   |    1    |   14  |   160    |\n",
              "+----+----------+-------+-----+--------+------+----------+---------+-------+----------+"
            ],
            "text/html": [
              "<table>\n",
              "    <thead>\n",
              "        <tr>\n",
              "            <th>id</th>\n",
              "            <th>name</th>\n",
              "            <th>class</th>\n",
              "            <th>age</th>\n",
              "            <th>height</th>\n",
              "            <th>id_1</th>\n",
              "            <th>name_1</th>\n",
              "            <th>class_1</th>\n",
              "            <th>age_1</th>\n",
              "            <th>height_1</th>\n",
              "        </tr>\n",
              "    </thead>\n",
              "    <tbody>\n",
              "        <tr>\n",
              "            <td>1</td>\n",
              "            <td>Yamada</td>\n",
              "            <td>1</td>\n",
              "            <td>14</td>\n",
              "            <td>150</td>\n",
              "            <td>1</td>\n",
              "            <td>Yamada</td>\n",
              "            <td>1</td>\n",
              "            <td>14</td>\n",
              "            <td>150</td>\n",
              "        </tr>\n",
              "        <tr>\n",
              "            <td>2</td>\n",
              "            <td>Tanaka</td>\n",
              "            <td>2</td>\n",
              "            <td>13</td>\n",
              "            <td>150</td>\n",
              "            <td>2</td>\n",
              "            <td>Tanaka</td>\n",
              "            <td>2</td>\n",
              "            <td>13</td>\n",
              "            <td>150</td>\n",
              "        </tr>\n",
              "        <tr>\n",
              "            <td>3</td>\n",
              "            <td>Suzuki</td>\n",
              "            <td>1</td>\n",
              "            <td>13</td>\n",
              "            <td>150</td>\n",
              "            <td>3</td>\n",
              "            <td>Suzuki</td>\n",
              "            <td>1</td>\n",
              "            <td>13</td>\n",
              "            <td>150</td>\n",
              "        </tr>\n",
              "        <tr>\n",
              "            <td>4</td>\n",
              "            <td>Kato</td>\n",
              "            <td>2</td>\n",
              "            <td>15</td>\n",
              "            <td>150</td>\n",
              "            <td>4</td>\n",
              "            <td>Kato</td>\n",
              "            <td>2</td>\n",
              "            <td>15</td>\n",
              "            <td>150</td>\n",
              "        </tr>\n",
              "        <tr>\n",
              "            <td>5</td>\n",
              "            <td>Ito</td>\n",
              "            <td>3</td>\n",
              "            <td>12</td>\n",
              "            <td>155</td>\n",
              "            <td>5</td>\n",
              "            <td>Ito</td>\n",
              "            <td>3</td>\n",
              "            <td>12</td>\n",
              "            <td>155</td>\n",
              "        </tr>\n",
              "        <tr>\n",
              "            <td>6</td>\n",
              "            <td>Takeuchi</td>\n",
              "            <td>2</td>\n",
              "            <td>16</td>\n",
              "            <td>155</td>\n",
              "            <td>6</td>\n",
              "            <td>Takeuchi</td>\n",
              "            <td>2</td>\n",
              "            <td>16</td>\n",
              "            <td>155</td>\n",
              "        </tr>\n",
              "        <tr>\n",
              "            <td>7</td>\n",
              "            <td>Kimura</td>\n",
              "            <td>3</td>\n",
              "            <td>11</td>\n",
              "            <td>160</td>\n",
              "            <td>7</td>\n",
              "            <td>Kimura</td>\n",
              "            <td>3</td>\n",
              "            <td>11</td>\n",
              "            <td>160</td>\n",
              "        </tr>\n",
              "        <tr>\n",
              "            <td>8</td>\n",
              "            <td>Sato</td>\n",
              "            <td>1</td>\n",
              "            <td>14</td>\n",
              "            <td>160</td>\n",
              "            <td>8</td>\n",
              "            <td>Sato</td>\n",
              "            <td>1</td>\n",
              "            <td>14</td>\n",
              "            <td>160</td>\n",
              "        </tr>\n",
              "    </tbody>\n",
              "</table>"
            ]
          },
          "metadata": {},
          "execution_count": 81
        }
      ],
      "source": [
        "%%sql\n",
        "SELECT * FROM meibo a JOIN meibo b ON a.id=b.id;"
      ]
    },
    {
      "cell_type": "markdown",
      "metadata": {
        "id": "GjOqcB_4wuu_"
      },
      "source": [
        ">**[ポイント]**\n",
        ">\n",
        ">UNION：重複を除いた結合\n",
        ">\n",
        ">UNION ALL：重複ありの結合\n",
        ">\n",
        ">INNER JOIN：内部結合\n",
        ">\n",
        ">LEFT OUTER JOIN：外部結合"
      ]
    },
    {
      "cell_type": "markdown",
      "metadata": {
        "id": "i2khXmPIwuu_"
      },
      "source": [
        "#### <練習問題 1>\n",
        "\n",
        "新しくcardtbというテーブルを作成してください。ただし、カラムはid, point, money (すべてINT)を作成してください。さらに、以下のデータを挿入してください。\n",
        "<br>(id,point,money) = (1,100,1000),(3,50,500),(4,30,600),(5,10,10),(7,100,1000),(8,2000,100)"
      ]
    },
    {
      "cell_type": "code",
      "execution_count": 82,
      "metadata": {
        "id": "Rwlppqkmwuu_",
        "colab": {
          "base_uri": "https://localhost:8080/",
          "height": 58
        },
        "outputId": "db904dc4-e5c9-42d9-bf6e-d29553a53fc5"
      },
      "outputs": [
        {
          "output_type": "display_data",
          "data": {
            "text/plain": [
              "Running query in 'duckdb://'"
            ],
            "text/html": [
              "<span style=\"None\">Running query in &#x27;duckdb://&#x27;</span>"
            ]
          },
          "metadata": {}
        },
        {
          "output_type": "execute_result",
          "data": {
            "text/plain": [
              "+-------+\n",
              "| Count |\n",
              "+-------+\n",
              "+-------+"
            ],
            "text/html": [
              "<table>\n",
              "    <thead>\n",
              "        <tr>\n",
              "            <th>Count</th>\n",
              "        </tr>\n",
              "    </thead>\n",
              "    <tbody>\n",
              "    </tbody>\n",
              "</table>"
            ]
          },
          "metadata": {},
          "execution_count": 82
        }
      ],
      "source": [
        "#解答\n",
        "%%sql\n",
        "CREATE TABLE cardtb\n",
        "  (id INT PRIMARY KEY, point INT, money INT);"
      ]
    },
    {
      "cell_type": "code",
      "execution_count": 83,
      "metadata": {
        "id": "UAka7aONwuu_",
        "colab": {
          "base_uri": "https://localhost:8080/",
          "height": 58
        },
        "outputId": "fdf9f113-41d1-4b8d-8f02-b14e08763ab7"
      },
      "outputs": [
        {
          "output_type": "display_data",
          "data": {
            "text/plain": [
              "Running query in 'duckdb://'"
            ],
            "text/html": [
              "<span style=\"None\">Running query in &#x27;duckdb://&#x27;</span>"
            ]
          },
          "metadata": {}
        },
        {
          "output_type": "execute_result",
          "data": {
            "text/plain": [
              "+-------+\n",
              "| Count |\n",
              "+-------+\n",
              "+-------+"
            ],
            "text/html": [
              "<table>\n",
              "    <thead>\n",
              "        <tr>\n",
              "            <th>Count</th>\n",
              "        </tr>\n",
              "    </thead>\n",
              "    <tbody>\n",
              "    </tbody>\n",
              "</table>"
            ]
          },
          "metadata": {},
          "execution_count": 83
        }
      ],
      "source": [
        "#解答\n",
        "%%sql\n",
        "INSERT INTO cardtb (id, point, money)\n",
        "VALUES (1,100,1000),(3,50,500),(4,30,600),(5,10,10),(7,100,1000),(8,2000,100);"
      ]
    },
    {
      "cell_type": "code",
      "execution_count": 84,
      "metadata": {
        "id": "MpGwV4dywuu_",
        "colab": {
          "base_uri": "https://localhost:8080/",
          "height": 186
        },
        "outputId": "dc2bab2d-7e35-41a5-9094-dd2c5ca9990e"
      },
      "outputs": [
        {
          "output_type": "display_data",
          "data": {
            "text/plain": [
              "Running query in 'duckdb://'"
            ],
            "text/html": [
              "<span style=\"None\">Running query in &#x27;duckdb://&#x27;</span>"
            ]
          },
          "metadata": {}
        },
        {
          "output_type": "execute_result",
          "data": {
            "text/plain": [
              "+----+-------+-------+\n",
              "| id | point | money |\n",
              "+----+-------+-------+\n",
              "| 1  |  100  |  1000 |\n",
              "| 3  |   50  |  500  |\n",
              "| 4  |   30  |  600  |\n",
              "| 5  |   10  |   10  |\n",
              "| 7  |  100  |  1000 |\n",
              "| 8  |  2000 |  100  |\n",
              "+----+-------+-------+"
            ],
            "text/html": [
              "<table>\n",
              "    <thead>\n",
              "        <tr>\n",
              "            <th>id</th>\n",
              "            <th>point</th>\n",
              "            <th>money</th>\n",
              "        </tr>\n",
              "    </thead>\n",
              "    <tbody>\n",
              "        <tr>\n",
              "            <td>1</td>\n",
              "            <td>100</td>\n",
              "            <td>1000</td>\n",
              "        </tr>\n",
              "        <tr>\n",
              "            <td>3</td>\n",
              "            <td>50</td>\n",
              "            <td>500</td>\n",
              "        </tr>\n",
              "        <tr>\n",
              "            <td>4</td>\n",
              "            <td>30</td>\n",
              "            <td>600</td>\n",
              "        </tr>\n",
              "        <tr>\n",
              "            <td>5</td>\n",
              "            <td>10</td>\n",
              "            <td>10</td>\n",
              "        </tr>\n",
              "        <tr>\n",
              "            <td>7</td>\n",
              "            <td>100</td>\n",
              "            <td>1000</td>\n",
              "        </tr>\n",
              "        <tr>\n",
              "            <td>8</td>\n",
              "            <td>2000</td>\n",
              "            <td>100</td>\n",
              "        </tr>\n",
              "    </tbody>\n",
              "</table>"
            ]
          },
          "metadata": {},
          "execution_count": 84
        }
      ],
      "source": [
        "#解答\n",
        "%%sql\n",
        "SELECT * FROM cardtb;"
      ]
    },
    {
      "cell_type": "markdown",
      "metadata": {
        "id": "HEAhLSPlwuvA"
      },
      "source": [
        "#### <練習問題 2>\n",
        "\n",
        "meiboテーブルにidをキーとして、上記のテーブルを内部結合させてください。"
      ]
    },
    {
      "cell_type": "code",
      "execution_count": 85,
      "metadata": {
        "id": "iLHOKL4_wuvA",
        "colab": {
          "base_uri": "https://localhost:8080/",
          "height": 186
        },
        "outputId": "b57f9c8b-d3a6-4021-ad93-7d19bbc6d559"
      },
      "outputs": [
        {
          "output_type": "display_data",
          "data": {
            "text/plain": [
              "Running query in 'duckdb://'"
            ],
            "text/html": [
              "<span style=\"None\">Running query in &#x27;duckdb://&#x27;</span>"
            ]
          },
          "metadata": {}
        },
        {
          "output_type": "execute_result",
          "data": {
            "text/plain": [
              "+----+--------+-------+-----+--------+------+-------+-------+\n",
              "| id |  name  | class | age | height | id_1 | point | money |\n",
              "+----+--------+-------+-----+--------+------+-------+-------+\n",
              "| 1  | Yamada |   1   |  14 |  150   |  1   |  100  |  1000 |\n",
              "| 3  | Suzuki |   1   |  13 |  150   |  3   |   50  |  500  |\n",
              "| 4  |  Kato  |   2   |  15 |  150   |  4   |   30  |  600  |\n",
              "| 5  |  Ito   |   3   |  12 |  155   |  5   |   10  |   10  |\n",
              "| 7  | Kimura |   3   |  11 |  160   |  7   |  100  |  1000 |\n",
              "| 8  |  Sato  |   1   |  14 |  160   |  8   |  2000 |  100  |\n",
              "+----+--------+-------+-----+--------+------+-------+-------+"
            ],
            "text/html": [
              "<table>\n",
              "    <thead>\n",
              "        <tr>\n",
              "            <th>id</th>\n",
              "            <th>name</th>\n",
              "            <th>class</th>\n",
              "            <th>age</th>\n",
              "            <th>height</th>\n",
              "            <th>id_1</th>\n",
              "            <th>point</th>\n",
              "            <th>money</th>\n",
              "        </tr>\n",
              "    </thead>\n",
              "    <tbody>\n",
              "        <tr>\n",
              "            <td>1</td>\n",
              "            <td>Yamada</td>\n",
              "            <td>1</td>\n",
              "            <td>14</td>\n",
              "            <td>150</td>\n",
              "            <td>1</td>\n",
              "            <td>100</td>\n",
              "            <td>1000</td>\n",
              "        </tr>\n",
              "        <tr>\n",
              "            <td>3</td>\n",
              "            <td>Suzuki</td>\n",
              "            <td>1</td>\n",
              "            <td>13</td>\n",
              "            <td>150</td>\n",
              "            <td>3</td>\n",
              "            <td>50</td>\n",
              "            <td>500</td>\n",
              "        </tr>\n",
              "        <tr>\n",
              "            <td>4</td>\n",
              "            <td>Kato</td>\n",
              "            <td>2</td>\n",
              "            <td>15</td>\n",
              "            <td>150</td>\n",
              "            <td>4</td>\n",
              "            <td>30</td>\n",
              "            <td>600</td>\n",
              "        </tr>\n",
              "        <tr>\n",
              "            <td>5</td>\n",
              "            <td>Ito</td>\n",
              "            <td>3</td>\n",
              "            <td>12</td>\n",
              "            <td>155</td>\n",
              "            <td>5</td>\n",
              "            <td>10</td>\n",
              "            <td>10</td>\n",
              "        </tr>\n",
              "        <tr>\n",
              "            <td>7</td>\n",
              "            <td>Kimura</td>\n",
              "            <td>3</td>\n",
              "            <td>11</td>\n",
              "            <td>160</td>\n",
              "            <td>7</td>\n",
              "            <td>100</td>\n",
              "            <td>1000</td>\n",
              "        </tr>\n",
              "        <tr>\n",
              "            <td>8</td>\n",
              "            <td>Sato</td>\n",
              "            <td>1</td>\n",
              "            <td>14</td>\n",
              "            <td>160</td>\n",
              "            <td>8</td>\n",
              "            <td>2000</td>\n",
              "            <td>100</td>\n",
              "        </tr>\n",
              "    </tbody>\n",
              "</table>"
            ]
          },
          "metadata": {},
          "execution_count": 85
        }
      ],
      "source": [
        "#解答\n",
        "%%sql\n",
        "SELECT * FROM meibo a JOIN cardtb b ON a.id=b.id;"
      ]
    },
    {
      "cell_type": "markdown",
      "metadata": {
        "id": "1SDzvXyMwuvA"
      },
      "source": [
        "#### <練習問題 3>\n",
        "meiboテーブルにidをキーとして、上記のテーブルを外部結合させてください。"
      ]
    },
    {
      "cell_type": "code",
      "execution_count": 86,
      "metadata": {
        "id": "qIi1zheqwuvA",
        "colab": {
          "base_uri": "https://localhost:8080/",
          "height": 229
        },
        "outputId": "ebe2b8cc-f66e-4c8e-d11f-ca725bba6426"
      },
      "outputs": [
        {
          "output_type": "display_data",
          "data": {
            "text/plain": [
              "Running query in 'duckdb://'"
            ],
            "text/html": [
              "<span style=\"None\">Running query in &#x27;duckdb://&#x27;</span>"
            ]
          },
          "metadata": {}
        },
        {
          "output_type": "execute_result",
          "data": {
            "text/plain": [
              "+----+----------+-------+-----+--------+------+-------+-------+\n",
              "| id |   name   | class | age | height | id_1 | point | money |\n",
              "+----+----------+-------+-----+--------+------+-------+-------+\n",
              "| 1  |  Yamada  |   1   |  14 |  150   |  1   |  100  |  1000 |\n",
              "| 3  |  Suzuki  |   1   |  13 |  150   |  3   |   50  |  500  |\n",
              "| 4  |   Kato   |   2   |  15 |  150   |  4   |   30  |  600  |\n",
              "| 5  |   Ito    |   3   |  12 |  155   |  5   |   10  |   10  |\n",
              "| 7  |  Kimura  |   3   |  11 |  160   |  7   |  100  |  1000 |\n",
              "| 8  |   Sato   |   1   |  14 |  160   |  8   |  2000 |  100  |\n",
              "| 2  |  Tanaka  |   2   |  13 |  150   | None |  None |  None |\n",
              "| 6  | Takeuchi |   2   |  16 |  155   | None |  None |  None |\n",
              "+----+----------+-------+-----+--------+------+-------+-------+"
            ],
            "text/html": [
              "<table>\n",
              "    <thead>\n",
              "        <tr>\n",
              "            <th>id</th>\n",
              "            <th>name</th>\n",
              "            <th>class</th>\n",
              "            <th>age</th>\n",
              "            <th>height</th>\n",
              "            <th>id_1</th>\n",
              "            <th>point</th>\n",
              "            <th>money</th>\n",
              "        </tr>\n",
              "    </thead>\n",
              "    <tbody>\n",
              "        <tr>\n",
              "            <td>1</td>\n",
              "            <td>Yamada</td>\n",
              "            <td>1</td>\n",
              "            <td>14</td>\n",
              "            <td>150</td>\n",
              "            <td>1</td>\n",
              "            <td>100</td>\n",
              "            <td>1000</td>\n",
              "        </tr>\n",
              "        <tr>\n",
              "            <td>3</td>\n",
              "            <td>Suzuki</td>\n",
              "            <td>1</td>\n",
              "            <td>13</td>\n",
              "            <td>150</td>\n",
              "            <td>3</td>\n",
              "            <td>50</td>\n",
              "            <td>500</td>\n",
              "        </tr>\n",
              "        <tr>\n",
              "            <td>4</td>\n",
              "            <td>Kato</td>\n",
              "            <td>2</td>\n",
              "            <td>15</td>\n",
              "            <td>150</td>\n",
              "            <td>4</td>\n",
              "            <td>30</td>\n",
              "            <td>600</td>\n",
              "        </tr>\n",
              "        <tr>\n",
              "            <td>5</td>\n",
              "            <td>Ito</td>\n",
              "            <td>3</td>\n",
              "            <td>12</td>\n",
              "            <td>155</td>\n",
              "            <td>5</td>\n",
              "            <td>10</td>\n",
              "            <td>10</td>\n",
              "        </tr>\n",
              "        <tr>\n",
              "            <td>7</td>\n",
              "            <td>Kimura</td>\n",
              "            <td>3</td>\n",
              "            <td>11</td>\n",
              "            <td>160</td>\n",
              "            <td>7</td>\n",
              "            <td>100</td>\n",
              "            <td>1000</td>\n",
              "        </tr>\n",
              "        <tr>\n",
              "            <td>8</td>\n",
              "            <td>Sato</td>\n",
              "            <td>1</td>\n",
              "            <td>14</td>\n",
              "            <td>160</td>\n",
              "            <td>8</td>\n",
              "            <td>2000</td>\n",
              "            <td>100</td>\n",
              "        </tr>\n",
              "        <tr>\n",
              "            <td>2</td>\n",
              "            <td>Tanaka</td>\n",
              "            <td>2</td>\n",
              "            <td>13</td>\n",
              "            <td>150</td>\n",
              "            <td>None</td>\n",
              "            <td>None</td>\n",
              "            <td>None</td>\n",
              "        </tr>\n",
              "        <tr>\n",
              "            <td>6</td>\n",
              "            <td>Takeuchi</td>\n",
              "            <td>2</td>\n",
              "            <td>16</td>\n",
              "            <td>155</td>\n",
              "            <td>None</td>\n",
              "            <td>None</td>\n",
              "            <td>None</td>\n",
              "        </tr>\n",
              "    </tbody>\n",
              "</table>"
            ]
          },
          "metadata": {},
          "execution_count": 86
        }
      ],
      "source": [
        "#解答\n",
        "%%sql\n",
        "SELECT * FROM meibo a LEFT JOIN cardtb b ON a.id=b.id;"
      ]
    },
    {
      "cell_type": "markdown",
      "metadata": {
        "id": "k14l6v0ZwuvA"
      },
      "source": [
        "### 7.2.6 CASE文とサブクエリ\n",
        "キーワード：CASE文、サブクエリ"
      ]
    },
    {
      "cell_type": "markdown",
      "metadata": {
        "id": "z9ejMCGJwuvA"
      },
      "source": [
        "データを処理していると、条件分岐をし、それぞれを集計したいという場合があります。SQLでは条件分岐処理もできます。以下では、クラス番号が「1,2,3」ならば、それぞれ「A,B,C」というクラス名(className)が付与されるようにしています。"
      ]
    },
    {
      "cell_type": "code",
      "execution_count": 87,
      "metadata": {
        "id": "JmxYYs9bwuvA",
        "colab": {
          "base_uri": "https://localhost:8080/",
          "height": 229
        },
        "outputId": "f0a43229-70c3-4af9-f349-1ef8abd48216"
      },
      "outputs": [
        {
          "output_type": "display_data",
          "data": {
            "text/plain": [
              "Running query in 'duckdb://'"
            ],
            "text/html": [
              "<span style=\"None\">Running query in &#x27;duckdb://&#x27;</span>"
            ]
          },
          "metadata": {}
        },
        {
          "output_type": "execute_result",
          "data": {
            "text/plain": [
              "+----+----------+-----------+\n",
              "| id |   name   | className |\n",
              "+----+----------+-----------+\n",
              "| 1  |  Yamada  |     A     |\n",
              "| 2  |  Tanaka  |     B     |\n",
              "| 3  |  Suzuki  |     A     |\n",
              "| 4  |   Kato   |     B     |\n",
              "| 5  |   Ito    |     C     |\n",
              "| 6  | Takeuchi |     B     |\n",
              "| 7  |  Kimura  |     C     |\n",
              "| 8  |   Sato   |     A     |\n",
              "+----+----------+-----------+"
            ],
            "text/html": [
              "<table>\n",
              "    <thead>\n",
              "        <tr>\n",
              "            <th>id</th>\n",
              "            <th>name</th>\n",
              "            <th>className</th>\n",
              "        </tr>\n",
              "    </thead>\n",
              "    <tbody>\n",
              "        <tr>\n",
              "            <td>1</td>\n",
              "            <td>Yamada</td>\n",
              "            <td>A</td>\n",
              "        </tr>\n",
              "        <tr>\n",
              "            <td>2</td>\n",
              "            <td>Tanaka</td>\n",
              "            <td>B</td>\n",
              "        </tr>\n",
              "        <tr>\n",
              "            <td>3</td>\n",
              "            <td>Suzuki</td>\n",
              "            <td>A</td>\n",
              "        </tr>\n",
              "        <tr>\n",
              "            <td>4</td>\n",
              "            <td>Kato</td>\n",
              "            <td>B</td>\n",
              "        </tr>\n",
              "        <tr>\n",
              "            <td>5</td>\n",
              "            <td>Ito</td>\n",
              "            <td>C</td>\n",
              "        </tr>\n",
              "        <tr>\n",
              "            <td>6</td>\n",
              "            <td>Takeuchi</td>\n",
              "            <td>B</td>\n",
              "        </tr>\n",
              "        <tr>\n",
              "            <td>7</td>\n",
              "            <td>Kimura</td>\n",
              "            <td>C</td>\n",
              "        </tr>\n",
              "        <tr>\n",
              "            <td>8</td>\n",
              "            <td>Sato</td>\n",
              "            <td>A</td>\n",
              "        </tr>\n",
              "    </tbody>\n",
              "</table>"
            ]
          },
          "metadata": {},
          "execution_count": 87
        }
      ],
      "source": [
        "%%sql\n",
        "SELECT\n",
        "     id, name\n",
        "    ,CASE\n",
        "        WHEN class = 1 THEN 'A'\n",
        "        WHEN class = 2 THEN 'B'\n",
        "        WHEN class = 3 THEN 'C'\n",
        "        ELSE 'others'\n",
        "    END AS className\n",
        "FROM\n",
        "    meibo;"
      ]
    },
    {
      "cell_type": "markdown",
      "metadata": {
        "id": "WtjCNvBRwuvA"
      },
      "source": [
        "次は「サブクエリ」といいます。サブクエリを使用すると、元となるテーブルから必要な情報を取り出し、さらにそれをテーブルとして取り扱うことができます。この例ではmeiboテーブルの内容をサブクエリを用いてテーブルbとして扱っています。"
      ]
    },
    {
      "cell_type": "code",
      "execution_count": 88,
      "metadata": {
        "id": "BS6QPPTiwuvB",
        "colab": {
          "base_uri": "https://localhost:8080/",
          "height": 122
        },
        "outputId": "e4aff756-f209-42d6-e6b7-837cd54ec052"
      },
      "outputs": [
        {
          "output_type": "display_data",
          "data": {
            "text/plain": [
              "Running query in 'duckdb://'"
            ],
            "text/html": [
              "<span style=\"None\">Running query in &#x27;duckdb://&#x27;</span>"
            ]
          },
          "metadata": {}
        },
        {
          "output_type": "execute_result",
          "data": {
            "text/plain": [
              "+--------+-----+\n",
              "|  name  | age |\n",
              "+--------+-----+\n",
              "| Yamada |  14 |\n",
              "| Suzuki |  13 |\n",
              "|  Sato  |  14 |\n",
              "+--------+-----+"
            ],
            "text/html": [
              "<table>\n",
              "    <thead>\n",
              "        <tr>\n",
              "            <th>name</th>\n",
              "            <th>age</th>\n",
              "        </tr>\n",
              "    </thead>\n",
              "    <tbody>\n",
              "        <tr>\n",
              "            <td>Yamada</td>\n",
              "            <td>14</td>\n",
              "        </tr>\n",
              "        <tr>\n",
              "            <td>Suzuki</td>\n",
              "            <td>13</td>\n",
              "        </tr>\n",
              "        <tr>\n",
              "            <td>Sato</td>\n",
              "            <td>14</td>\n",
              "        </tr>\n",
              "    </tbody>\n",
              "</table>"
            ]
          },
          "metadata": {},
          "execution_count": 88
        }
      ],
      "source": [
        "%%sql\n",
        "SELECT b.name,b.age FROM\n",
        "  (SELECT a.age, a.name FROM meibo a WHERE a.class = 1) b;"
      ]
    },
    {
      "cell_type": "markdown",
      "metadata": {
        "id": "hm72zteiwuvB"
      },
      "source": [
        "なお、上記はカラム名を指定していますが、全てのカラムをもってきたい場合は、エイリアス名の後にドットアスタリスク（.*）をつけます。"
      ]
    },
    {
      "cell_type": "code",
      "execution_count": 89,
      "metadata": {
        "id": "H_47ZAdYwuvB",
        "colab": {
          "base_uri": "https://localhost:8080/",
          "height": 122
        },
        "outputId": "3dc1e8cf-a167-407d-891d-51be7eb48f4f"
      },
      "outputs": [
        {
          "output_type": "display_data",
          "data": {
            "text/plain": [
              "Running query in 'duckdb://'"
            ],
            "text/html": [
              "<span style=\"None\">Running query in &#x27;duckdb://&#x27;</span>"
            ]
          },
          "metadata": {}
        },
        {
          "output_type": "execute_result",
          "data": {
            "text/plain": [
              "+----+--------+-------+-----+--------+\n",
              "| id |  name  | class | age | height |\n",
              "+----+--------+-------+-----+--------+\n",
              "| 1  | Yamada |   1   |  14 |  150   |\n",
              "| 3  | Suzuki |   1   |  13 |  150   |\n",
              "| 8  |  Sato  |   1   |  14 |  160   |\n",
              "+----+--------+-------+-----+--------+"
            ],
            "text/html": [
              "<table>\n",
              "    <thead>\n",
              "        <tr>\n",
              "            <th>id</th>\n",
              "            <th>name</th>\n",
              "            <th>class</th>\n",
              "            <th>age</th>\n",
              "            <th>height</th>\n",
              "        </tr>\n",
              "    </thead>\n",
              "    <tbody>\n",
              "        <tr>\n",
              "            <td>1</td>\n",
              "            <td>Yamada</td>\n",
              "            <td>1</td>\n",
              "            <td>14</td>\n",
              "            <td>150</td>\n",
              "        </tr>\n",
              "        <tr>\n",
              "            <td>3</td>\n",
              "            <td>Suzuki</td>\n",
              "            <td>1</td>\n",
              "            <td>13</td>\n",
              "            <td>150</td>\n",
              "        </tr>\n",
              "        <tr>\n",
              "            <td>8</td>\n",
              "            <td>Sato</td>\n",
              "            <td>1</td>\n",
              "            <td>14</td>\n",
              "            <td>160</td>\n",
              "        </tr>\n",
              "    </tbody>\n",
              "</table>"
            ]
          },
          "metadata": {},
          "execution_count": 89
        }
      ],
      "source": [
        "%%sql\n",
        "SELECT b.* FROM\n",
        "  (SELECT a.* FROM meibo a WHERE a.class = 1) b;"
      ]
    },
    {
      "cell_type": "markdown",
      "metadata": {
        "id": "raimpum3wuvB"
      },
      "source": [
        "以上で、SQLの基礎的な操作は完了です。練習問題の後は、ビューについて学びます。"
      ]
    },
    {
      "cell_type": "markdown",
      "metadata": {
        "id": "nPjtvvSJwuvB"
      },
      "source": [
        ">**[ポイント]**\n",
        ">\n",
        ">CASE WHEN 条件 THEN A ELSE B END AS カラム名設定：条件分岐"
      ]
    },
    {
      "cell_type": "markdown",
      "metadata": {
        "id": "DWJgnXLswuvB"
      },
      "source": [
        "#### <練習問題 1>\n",
        "\n",
        "meiboテーブルで、heightが155未満の場合は\"below_155\"、155ぴったりならば\"equal_155\"、155より大きいならば\"over_155\"と名付けて、テーブルを表示させてください。"
      ]
    },
    {
      "cell_type": "code",
      "execution_count": 90,
      "metadata": {
        "id": "NlmuVBOZwuvB",
        "colab": {
          "base_uri": "https://localhost:8080/",
          "height": 229
        },
        "outputId": "764c4ff9-d055-4923-f8a6-139356a27a4d"
      },
      "outputs": [
        {
          "output_type": "display_data",
          "data": {
            "text/plain": [
              "Running query in 'duckdb://'"
            ],
            "text/html": [
              "<span style=\"None\">Running query in &#x27;duckdb://&#x27;</span>"
            ]
          },
          "metadata": {}
        },
        {
          "output_type": "execute_result",
          "data": {
            "text/plain": [
              "+----+----------+-------------+\n",
              "| id |   name   | heightLevel |\n",
              "+----+----------+-------------+\n",
              "| 1  |  Yamada  |  below_155  |\n",
              "| 2  |  Tanaka  |  below_155  |\n",
              "| 3  |  Suzuki  |  below_155  |\n",
              "| 4  |   Kato   |  below_155  |\n",
              "| 5  |   Ito    |  equal_155  |\n",
              "| 6  | Takeuchi |  equal_155  |\n",
              "| 7  |  Kimura  |   over_155  |\n",
              "| 8  |   Sato   |   over_155  |\n",
              "+----+----------+-------------+"
            ],
            "text/html": [
              "<table>\n",
              "    <thead>\n",
              "        <tr>\n",
              "            <th>id</th>\n",
              "            <th>name</th>\n",
              "            <th>heightLevel</th>\n",
              "        </tr>\n",
              "    </thead>\n",
              "    <tbody>\n",
              "        <tr>\n",
              "            <td>1</td>\n",
              "            <td>Yamada</td>\n",
              "            <td>below_155</td>\n",
              "        </tr>\n",
              "        <tr>\n",
              "            <td>2</td>\n",
              "            <td>Tanaka</td>\n",
              "            <td>below_155</td>\n",
              "        </tr>\n",
              "        <tr>\n",
              "            <td>3</td>\n",
              "            <td>Suzuki</td>\n",
              "            <td>below_155</td>\n",
              "        </tr>\n",
              "        <tr>\n",
              "            <td>4</td>\n",
              "            <td>Kato</td>\n",
              "            <td>below_155</td>\n",
              "        </tr>\n",
              "        <tr>\n",
              "            <td>5</td>\n",
              "            <td>Ito</td>\n",
              "            <td>equal_155</td>\n",
              "        </tr>\n",
              "        <tr>\n",
              "            <td>6</td>\n",
              "            <td>Takeuchi</td>\n",
              "            <td>equal_155</td>\n",
              "        </tr>\n",
              "        <tr>\n",
              "            <td>7</td>\n",
              "            <td>Kimura</td>\n",
              "            <td>over_155</td>\n",
              "        </tr>\n",
              "        <tr>\n",
              "            <td>8</td>\n",
              "            <td>Sato</td>\n",
              "            <td>over_155</td>\n",
              "        </tr>\n",
              "    </tbody>\n",
              "</table>"
            ]
          },
          "metadata": {},
          "execution_count": 90
        }
      ],
      "source": [
        "#解答\n",
        "%%sql\n",
        "SELECT\n",
        "     id\n",
        "    ,name\n",
        "    ,CASE\n",
        "        WHEN height <155 THEN 'below_155'\n",
        "        WHEN height = 155 THEN 'equal_155'\n",
        "        WHEN height > 155 THEN 'over_155'\n",
        "        ELSE 'others'\n",
        "    END AS heightLevel\n",
        "FROM\n",
        "    meibo;"
      ]
    },
    {
      "cell_type": "markdown",
      "metadata": {
        "id": "NWtdvRHzwuvC"
      },
      "source": [
        "#### <練習問題 2>\n",
        "上記のテーブルとサブクエリの考え方を利用して、それぞれのheightLevel(練習問題1で付与した列)の人数を求めてください。"
      ]
    },
    {
      "cell_type": "code",
      "execution_count": 91,
      "metadata": {
        "id": "pjvzmQC4wuvC",
        "colab": {
          "base_uri": "https://localhost:8080/",
          "height": 122
        },
        "outputId": "21a2da7c-9a67-4f5a-880c-ce85f88eab3b"
      },
      "outputs": [
        {
          "output_type": "display_data",
          "data": {
            "text/plain": [
              "Running query in 'duckdb://'"
            ],
            "text/html": [
              "<span style=\"None\">Running query in &#x27;duckdb://&#x27;</span>"
            ]
          },
          "metadata": {}
        },
        {
          "output_type": "execute_result",
          "data": {
            "text/plain": [
              "+-------------+-----+\n",
              "| heightLevel | cnt |\n",
              "+-------------+-----+\n",
              "|  below_155  |  4  |\n",
              "|  equal_155  |  2  |\n",
              "|   over_155  |  2  |\n",
              "+-------------+-----+"
            ],
            "text/html": [
              "<table>\n",
              "    <thead>\n",
              "        <tr>\n",
              "            <th>heightLevel</th>\n",
              "            <th>cnt</th>\n",
              "        </tr>\n",
              "    </thead>\n",
              "    <tbody>\n",
              "        <tr>\n",
              "            <td>below_155</td>\n",
              "            <td>4</td>\n",
              "        </tr>\n",
              "        <tr>\n",
              "            <td>equal_155</td>\n",
              "            <td>2</td>\n",
              "        </tr>\n",
              "        <tr>\n",
              "            <td>over_155</td>\n",
              "            <td>2</td>\n",
              "        </tr>\n",
              "    </tbody>\n",
              "</table>"
            ]
          },
          "metadata": {},
          "execution_count": 91
        }
      ],
      "source": [
        "#解答\n",
        "%%sql\n",
        "SELECT b.heightLevel, COUNT(*) AS cnt\n",
        "FROM\n",
        "(SELECT\n",
        "     id\n",
        "    ,name\n",
        "    ,CASE\n",
        "        WHEN height <155 THEN 'below_155'\n",
        "        WHEN height = 155 THEN 'equal_155'\n",
        "        WHEN height > 155 THEN 'over_155'\n",
        "        ELSE 'others'\n",
        "    END AS heightLevel\n",
        "FROM\n",
        "    meibo) b\n",
        "GROUP BY heightLevel;"
      ]
    },
    {
      "cell_type": "markdown",
      "metadata": {
        "id": "fTeJN7iiwuvC"
      },
      "source": [
        "#### <練習問題 3>\n",
        "上記のテーブルとサブクエリの考え方を利用して、それぞれのheightLevel(練習問題1で付与した列)の平均年齢を求めてください。"
      ]
    },
    {
      "cell_type": "code",
      "execution_count": 92,
      "metadata": {
        "id": "ys81QnnWwuvC",
        "colab": {
          "base_uri": "https://localhost:8080/",
          "height": 122
        },
        "outputId": "f7b1e455-3c64-4485-afb3-d8b8c373259f"
      },
      "outputs": [
        {
          "output_type": "display_data",
          "data": {
            "text/plain": [
              "Running query in 'duckdb://'"
            ],
            "text/html": [
              "<span style=\"None\">Running query in &#x27;duckdb://&#x27;</span>"
            ]
          },
          "metadata": {}
        },
        {
          "output_type": "execute_result",
          "data": {
            "text/plain": [
              "+-------------+--------+\n",
              "| heightLevel | avgAge |\n",
              "+-------------+--------+\n",
              "|  below_155  | 13.75  |\n",
              "|  equal_155  |  14.0  |\n",
              "|   over_155  |  12.5  |\n",
              "+-------------+--------+"
            ],
            "text/html": [
              "<table>\n",
              "    <thead>\n",
              "        <tr>\n",
              "            <th>heightLevel</th>\n",
              "            <th>avgAge</th>\n",
              "        </tr>\n",
              "    </thead>\n",
              "    <tbody>\n",
              "        <tr>\n",
              "            <td>below_155</td>\n",
              "            <td>13.75</td>\n",
              "        </tr>\n",
              "        <tr>\n",
              "            <td>equal_155</td>\n",
              "            <td>14.0</td>\n",
              "        </tr>\n",
              "        <tr>\n",
              "            <td>over_155</td>\n",
              "            <td>12.5</td>\n",
              "        </tr>\n",
              "    </tbody>\n",
              "</table>"
            ]
          },
          "metadata": {},
          "execution_count": 92
        }
      ],
      "source": [
        "#解答\n",
        "%%sql\n",
        "SELECT b.heightLevel, AVG(age) AS avgAge\n",
        "FROM\n",
        "(SELECT\n",
        "     id\n",
        "    ,name\n",
        "    ,age\n",
        "    ,CASE\n",
        "        WHEN height <155 THEN 'below_155'\n",
        "        WHEN height = 155 THEN 'equal_155'\n",
        "        WHEN height > 155 THEN 'over_155'\n",
        "        ELSE 'others'\n",
        "    END AS heightLevel\n",
        "FROM\n",
        "    meibo) b\n",
        "GROUP BY heightLevel;"
      ]
    },
    {
      "cell_type": "markdown",
      "metadata": {
        "id": "vO1ALHtpwuvC"
      },
      "source": [
        "## 7.3 ビュー\n",
        "ゴール：ビューの概念を理解し、作成や操作ができる"
      ]
    },
    {
      "cell_type": "markdown",
      "metadata": {
        "id": "HY-j_y-KwuvE"
      },
      "source": [
        "### 7.3.1 ビュー\n",
        "キーワード：ビュー"
      ]
    },
    {
      "cell_type": "markdown",
      "metadata": {
        "id": "BquNBdg6wuvE"
      },
      "source": [
        "次は、ビューについて学びます。これまでは、直接テーブルからデータを問い合わせて、必要な情報を取得していましたが、毎回条件を設定して各テーブルからデータを抽出するのは、少し面倒です。とはいえ、必要な情報を各テーブルから取得したテーブルを作成したとしても、元データの更新のたびにそのテーブルも更新する必要があるので、やはり面倒です。このようなとき、ビューを活用することで、常に最新のデータを簡単に抽出することができるようになります。ビューは、あらかじめ検索する方法を記録させておく仮想のテーブルです。\n",
        "\n",
        "ビューの作成方法はテーブルとほぼ同じで、CREATE VIEWを使います。まずは、簡単な例からみていきましょう。meiboテーブルから、idとnameだけを持ってくるビューを作成しています。"
      ]
    },
    {
      "cell_type": "code",
      "execution_count": 93,
      "metadata": {
        "id": "kb3cYcAlwuvF",
        "colab": {
          "base_uri": "https://localhost:8080/",
          "height": 58
        },
        "outputId": "8bec80eb-f763-4c34-d76e-5447848238d6"
      },
      "outputs": [
        {
          "output_type": "display_data",
          "data": {
            "text/plain": [
              "Running query in 'duckdb://'"
            ],
            "text/html": [
              "<span style=\"None\">Running query in &#x27;duckdb://&#x27;</span>"
            ]
          },
          "metadata": {}
        },
        {
          "output_type": "execute_result",
          "data": {
            "text/plain": [
              "+-------+\n",
              "| Count |\n",
              "+-------+\n",
              "+-------+"
            ],
            "text/html": [
              "<table>\n",
              "    <thead>\n",
              "        <tr>\n",
              "            <th>Count</th>\n",
              "        </tr>\n",
              "    </thead>\n",
              "    <tbody>\n",
              "    </tbody>\n",
              "</table>"
            ]
          },
          "metadata": {},
          "execution_count": 93
        }
      ],
      "source": [
        "%%sql\n",
        "CREATE VIEW v1\n",
        "    AS\n",
        "SELECT id, name\n",
        "    FROM meibo;"
      ]
    },
    {
      "cell_type": "markdown",
      "metadata": {
        "id": "H5R7LQQCwuvF"
      },
      "source": [
        "新しいビューができているか見てみましょう。やり方は以前学んだ方法と同じです。"
      ]
    },
    {
      "cell_type": "code",
      "execution_count": 94,
      "metadata": {
        "id": "uYzD8dmgwuvG",
        "colab": {
          "base_uri": "https://localhost:8080/",
          "height": 229
        },
        "outputId": "8d718852-8559-4777-c51b-b155f1b548cb"
      },
      "outputs": [
        {
          "output_type": "display_data",
          "data": {
            "text/plain": [
              "Running query in 'duckdb://'"
            ],
            "text/html": [
              "<span style=\"None\">Running query in &#x27;duckdb://&#x27;</span>"
            ]
          },
          "metadata": {}
        },
        {
          "output_type": "execute_result",
          "data": {
            "text/plain": [
              "+----+----------+\n",
              "| id |   name   |\n",
              "+----+----------+\n",
              "| 1  |  Yamada  |\n",
              "| 2  |  Tanaka  |\n",
              "| 3  |  Suzuki  |\n",
              "| 4  |   Kato   |\n",
              "| 5  |   Ito    |\n",
              "| 6  | Takeuchi |\n",
              "| 7  |  Kimura  |\n",
              "| 8  |   Sato   |\n",
              "+----+----------+"
            ],
            "text/html": [
              "<table>\n",
              "    <thead>\n",
              "        <tr>\n",
              "            <th>id</th>\n",
              "            <th>name</th>\n",
              "        </tr>\n",
              "    </thead>\n",
              "    <tbody>\n",
              "        <tr>\n",
              "            <td>1</td>\n",
              "            <td>Yamada</td>\n",
              "        </tr>\n",
              "        <tr>\n",
              "            <td>2</td>\n",
              "            <td>Tanaka</td>\n",
              "        </tr>\n",
              "        <tr>\n",
              "            <td>3</td>\n",
              "            <td>Suzuki</td>\n",
              "        </tr>\n",
              "        <tr>\n",
              "            <td>4</td>\n",
              "            <td>Kato</td>\n",
              "        </tr>\n",
              "        <tr>\n",
              "            <td>5</td>\n",
              "            <td>Ito</td>\n",
              "        </tr>\n",
              "        <tr>\n",
              "            <td>6</td>\n",
              "            <td>Takeuchi</td>\n",
              "        </tr>\n",
              "        <tr>\n",
              "            <td>7</td>\n",
              "            <td>Kimura</td>\n",
              "        </tr>\n",
              "        <tr>\n",
              "            <td>8</td>\n",
              "            <td>Sato</td>\n",
              "        </tr>\n",
              "    </tbody>\n",
              "</table>"
            ]
          },
          "metadata": {},
          "execution_count": 94
        }
      ],
      "source": [
        "%%sql\n",
        "SELECT * FROM v1;"
      ]
    },
    {
      "cell_type": "markdown",
      "metadata": {
        "id": "M3jaqOedwuvG"
      },
      "source": [
        "これだけだとあまりビューの便利さわからないので、次の例を見てみましょう。前に作成した少し複雑なテーブルもビューを作成しておけば、いつでも呼び出すことができます。"
      ]
    },
    {
      "cell_type": "code",
      "execution_count": 95,
      "metadata": {
        "id": "RGVmtgGhwuvG",
        "colab": {
          "base_uri": "https://localhost:8080/",
          "height": 58
        },
        "outputId": "7cf8fc9e-1645-48c2-a899-7b05c64de1c3"
      },
      "outputs": [
        {
          "output_type": "display_data",
          "data": {
            "text/plain": [
              "Running query in 'duckdb://'"
            ],
            "text/html": [
              "<span style=\"None\">Running query in &#x27;duckdb://&#x27;</span>"
            ]
          },
          "metadata": {}
        },
        {
          "output_type": "execute_result",
          "data": {
            "text/plain": [
              "+-------+\n",
              "| Count |\n",
              "+-------+\n",
              "+-------+"
            ],
            "text/html": [
              "<table>\n",
              "    <thead>\n",
              "        <tr>\n",
              "            <th>Count</th>\n",
              "        </tr>\n",
              "    </thead>\n",
              "    <tbody>\n",
              "    </tbody>\n",
              "</table>"
            ]
          },
          "metadata": {},
          "execution_count": 95
        }
      ],
      "source": [
        "%%sql\n",
        "CREATE VIEW v2\n",
        "    AS\n",
        "SELECT\n",
        "     id\n",
        "    ,name\n",
        "    ,CASE\n",
        "        WHEN class = 1 THEN 'A'\n",
        "        WHEN class = 2 THEN 'B'\n",
        "        WHEN class = 3 THEN 'C'\n",
        "        ELSE 'others'\n",
        "    END AS className\n",
        "FROM\n",
        "    meibo;"
      ]
    },
    {
      "cell_type": "markdown",
      "metadata": {
        "id": "MX9U0nlowuvG"
      },
      "source": [
        "以下のビューを設定しておけば、欲しい検索結果を以下のようなSQL文だけで呼び出すことができます。"
      ]
    },
    {
      "cell_type": "code",
      "execution_count": 96,
      "metadata": {
        "id": "h12uekWQwuvH",
        "colab": {
          "base_uri": "https://localhost:8080/",
          "height": 229
        },
        "outputId": "66771b4b-53a4-4504-9a36-79abf782f5c6"
      },
      "outputs": [
        {
          "output_type": "display_data",
          "data": {
            "text/plain": [
              "Running query in 'duckdb://'"
            ],
            "text/html": [
              "<span style=\"None\">Running query in &#x27;duckdb://&#x27;</span>"
            ]
          },
          "metadata": {}
        },
        {
          "output_type": "execute_result",
          "data": {
            "text/plain": [
              "+----+----------+-----------+\n",
              "| id |   name   | className |\n",
              "+----+----------+-----------+\n",
              "| 1  |  Yamada  |     A     |\n",
              "| 2  |  Tanaka  |     B     |\n",
              "| 3  |  Suzuki  |     A     |\n",
              "| 4  |   Kato   |     B     |\n",
              "| 5  |   Ito    |     C     |\n",
              "| 6  | Takeuchi |     B     |\n",
              "| 7  |  Kimura  |     C     |\n",
              "| 8  |   Sato   |     A     |\n",
              "+----+----------+-----------+"
            ],
            "text/html": [
              "<table>\n",
              "    <thead>\n",
              "        <tr>\n",
              "            <th>id</th>\n",
              "            <th>name</th>\n",
              "            <th>className</th>\n",
              "        </tr>\n",
              "    </thead>\n",
              "    <tbody>\n",
              "        <tr>\n",
              "            <td>1</td>\n",
              "            <td>Yamada</td>\n",
              "            <td>A</td>\n",
              "        </tr>\n",
              "        <tr>\n",
              "            <td>2</td>\n",
              "            <td>Tanaka</td>\n",
              "            <td>B</td>\n",
              "        </tr>\n",
              "        <tr>\n",
              "            <td>3</td>\n",
              "            <td>Suzuki</td>\n",
              "            <td>A</td>\n",
              "        </tr>\n",
              "        <tr>\n",
              "            <td>4</td>\n",
              "            <td>Kato</td>\n",
              "            <td>B</td>\n",
              "        </tr>\n",
              "        <tr>\n",
              "            <td>5</td>\n",
              "            <td>Ito</td>\n",
              "            <td>C</td>\n",
              "        </tr>\n",
              "        <tr>\n",
              "            <td>6</td>\n",
              "            <td>Takeuchi</td>\n",
              "            <td>B</td>\n",
              "        </tr>\n",
              "        <tr>\n",
              "            <td>7</td>\n",
              "            <td>Kimura</td>\n",
              "            <td>C</td>\n",
              "        </tr>\n",
              "        <tr>\n",
              "            <td>8</td>\n",
              "            <td>Sato</td>\n",
              "            <td>A</td>\n",
              "        </tr>\n",
              "    </tbody>\n",
              "</table>"
            ]
          },
          "metadata": {},
          "execution_count": 96
        }
      ],
      "source": [
        "%%sql\n",
        "SELECT * FROM v2;"
      ]
    },
    {
      "cell_type": "markdown",
      "metadata": {
        "id": "VgfIQMrnwuvH"
      },
      "source": [
        "SQLITEではビューを更新することはできません。"
      ]
    },
    {
      "cell_type": "code",
      "execution_count": 107,
      "metadata": {
        "id": "RgrUwJ7ewuvH",
        "colab": {
          "base_uri": "https://localhost:8080/",
          "height": 104
        },
        "outputId": "14591b06-5b94-4a7b-ca6c-dd5393f0c075"
      },
      "outputs": [
        {
          "output_type": "display_data",
          "data": {
            "text/plain": [
              "Running query in 'duckdb://'"
            ],
            "text/html": [
              "<span style=\"None\">Running query in &#x27;duckdb://&#x27;</span>"
            ]
          },
          "metadata": {}
        },
        {
          "output_type": "stream",
          "name": "stderr",
          "text": [
            "RuntimeError: (duckdb.duckdb.CatalogException) Catalog Error: v1 is not an table\n",
            "[SQL: INSERT INTO v1 (id, name) VALUES (100, 'dummy_Yamada');]\n",
            "(Background on this error at: https://sqlalche.me/e/20/f405)\n",
            "If you need help solving this issue, send us a message: https://ploomber.io/community\n"
          ]
        }
      ],
      "source": [
        "%%sql\n",
        "INSERT INTO v1 (id, name) VALUES (100, 'dummy_Yamada');"
      ]
    },
    {
      "cell_type": "markdown",
      "metadata": {
        "id": "WekS0bmxwuvH"
      },
      "source": [
        "以下のコマンドで、ビューであることわかります。"
      ]
    },
    {
      "cell_type": "code",
      "execution_count": 98,
      "metadata": {
        "id": "xvl3y1qNwuvH",
        "colab": {
          "base_uri": "https://localhost:8080/",
          "height": 118
        },
        "outputId": "510d7d24-75ed-4536-c815-377b4b537ef3"
      },
      "outputs": [
        {
          "output_type": "display_data",
          "data": {
            "text/plain": [
              "Running query in 'duckdb://'"
            ],
            "text/html": [
              "<span style=\"None\">Running query in &#x27;duckdb://&#x27;</span>"
            ]
          },
          "metadata": {}
        },
        {
          "output_type": "execute_result",
          "data": {
            "text/plain": [
              "+------+---------------------------------------------------------------------------------------------------------------------------------------------------------------------------------------+\n",
              "| name |                                                                                          sql                                                                                          |\n",
              "+------+---------------------------------------------------------------------------------------------------------------------------------------------------------------------------------------+\n",
              "|  v1  |                                                                    CREATE VIEW v1 AS SELECT id, \"name\" FROM meibo;                                                                    |\n",
              "|  v2  | CREATE VIEW v2 AS SELECT id, \"name\", CASE  WHEN ((\"class\" = 1)) THEN ('A') WHEN ((\"class\" = 2)) THEN ('B') WHEN ((\"class\" = 3)) THEN ('C') ELSE 'others' END AS className FROM meibo; |\n",
              "+------+---------------------------------------------------------------------------------------------------------------------------------------------------------------------------------------+"
            ],
            "text/html": [
              "<table>\n",
              "    <thead>\n",
              "        <tr>\n",
              "            <th>name</th>\n",
              "            <th>sql</th>\n",
              "        </tr>\n",
              "    </thead>\n",
              "    <tbody>\n",
              "        <tr>\n",
              "            <td>v1</td>\n",
              "            <td>CREATE VIEW v1 AS SELECT id, \"name\" FROM meibo;</td>\n",
              "        </tr>\n",
              "        <tr>\n",
              "            <td>v2</td>\n",
              "            <td>CREATE VIEW v2 AS SELECT id, \"name\", CASE  WHEN ((\"class\" = 1)) THEN ('A') WHEN ((\"class\" = 2)) THEN ('B') WHEN ((\"class\" = 3)) THEN ('C') ELSE 'others' END AS className FROM meibo;</td>\n",
              "        </tr>\n",
              "    </tbody>\n",
              "</table>"
            ]
          },
          "metadata": {},
          "execution_count": 98
        }
      ],
      "source": [
        "%%sql\n",
        "SELECT name, SQL FROM sqlite_master WHERE type = 'view';"
      ]
    },
    {
      "cell_type": "markdown",
      "metadata": {
        "id": "MqkruX3kwuvI"
      },
      "source": [
        "#### <練習問題 1>\n",
        "テーブルmeibo2からidとnameを取り出して、ビューのv3を作成してみましょう。"
      ]
    },
    {
      "cell_type": "code",
      "execution_count": 99,
      "metadata": {
        "id": "OUFQlI3uwuvI",
        "colab": {
          "base_uri": "https://localhost:8080/",
          "height": 58
        },
        "outputId": "060c0077-9e3d-4dc5-d62d-f7bd63541dd1"
      },
      "outputs": [
        {
          "output_type": "display_data",
          "data": {
            "text/plain": [
              "Running query in 'duckdb://'"
            ],
            "text/html": [
              "<span style=\"None\">Running query in &#x27;duckdb://&#x27;</span>"
            ]
          },
          "metadata": {}
        },
        {
          "output_type": "execute_result",
          "data": {
            "text/plain": [
              "+-------+\n",
              "| Count |\n",
              "+-------+\n",
              "+-------+"
            ],
            "text/html": [
              "<table>\n",
              "    <thead>\n",
              "        <tr>\n",
              "            <th>Count</th>\n",
              "        </tr>\n",
              "    </thead>\n",
              "    <tbody>\n",
              "    </tbody>\n",
              "</table>"
            ]
          },
          "metadata": {},
          "execution_count": 99
        }
      ],
      "source": [
        "#解答\n",
        "%%sql\n",
        "CREATE VIEW v3\n",
        "    AS\n",
        "SELECT id, name\n",
        "    FROM meibo2;"
      ]
    },
    {
      "cell_type": "code",
      "execution_count": 100,
      "metadata": {
        "id": "MvV0bwqAwuvI",
        "colab": {
          "base_uri": "https://localhost:8080/",
          "height": 165
        },
        "outputId": "a21a68a0-884c-4c78-fd5d-cb80fa45635b"
      },
      "outputs": [
        {
          "output_type": "display_data",
          "data": {
            "text/plain": [
              "Running query in 'duckdb://'"
            ],
            "text/html": [
              "<span style=\"None\">Running query in &#x27;duckdb://&#x27;</span>"
            ]
          },
          "metadata": {}
        },
        {
          "output_type": "execute_result",
          "data": {
            "text/plain": [
              "+----+----------+\n",
              "| id |   name   |\n",
              "+----+----------+\n",
              "| 1  |  Yamada  |\n",
              "| 9  |  Nagata  |\n",
              "| 10 |  Sugino  |\n",
              "| 11 | Takayama |\n",
              "| 12 |   John   |\n",
              "+----+----------+"
            ],
            "text/html": [
              "<table>\n",
              "    <thead>\n",
              "        <tr>\n",
              "            <th>id</th>\n",
              "            <th>name</th>\n",
              "        </tr>\n",
              "    </thead>\n",
              "    <tbody>\n",
              "        <tr>\n",
              "            <td>1</td>\n",
              "            <td>Yamada</td>\n",
              "        </tr>\n",
              "        <tr>\n",
              "            <td>9</td>\n",
              "            <td>Nagata</td>\n",
              "        </tr>\n",
              "        <tr>\n",
              "            <td>10</td>\n",
              "            <td>Sugino</td>\n",
              "        </tr>\n",
              "        <tr>\n",
              "            <td>11</td>\n",
              "            <td>Takayama</td>\n",
              "        </tr>\n",
              "        <tr>\n",
              "            <td>12</td>\n",
              "            <td>John</td>\n",
              "        </tr>\n",
              "    </tbody>\n",
              "</table>"
            ]
          },
          "metadata": {},
          "execution_count": 100
        }
      ],
      "source": [
        "#解答\n",
        "%%sql\n",
        "SELECT * FROM v3;"
      ]
    },
    {
      "cell_type": "markdown",
      "metadata": {
        "id": "FU5NDLdfwuvI"
      },
      "source": [
        "#### <練習問題 2>\n",
        "meiboテーブルとscoreテーブルを内部結合して、idとnameを取り出すビューv4を作成してみましょう。"
      ]
    },
    {
      "cell_type": "code",
      "execution_count": 101,
      "metadata": {
        "id": "H6RrWhN7wuvI",
        "colab": {
          "base_uri": "https://localhost:8080/",
          "height": 58
        },
        "outputId": "5be178dd-a440-4133-b690-0975e41390f4"
      },
      "outputs": [
        {
          "output_type": "display_data",
          "data": {
            "text/plain": [
              "Running query in 'duckdb://'"
            ],
            "text/html": [
              "<span style=\"None\">Running query in &#x27;duckdb://&#x27;</span>"
            ]
          },
          "metadata": {}
        },
        {
          "output_type": "execute_result",
          "data": {
            "text/plain": [
              "+-------+\n",
              "| Count |\n",
              "+-------+\n",
              "+-------+"
            ],
            "text/html": [
              "<table>\n",
              "    <thead>\n",
              "        <tr>\n",
              "            <th>Count</th>\n",
              "        </tr>\n",
              "    </thead>\n",
              "    <tbody>\n",
              "    </tbody>\n",
              "</table>"
            ]
          },
          "metadata": {},
          "execution_count": 101
        }
      ],
      "source": [
        "#解答\n",
        "%%sql\n",
        "CREATE VIEW v4\n",
        "    AS\n",
        "SELECT a.id, a.name FROM meibo a JOIN score b on a.id=b.id;"
      ]
    },
    {
      "cell_type": "code",
      "execution_count": 102,
      "metadata": {
        "id": "peYBRqdSwuvJ",
        "colab": {
          "base_uri": "https://localhost:8080/",
          "height": 186
        },
        "outputId": "be987640-d436-4714-eb16-5dc7b4e56ee8"
      },
      "outputs": [
        {
          "output_type": "display_data",
          "data": {
            "text/plain": [
              "Running query in 'duckdb://'"
            ],
            "text/html": [
              "<span style=\"None\">Running query in &#x27;duckdb://&#x27;</span>"
            ]
          },
          "metadata": {}
        },
        {
          "output_type": "execute_result",
          "data": {
            "text/plain": [
              "+----+----------+\n",
              "| id |   name   |\n",
              "+----+----------+\n",
              "| 1  |  Yamada  |\n",
              "| 2  |  Tanaka  |\n",
              "| 3  |  Suzuki  |\n",
              "| 5  |   Ito    |\n",
              "| 6  | Takeuchi |\n",
              "| 8  |   Sato   |\n",
              "+----+----------+"
            ],
            "text/html": [
              "<table>\n",
              "    <thead>\n",
              "        <tr>\n",
              "            <th>id</th>\n",
              "            <th>name</th>\n",
              "        </tr>\n",
              "    </thead>\n",
              "    <tbody>\n",
              "        <tr>\n",
              "            <td>1</td>\n",
              "            <td>Yamada</td>\n",
              "        </tr>\n",
              "        <tr>\n",
              "            <td>2</td>\n",
              "            <td>Tanaka</td>\n",
              "        </tr>\n",
              "        <tr>\n",
              "            <td>3</td>\n",
              "            <td>Suzuki</td>\n",
              "        </tr>\n",
              "        <tr>\n",
              "            <td>5</td>\n",
              "            <td>Ito</td>\n",
              "        </tr>\n",
              "        <tr>\n",
              "            <td>6</td>\n",
              "            <td>Takeuchi</td>\n",
              "        </tr>\n",
              "        <tr>\n",
              "            <td>8</td>\n",
              "            <td>Sato</td>\n",
              "        </tr>\n",
              "    </tbody>\n",
              "</table>"
            ]
          },
          "metadata": {},
          "execution_count": 102
        }
      ],
      "source": [
        "#解答\n",
        "%%sql\n",
        "SELECT * FROM v4;"
      ]
    },
    {
      "cell_type": "markdown",
      "metadata": {
        "id": "5kRIt6rwwuvJ"
      },
      "source": [
        "***"
      ]
    },
    {
      "cell_type": "markdown",
      "metadata": {
        "id": "34uyS8FCwuvJ"
      },
      "source": [
        "## 7.4 総合問題"
      ]
    },
    {
      "cell_type": "markdown",
      "metadata": {
        "id": "W4gI_2WZwuvJ"
      },
      "source": [
        "### 7.4.1 総合問題1\n",
        "\n",
        "TEST1のデータベースを使って、次の問いに答えてください。\n"
      ]
    },
    {
      "cell_type": "markdown",
      "metadata": {
        "id": "x-zUXhzZwuvJ"
      },
      "source": [
        "(1) 7.2.1で作成したmeiboテーブルと7.2.5 練習問題1で作成したcardtbテーブルの両方にデータがある人に対して、それをVIEWテーブルclass_avg_tbとして、作成してください。さらに、そのVIEWに対して、クラスごとの平均moneyを求めてください。"
      ]
    },
    {
      "cell_type": "code",
      "execution_count": 109,
      "metadata": {
        "id": "tKxVM-1fwuvK",
        "colab": {
          "base_uri": "https://localhost:8080/",
          "height": 58
        },
        "outputId": "5ef2c0de-b702-44e7-97a2-b354c0d68504"
      },
      "outputs": [
        {
          "output_type": "display_data",
          "data": {
            "text/plain": [
              "Running query in 'duckdb://'"
            ],
            "text/html": [
              "<span style=\"None\">Running query in &#x27;duckdb://&#x27;</span>"
            ]
          },
          "metadata": {}
        },
        {
          "output_type": "execute_result",
          "data": {
            "text/plain": [
              "+-------+\n",
              "| Count |\n",
              "+-------+\n",
              "+-------+"
            ],
            "text/html": [
              "<table>\n",
              "    <thead>\n",
              "        <tr>\n",
              "            <th>Count</th>\n",
              "        </tr>\n",
              "    </thead>\n",
              "    <tbody>\n",
              "    </tbody>\n",
              "</table>"
            ]
          },
          "metadata": {},
          "execution_count": 109
        }
      ],
      "source": [
        "#解答\n",
        "%%sql\n",
        "CREATE VIEW class_avg_tb\n",
        "    AS\n",
        "SELECT * FROM meibo a JOIN cardtb b on a.id=b.id;"
      ]
    },
    {
      "cell_type": "code",
      "execution_count": 111,
      "metadata": {
        "id": "tuxFke3ZwuvK",
        "colab": {
          "base_uri": "https://localhost:8080/",
          "height": 186
        },
        "outputId": "912faa71-8cc1-487f-b20f-acd8b0bb9af1"
      },
      "outputs": [
        {
          "output_type": "display_data",
          "data": {
            "text/plain": [
              "Running query in 'duckdb://'"
            ],
            "text/html": [
              "<span style=\"None\">Running query in &#x27;duckdb://&#x27;</span>"
            ]
          },
          "metadata": {}
        },
        {
          "output_type": "execute_result",
          "data": {
            "text/plain": [
              "+----+--------+-------+-----+--------+------+-------+-------+\n",
              "| id |  name  | class | age | height | id_1 | point | money |\n",
              "+----+--------+-------+-----+--------+------+-------+-------+\n",
              "| 1  | Yamada |   1   |  14 |  150   |  1   |  100  |  1000 |\n",
              "| 3  | Suzuki |   1   |  13 |  150   |  3   |   50  |  500  |\n",
              "| 4  |  Kato  |   2   |  15 |  150   |  4   |   30  |  600  |\n",
              "| 5  |  Ito   |   3   |  12 |  155   |  5   |   10  |   10  |\n",
              "| 7  | Kimura |   3   |  11 |  160   |  7   |  100  |  1000 |\n",
              "| 8  |  Sato  |   1   |  14 |  160   |  8   |  2000 |  100  |\n",
              "+----+--------+-------+-----+--------+------+-------+-------+"
            ],
            "text/html": [
              "<table>\n",
              "    <thead>\n",
              "        <tr>\n",
              "            <th>id</th>\n",
              "            <th>name</th>\n",
              "            <th>class</th>\n",
              "            <th>age</th>\n",
              "            <th>height</th>\n",
              "            <th>id_1</th>\n",
              "            <th>point</th>\n",
              "            <th>money</th>\n",
              "        </tr>\n",
              "    </thead>\n",
              "    <tbody>\n",
              "        <tr>\n",
              "            <td>1</td>\n",
              "            <td>Yamada</td>\n",
              "            <td>1</td>\n",
              "            <td>14</td>\n",
              "            <td>150</td>\n",
              "            <td>1</td>\n",
              "            <td>100</td>\n",
              "            <td>1000</td>\n",
              "        </tr>\n",
              "        <tr>\n",
              "            <td>3</td>\n",
              "            <td>Suzuki</td>\n",
              "            <td>1</td>\n",
              "            <td>13</td>\n",
              "            <td>150</td>\n",
              "            <td>3</td>\n",
              "            <td>50</td>\n",
              "            <td>500</td>\n",
              "        </tr>\n",
              "        <tr>\n",
              "            <td>4</td>\n",
              "            <td>Kato</td>\n",
              "            <td>2</td>\n",
              "            <td>15</td>\n",
              "            <td>150</td>\n",
              "            <td>4</td>\n",
              "            <td>30</td>\n",
              "            <td>600</td>\n",
              "        </tr>\n",
              "        <tr>\n",
              "            <td>5</td>\n",
              "            <td>Ito</td>\n",
              "            <td>3</td>\n",
              "            <td>12</td>\n",
              "            <td>155</td>\n",
              "            <td>5</td>\n",
              "            <td>10</td>\n",
              "            <td>10</td>\n",
              "        </tr>\n",
              "        <tr>\n",
              "            <td>7</td>\n",
              "            <td>Kimura</td>\n",
              "            <td>3</td>\n",
              "            <td>11</td>\n",
              "            <td>160</td>\n",
              "            <td>7</td>\n",
              "            <td>100</td>\n",
              "            <td>1000</td>\n",
              "        </tr>\n",
              "        <tr>\n",
              "            <td>8</td>\n",
              "            <td>Sato</td>\n",
              "            <td>1</td>\n",
              "            <td>14</td>\n",
              "            <td>160</td>\n",
              "            <td>8</td>\n",
              "            <td>2000</td>\n",
              "            <td>100</td>\n",
              "        </tr>\n",
              "    </tbody>\n",
              "</table>"
            ]
          },
          "metadata": {},
          "execution_count": 111
        }
      ],
      "source": [
        "#解答\n",
        "%%sql\n",
        "SELECT * FROM class_avg_tb;"
      ]
    },
    {
      "cell_type": "code",
      "execution_count": 112,
      "metadata": {
        "id": "hnilxPytwuvK",
        "colab": {
          "base_uri": "https://localhost:8080/",
          "height": 122
        },
        "outputId": "cc7b21d8-d565-4bd7-b5b0-53d97a419b58"
      },
      "outputs": [
        {
          "output_type": "display_data",
          "data": {
            "text/plain": [
              "Running query in 'duckdb://'"
            ],
            "text/html": [
              "<span style=\"None\">Running query in &#x27;duckdb://&#x27;</span>"
            ]
          },
          "metadata": {}
        },
        {
          "output_type": "execute_result",
          "data": {
            "text/plain": [
              "+-------+-------------------+\n",
              "| class |     avg(money)    |\n",
              "+-------+-------------------+\n",
              "|   1   | 533.3333333333334 |\n",
              "|   2   |       600.0       |\n",
              "|   3   |       505.0       |\n",
              "+-------+-------------------+"
            ],
            "text/html": [
              "<table>\n",
              "    <thead>\n",
              "        <tr>\n",
              "            <th>class</th>\n",
              "            <th>avg(money)</th>\n",
              "        </tr>\n",
              "    </thead>\n",
              "    <tbody>\n",
              "        <tr>\n",
              "            <td>1</td>\n",
              "            <td>533.3333333333334</td>\n",
              "        </tr>\n",
              "        <tr>\n",
              "            <td>2</td>\n",
              "            <td>600.0</td>\n",
              "        </tr>\n",
              "        <tr>\n",
              "            <td>3</td>\n",
              "            <td>505.0</td>\n",
              "        </tr>\n",
              "    </tbody>\n",
              "</table>"
            ]
          },
          "metadata": {},
          "execution_count": 112
        }
      ],
      "source": [
        "#解答\n",
        "%%sql\n",
        "SELECT class, AVG(money) FROM class_avg_tb\n",
        "GROUP BY class;"
      ]
    },
    {
      "cell_type": "markdown",
      "metadata": {
        "id": "fe-2jumZwuvK"
      },
      "source": [
        "(2) (1)で作成したVIEWテーブルに対して、moneyが100未満の人のグループをx、100以上で1000未満のグループをy、1000以上のグループをzとして、それぞれのグループの平均pointを求めてください。"
      ]
    },
    {
      "cell_type": "code",
      "execution_count": 113,
      "metadata": {
        "id": "TK3k3zxSwuvK",
        "colab": {
          "base_uri": "https://localhost:8080/",
          "height": 122
        },
        "outputId": "331430b4-8bd1-4709-d19c-cba33b3a946d"
      },
      "outputs": [
        {
          "output_type": "display_data",
          "data": {
            "text/plain": [
              "Running query in 'duckdb://'"
            ],
            "text/html": [
              "<span style=\"None\">Running query in &#x27;duckdb://&#x27;</span>"
            ]
          },
          "metadata": {}
        },
        {
          "output_type": "execute_result",
          "data": {
            "text/plain": [
              "+------------+-------------------+\n",
              "| moneyClass |     avg_point     |\n",
              "+------------+-------------------+\n",
              "|     x      |        10.0       |\n",
              "|     z      |       100.0       |\n",
              "|     y      | 693.3333333333334 |\n",
              "+------------+-------------------+"
            ],
            "text/html": [
              "<table>\n",
              "    <thead>\n",
              "        <tr>\n",
              "            <th>moneyClass</th>\n",
              "            <th>avg_point</th>\n",
              "        </tr>\n",
              "    </thead>\n",
              "    <tbody>\n",
              "        <tr>\n",
              "            <td>x</td>\n",
              "            <td>10.0</td>\n",
              "        </tr>\n",
              "        <tr>\n",
              "            <td>z</td>\n",
              "            <td>100.0</td>\n",
              "        </tr>\n",
              "        <tr>\n",
              "            <td>y</td>\n",
              "            <td>693.3333333333334</td>\n",
              "        </tr>\n",
              "    </tbody>\n",
              "</table>"
            ]
          },
          "metadata": {},
          "execution_count": 113
        }
      ],
      "source": [
        "#解答\n",
        "%%sql\n",
        "SELECT moneyClass, AVG(point) AS avg_point\n",
        "FROM\n",
        "(\n",
        "    SELECT\n",
        "        CASE\n",
        "            WHEN money<100 THEN 'x'\n",
        "            WHEN money>=100 and money<1000 THEN 'y'\n",
        "            WHEN money>=1000 THEN 'z'\n",
        "        END AS moneyClass\n",
        "        ,point\n",
        "    FROM class_avg_tb\n",
        " )\n",
        "GROUP BY\n",
        "    moneyClass\n",
        "ORDER BY\n",
        "    avg_point;"
      ]
    }
  ],
  "metadata": {
    "anaconda-cloud": {},
    "colab": {
      "provenance": []
    },
    "kernelspec": {
      "display_name": "xsql",
      "language": "sqlite",
      "name": "xsql"
    },
    "language_info": {
      "codemirror_mode": "sql",
      "file_extension": "",
      "mimetype": "",
      "name": "mysql",
      "version": "0.2.1"
    }
  },
  "nbformat": 4,
  "nbformat_minor": 0
}