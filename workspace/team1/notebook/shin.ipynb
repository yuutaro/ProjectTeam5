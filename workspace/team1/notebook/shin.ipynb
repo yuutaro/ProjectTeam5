{
 "cells": [
  {
   "cell_type": "markdown",
   "metadata": {},
   "source": [
    "sfsdfsdおれ"
   ]
  },
  {
   "cell_type": "code",
   "execution_count": null,
   "metadata": {
    "vscode": {
     "languageId": "plaintext"
    }
   },
   "outputs": [],
   "source": [
    "!pip install pandas"
   ]
  },
  {
   "cell_type": "code",
   "execution_count": null,
   "metadata": {
    "vscode": {
     "languageId": "plaintext"
    }
   },
   "outputs": [],
   "source": [
    "import pandas as pd\n",
    "\n",
    "# データAとデータBのCSVファイルのパス\n",
    "data_a_path = 'C:/Users/qin32/Desktop/keiba/combined.csv'  # データAのCSVファイルパス\n",
    "data_b_path = 'C:/Users/qin32/Desktop/keiba/race_data_1_6000/merged_sorted_by_x.csv'  # データBのCSVファイルパス\n",
    "\n",
    "# CSVファイルからデータを読み込む\n",
    "data_a = pd.read_csv(data_a_path)\n",
    "data_b = pd.read_csv(data_b_path)\n",
    "\n",
    "# Code列でデータを結合 (data_bにdata_aの情報を追加)\n",
    "merged_data = pd.merge(data_b, data_a, on='Code', how='left')\n",
    "# 不要なデータを除去\n",
    "merged_data=merged_data.dropna()\n",
    "merged_data = merged_data.drop(columns=['first_horses'])\n",
    "merged_data = merged_data.drop(columns=['second_horses'])\n",
    "merged_data = merged_data.drop(columns=['third_horses'])\n",
    "merged_data = merged_data.drop(columns=['Time_y'])\n",
    "merged_data = merged_data.drop(columns=['Jockey_y'])\n",
    "merged_data = merged_data.drop(columns=['Trainer_y'])\n",
    "# 結果の確認\n",
    "# print(merged_data)\n",
    "merged_data.to_csv('merged_data_final.csv', index=False)"
   ]
  }
 ],
 "metadata": {
  "language_info": {
   "name": "python"
  }
 },
 "nbformat": 4,
 "nbformat_minor": 2
}
