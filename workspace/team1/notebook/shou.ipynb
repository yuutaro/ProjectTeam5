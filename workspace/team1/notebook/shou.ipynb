{
 "cells": [
  {
   "cell_type": "markdown",
   "metadata": {},
   "source": [
    "一旦仮で作ったところまで"
   ]
  },
  {
   "cell_type": "markdown",
   "metadata": {},
   "source": []
  },
  {
   "cell_type": "code",
   "execution_count": null,
   "metadata": {
    "vscode": {
     "languageId": "plaintext"
    }
   },
   "outputs": [],
   "source": [
    "import pandas as pd\n",
    "\n",
    "# データをCSVファイルから読み込みます\n",
    "df = pd.read_csv('your_data.csv')  # 'your_data.csv' は実際のファイル名に置き換えてください\n",
    "\n",
    "\n",
    "# 列を並べ替えます（ここでは例として並べ替えますが、必要な順序に変更してください）\n",
    "df = df[['Code', 'Rank', 'Frame Rank', 'Horse Name', 'Sex/Age', 'Kinryou', \n",
    "         'Jockey', 'Time', 'Chakusa', 'Tsuuka', 'Nobori', 'Horse Weight', 'Trainer', 'Banushi']]\n",
    "\n",
    "# 整形後のデータを表示またはCSVに保存します\n",
    "print(df.head())  # 確認用\n",
    "df.to_csv('formatted_data.csv', index=False)  # 整形したデータを新しいCSVとして保存\n"
   ]
  },
  {
   "cell_type": "markdown",
   "metadata": {},
   "source": [
    "test"
   ]
  }
 ],
 "metadata": {
  "language_info": {
   "name": "python"
  }
 },
 "nbformat": 4,
 "nbformat_minor": 2
}
