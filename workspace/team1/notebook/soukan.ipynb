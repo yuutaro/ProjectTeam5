{
 "cells": [
  {
   "cell_type": "code",
   "execution_count": null,
   "metadata": {},
   "outputs": [],
   "source": [
    "import pandas as pd\n",
    "\n",
    "# CSVデータの読み込み\n",
    "data = pd.read_csv(\"original_data/merged_data.csv\")\n",
    "\n",
    "# DataFrameの作成\n",
    "df = pd.DataFrame(data)"
   ]
  },
  {
   "cell_type": "code",
   "execution_count": null,
   "metadata": {},
   "outputs": [],
   "source": [
    "# Horse Weightを変形\n",
    "df[['Weight', 'Weight Change']] = df['Horse Weight'].str.extract(r'(\\d+)\\s*\\(\\s*([+-]?\\d+)\\s*\\)')\n",
    "df['Weight'] = df['Weight'].fillna(0)\n",
    "df['Weight'] = df['Weight'].astype(int)\n",
    "df['Weight Change'] = df['Weight Change'].fillna(0)\n",
    "df['Weight Change'] = df['Weight Change'].astype(int)\n",
    "df.drop(columns=['Horse Weight'], inplace=True)"
   ]
  },
  {
   "cell_type": "code",
   "execution_count": null,
   "metadata": {},
   "outputs": [],
   "source": [
    "# 「Sex/Age」列を「Sex」と「Age」に分ける\n",
    "df['Sex'] = df['Sex/Age'].str[0].map({'牡': 0, '牝': 1, 'セ' : 0}).astype('Int64')  \n",
    "df['Age'] = pd.to_numeric(df['Sex/Age'].str[1:], errors='coerce').astype('Int64') # errors='coerce'でエラーをNaNに変換\n",
    "df.drop(columns=['Sex/Age'], inplace=True)"
   ]
  },
  {
   "cell_type": "code",
   "execution_count": null,
   "metadata": {},
   "outputs": [],
   "source": [
    "def convert_to_second(time_str):\n",
    "    # time_strが文字列の場合にのみ処理\n",
    "    if isinstance(time_str, str):\n",
    "        try:\n",
    "            # \"分:秒\" の形式で分と秒を分解して、秒に変換\n",
    "            minutes, seconds = map(float, time_str.split(':'))\n",
    "            return minutes * 60 + seconds\n",
    "        except ValueError:\n",
    "            # 時間のフォーマットが間違っている場合はNoneを返すか、0秒などを返す\n",
    "            return 0\n",
    "    # 文字列でない場合（NaNなど）はそのまま返す\n",
    "    return time_str  \n",
    "df['Time_x'] = df['Time_x'].apply(convert_to_second)"
   ]
  },
  {
   "cell_type": "code",
   "execution_count": null,
   "metadata": {},
   "outputs": [],
   "source": [
    "# Distanceを分離\n",
    "df['Ground'] = df['Distance'].str[0]\n",
    "df['Distance'] = df['Distance'].str[1:]\n",
    "\n",
    "# Ground, Condition, Weatherをダミー変数に変換\n",
    "dummy = pd.get_dummies(df[['Ground', 'Condition', 'Weather']])\n",
    "\n",
    "# データフレームを結合し、要らないデータを破棄\n",
    "df = pd.concat([df, dummy], axis=1)\n",
    "df.drop(columns=['Ground', 'Condition', 'Weather'], inplace=True)\n",
    "df\n",
    "\n",
    "# first_chars = df['Condition'].dropna().apply(lambda x: str(x)[0])  # NaNを除外し、先頭文字を取得\n",
    "# unique_first_chars = first_chars.unique()  # ユニークな文字を取得\n",
    "\n",
    "# # 結果を表示\n",
    "# print(\"0インデックス目のユニークな文字:\", list(unique_first_chars))"
   ]
  },
  {
   "cell_type": "code",
   "execution_count": null,
   "metadata": {},
   "outputs": [],
   "source": [
    "# Rankにある\"(降)\"を除去\n",
    "df['Rank'] = df['Rank'].astype(str).str.replace(r'[()降]', '', regex = True)\n",
    "df['Rank'] = df['Rank'].astype(int)\n",
    "\n",
    "df['Distance'] = df['Distance'].astype(float)"
   ]
  },
  {
   "cell_type": "code",
   "execution_count": null,
   "metadata": {},
   "outputs": [],
   "source": [
    "df1 = df[[\"Rank\",\"Kinryou\",\"Time_x\",\"Nobori\",\"Tansyou\",\"Ninki\",\"Shoukin\",\"Race Number\",\"Distance\",\"Weight\",\"Weight Change\",\"Sex\",\"Age\"]]\n",
    "print('データ型の確認（型変換前）\\n{}'.format(df1.dtypes))"
   ]
  },
  {
   "cell_type": "code",
   "execution_count": null,
   "metadata": {},
   "outputs": [],
   "source": [
    "df.to_csv('format_data.csv', index=False)"
   ]
  }
 ],
 "metadata": {
  "language_info": {
   "name": "python"
  }
 },
 "nbformat": 4,
 "nbformat_minor": 2
}
