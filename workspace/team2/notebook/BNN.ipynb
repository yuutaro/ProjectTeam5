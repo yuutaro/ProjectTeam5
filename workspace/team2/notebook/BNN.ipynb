{
 "cells": [
  {
   "cell_type": "code",
   "execution_count": 1,
   "metadata": {},
   "outputs": [],
   "source": [
    "# from sklearn.model_selection import train_test_split\n",
    "# from sklearn.preprocessing import StandardScaler\n",
    "# import tensorflow_probability as tfp\n",
    "# from tensorflow.python.keras.models import Sequential\n",
    "# from tensorflow.python.keras.layers import Dense\n",
    "# from tensorflow.python.keras import optimizers\n",
    "# import pandas as pd\n",
    "\n",
    "# # データの読み込み\n",
    "# path = \"../data/format_data.csv\"\n",
    "# data = pd.read_csv(path)\n",
    "\n",
    "# # 特徴量とターゲット\n",
    "# features = [\n",
    "#     \"Rank\",\"Kinryou\",\"Nobori\",\"Ninki\",\n",
    "#     \"Race Number\",\"Distance\",\"Weight\",\"Weight Change\",\n",
    "#     \"Sex\",\"Age\",\"Ground_ダ\",\"Ground_芝\",\"Ground_障\",\"Condition_不\",\n",
    "#     \"Condition_稍\",\"Condition_良\",\"Condition_重\",\"Weather_小雨\",\"Weather_小雪\",\n",
    "#     \"Weather_晴\",\"Weather_曇\",\"Weather_雨\",\"Weather_雪\"\n",
    "# ]\n",
    "# target = \"Time_x\"\n",
    "# X = data[features]\n",
    "# y = data[target]\n",
    "\n",
    "# # データの標準化\n",
    "# scaler = StandardScaler()\n",
    "# X = scaler.fit_transform(X)\n",
    "\n",
    "# # データの分割\n",
    "# X_train, X_test, y_train, y_test = train_test_split(X, y, test_size=0.3, random_state=0)\n",
    "# # データの形状に合わせた入力\n",
    "# input_dim = X_train.shape[1]  # 特徴数に基づく\n",
    "\n",
    "# # BNNのモデル定義\n",
    "# tfpl = tfp.layers  # tensorflow_probabilityのレイヤーを使用\n",
    "\n",
    "# model = Sequential([\n",
    "#     Dense(64, activation='relu', input_shape=(X_train.shape[1],)),\n",
    "#     Dense(32, activation='relu'),\n",
    "#     Dense(1)  # 出力は1次元（レースタイム）\n",
    "# ])\n",
    "\n",
    "# # モデルのコンパイル\n",
    "# model.compile(optimizer=optimizers.RMSprop(lr=0.001), loss='mse', metrics=['mae'])\n",
    "\n",
    "# # モデルの訓練\n",
    "# model.fit(X_train, y_train, epochs=100, verbose=1)\n",
    "\n",
    "# history = model.fit(X_train, y_train, epochs=50, batch_size=32, validation_split=0.2, verbose=1)"
   ]
  },
  {
   "cell_type": "code",
   "execution_count": 2,
   "metadata": {},
   "outputs": [
    {
     "name": "stderr",
     "output_type": "stream",
     "text": [
      "2024-11-25 23:53:09.971039: I tensorflow/core/util/port.cc:153] oneDNN custom operations are on. You may see slightly different numerical results due to floating-point round-off errors from different computation orders. To turn them off, set the environment variable `TF_ENABLE_ONEDNN_OPTS=0`.\n",
      "2024-11-25 23:53:09.997376: I external/local_xla/xla/tsl/cuda/cudart_stub.cc:32] Could not find cuda drivers on your machine, GPU will not be used.\n",
      "2024-11-25 23:53:10.207134: I external/local_xla/xla/tsl/cuda/cudart_stub.cc:32] Could not find cuda drivers on your machine, GPU will not be used.\n",
      "2024-11-25 23:53:10.405597: E external/local_xla/xla/stream_executor/cuda/cuda_fft.cc:477] Unable to register cuFFT factory: Attempting to register factory for plugin cuFFT when one has already been registered\n",
      "WARNING: All log messages before absl::InitializeLog() is called are written to STDERR\n",
      "E0000 00:00:1732546390.600195   27033 cuda_dnn.cc:8310] Unable to register cuDNN factory: Attempting to register factory for plugin cuDNN when one has already been registered\n",
      "E0000 00:00:1732546390.653442   27033 cuda_blas.cc:1418] Unable to register cuBLAS factory: Attempting to register factory for plugin cuBLAS when one has already been registered\n",
      "2024-11-25 23:53:11.069585: I tensorflow/core/platform/cpu_feature_guard.cc:210] This TensorFlow binary is optimized to use available CPU instructions in performance-critical operations.\n",
      "To enable the following instructions: AVX2 AVX512F AVX512_VNNI FMA, in other operations, rebuild TensorFlow with the appropriate compiler flags.\n"
     ]
    }
   ],
   "source": [
    "import keras\n",
    "from keras import layers\n",
    "from keras import ops"
   ]
  },
  {
   "cell_type": "code",
   "execution_count": 19,
   "metadata": {},
   "outputs": [
    {
     "data": {
      "text/plain": [
       "(<tf.Tensor: shape=(3, 3), dtype=float32, numpy=\n",
       " array([[1., 1., 1.],\n",
       "        [1., 1., 1.],\n",
       "        [1., 1., 1.]], dtype=float32)>,\n",
       " <tf.Tensor: shape=(3, 4), dtype=float32, numpy=\n",
       " array([[-0.610035  ,  0.43316403, -0.25271648, -0.6282019 ],\n",
       "        [-0.610035  ,  0.43316403, -0.25271648, -0.6282019 ],\n",
       "        [-0.610035  ,  0.43316403, -0.25271648, -0.6282019 ]],\n",
       "       dtype=float32)>)"
      ]
     },
     "execution_count": 19,
     "metadata": {},
     "output_type": "execute_result"
    }
   ],
   "source": [
    "model = keras.Sequential(\n",
    "    [\n",
    "        layers.Dense(2, activation=\"relu\", name=\"layer1\"),\n",
    "        layers.Dense(3, activation=\"relu\", name=\"layer2\"),\n",
    "        layers.Dense(4, name=\"layer3\"),\n",
    "    ]\n",
    ")\n",
    "\n",
    "x = ops.ones((3, 3))\n",
    "y = model(x)\n",
    "(x,y)"
   ]
  },
  {
   "cell_type": "code",
   "execution_count": 41,
   "metadata": {},
   "outputs": [
    {
     "data": {
      "text/plain": [
       "(<tf.Tensor: shape=(3, 3), dtype=float32, numpy=\n",
       " array([[1., 1., 1.],\n",
       "        [1., 1., 1.],\n",
       "        [1., 1., 1.]], dtype=float32)>,\n",
       " <tf.Tensor: shape=(3, 4), dtype=float32, numpy=\n",
       " array([[-0.24193572,  0.18014081, -0.16411881, -0.18980053],\n",
       "        [-0.24193572,  0.18014081, -0.16411881, -0.18980053],\n",
       "        [-0.24193572,  0.18014081, -0.16411881, -0.18980053]],\n",
       "       dtype=float32)>)"
      ]
     },
     "execution_count": 41,
     "metadata": {},
     "output_type": "execute_result"
    }
   ],
   "source": [
    "layer1 = layers.Dense(2, activation=\"relu\", name=\"layer1\")\n",
    "layer2 = layers.Dense(3, activation=\"relu\", name=\"layer2\")\n",
    "layer3 = layers.Dense(4, name=\"layer3\")\n",
    "\n",
    "x = ops.ones((3,3))\n",
    "y = layer3(layer2(layer1(x)))\n",
    "(x,y)"
   ]
  }
 ],
 "metadata": {
  "kernelspec": {
   "display_name": "jupyter-kernel",
   "language": "python",
   "name": "jupyter-kernel"
  },
  "language_info": {
   "codemirror_mode": {
    "name": "ipython",
    "version": 3
   },
   "file_extension": ".py",
   "mimetype": "text/x-python",
   "name": "python",
   "nbconvert_exporter": "python",
   "pygments_lexer": "ipython3",
   "version": "3.10.12"
  }
 },
 "nbformat": 4,
 "nbformat_minor": 2
}
