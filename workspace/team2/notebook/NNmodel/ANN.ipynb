{
 "cells": [
  {
   "cell_type": "code",
   "execution_count": null,
   "metadata": {},
   "outputs": [],
   "source": [
    "#%%\n",
    "import keras\n",
    "import os\n",
    "os.environ[\"KERAS_BACKEND\"] = \"tensorflow\"\n",
    "\n",
    "import tensorflow as tf\n",
    "import pandas as pd\n",
    "import keras \n",
    "from keras import layers\n",
    "\n",
    "from sklearn.model_selection import train_test_split \n",
    "\n",
    "# データの読み込み\n",
    "path = \"format_data.csv\"\n",
    "data = pd.read_csv(path)\n",
    "\n",
    "# # 特徴量とターゲット\n",
    "features = [\n",
    "    \"Rank\",\"Kinryou\",\"Distance\",\"Weight\",\"Weight Change\",\n",
    "    \"Sex\",\"Age\",\"Ground_ダ\",\"Ground_芝\",\"Ground_障\",\"Condition_不\",\n",
    "    \"Condition_稍\",\"Condition_良\",\"Condition_重\",\"Weather_小雨\",\"Weather_小雪\",\n",
    "    \"Weather_晴\",\"Weather_曇\",\"Weather_雨\",\"Weather_雪\"\n",
    "]\n",
    "target = \"Time_x\"\n",
    "X = data[features]\n",
    "y = data[target]\n",
    "\n",
    "# # データの標準化\n",
    "# scaler = StandardScaler()\n",
    "# X = scaler.fit_transform(X)\n",
    "\n",
    "# データの分割\n",
    "X_train, X_test, y_train, y_test = train_test_split(X, y, test_size=0.3, random_state=0)\n",
    "\n",
    "model = keras.Sequential([\n",
    "    layers.Dense(64, activation='relu', input_shape=(X_train.shape[1],)),\n",
    "    layers.Dense(32, activation='relu'),\n",
    "    layers.Dense(1)  # 出力は1次元（レースタイム）\n",
    "])\n",
    "\n",
    "# モデルのコンパイル\n",
    "model.compile(optimizer=keras.optimizers.Adam(learning_rate=0.01), loss='mse', metrics=['mae'])\n",
    "\n",
    "# モデルの訓練\n",
    "model.fit(X_train, y_train, epochs=100, verbose=1)\n",
    "\n",
    "history = model.fit(X_train, y_train, epochs=50, batch_size=32, validation_split=0.2, verbose=1)\n",
    "model.export('NN_model')"
   ]
  }
 ],
 "metadata": {
  "kernelspec": {
   "display_name": "Python 3",
   "language": "python",
   "name": "python3"
  },
  "language_info": {
   "name": "python",
   "version": "3.11.1"
  }
 },
 "nbformat": 4,
 "nbformat_minor": 2
}
