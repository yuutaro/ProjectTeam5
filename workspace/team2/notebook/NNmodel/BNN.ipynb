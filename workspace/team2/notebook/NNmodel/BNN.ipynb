{
 "cells": [
  {
   "cell_type": "code",
   "execution_count": 1,
   "metadata": {},
   "outputs": [
    {
     "name": "stderr",
     "output_type": "stream",
     "text": [
      "2024-12-01 17:39:47.017763: I tensorflow/core/util/port.cc:153] oneDNN custom operations are on. You may see slightly different numerical results due to floating-point round-off errors from different computation orders. To turn them off, set the environment variable `TF_ENABLE_ONEDNN_OPTS=0`.\n",
      "2024-12-01 17:39:47.515863: E external/local_xla/xla/stream_executor/cuda/cuda_fft.cc:477] Unable to register cuFFT factory: Attempting to register factory for plugin cuFFT when one has already been registered\n",
      "WARNING: All log messages before absl::InitializeLog() is called are written to STDERR\n",
      "E0000 00:00:1733042387.707237     884 cuda_dnn.cc:8310] Unable to register cuDNN factory: Attempting to register factory for plugin cuDNN when one has already been registered\n",
      "E0000 00:00:1733042387.756867     884 cuda_blas.cc:1418] Unable to register cuBLAS factory: Attempting to register factory for plugin cuBLAS when one has already been registered\n",
      "2024-12-01 17:39:48.209975: I tensorflow/core/platform/cpu_feature_guard.cc:210] This TensorFlow binary is optimized to use available CPU instructions in performance-critical operations.\n",
      "To enable the following instructions: AVX2 AVX512F AVX512_VNNI FMA, in other operations, rebuild TensorFlow with the appropriate compiler flags.\n"
     ]
    }
   ],
   "source": [
    "import keras\n",
    "import os\n",
    "os.environ[\"KERAS_BACKEND\"] = \"tensorflow\"\n",
    "\n",
    "import tensorflow as tf\n",
    "import tensorflow_probability as tfp\n",
    "import pandas as pd\n",
    "import keras \n",
    "from keras import layers\n",
    "import numpy as np\n",
    "\n",
    "from sklearn.model_selection import train_test_split "
   ]
  },
  {
   "cell_type": "code",
   "execution_count": 2,
   "metadata": {},
   "outputs": [
    {
     "name": "stderr",
     "output_type": "stream",
     "text": [
      "/tmp/ipykernel_884/2972046901.py:3: DtypeWarning: Columns (11) have mixed types. Specify dtype option on import or set low_memory=False.\n",
      "  data = pd.read_csv(path)\n"
     ]
    }
   ],
   "source": [
    "# データの読み込み\n",
    "path = \"../data/format_data.csv\"\n",
    "data = pd.read_csv(path)\n",
    "\n",
    "# # 特徴量とターゲット\n",
    "features = [\n",
    "    \"Rank\",\"Kinryou\",\"Distance\",\"Weight\",\"Weight Change\",\n",
    "    \"Sex\",\"Age\",\"Ground_ダ\",\"Ground_芝\",\"Ground_障\",\"Condition_不\",\n",
    "    \"Condition_稍\",\"Condition_良\",\"Condition_重\",\"Weather_小雨\",\"Weather_小雪\",\n",
    "    \"Weather_晴\",\"Weather_曇\",\"Weather_雨\",\"Weather_雪\"\n",
    "]\n",
    "target = \"Time_x\"\n",
    "X = data[features]\n",
    "y = data[target]\n",
    "\n",
    "# # データの標準化\n",
    "# scaler = StandardScaler()\n",
    "# X = scaler.fit_transform(X)\n",
    "\n",
    "# データの分割\n",
    "X_train, X_test, y_train, y_test = train_test_split(X, y, test_size=0.3, random_state=0)\n",
    "# データの形状に合わせた入力\n",
    "input_dim = X_train.shape[1]  # 特徴数に基づく"
   ]
  },
  {
   "cell_type": "code",
   "execution_count": 3,
   "metadata": {},
   "outputs": [],
   "source": [
    "# from numpy import dtype\n",
    "# import tensorflow as tf\n",
    "# import tensorflow_probability as tfp\n",
    "# from tensorflow.keras.models import Model \n",
    "# from tensorflow.keras.layers import Input\n",
    "# from tensorflow.keras.optimizers import Adam\n",
    "\n",
    "# # TensorFlow Probabilityのレイヤー\n",
    "# tfpl = tfp.layers\n",
    "\n",
    "# # example:DenseVariational\n",
    "# # inputs = tf.keras.Input(shape=(10,))\n",
    "# # d = tf.keras.layers.Dense(10)\n",
    "# # x = d(inputs)\n",
    "# # outputs = tf.keras.layers.Dense(1)(x)\n",
    "# # model = tf.keras.Model(inputs, outputs)\n",
    "# # # Weight regularization.\n",
    "# # model.add_loss(lambda: tf.reduce_mean(d.kernel))\n",
    "\n",
    "# tfp.layers.DenseVariational(\n",
    "#     units,\n",
    "#     make_posterior_fn,\n",
    "#     make_prior_fn,\n",
    "#     kl_weight=None,\n",
    "#     kl_use_exact=False,\n",
    "#     activation=None,\n",
    "#     use_bias=True,\n",
    "#     activity_regularizer=None,\n",
    "#     **kwargs\n",
    "# )\n",
    "\n",
    "\n",
    "# # 入力層\n",
    "# input_dim = 20\n",
    "# inputs = Input(shape=(input_dim,))\n",
    "# print(type(inputs))\n",
    "\n",
    "# # 隠れ層（DenseVariational）\n",
    "# hidden = tfpl.DenseVariational(\n",
    "#     units=16,\n",
    "#     make_prior_fn=tfpl.default_mean_field_normal_fn(), # 後分布：平均場正規分布\n",
    "#     make_posterior_fn=tfpl.default_mean_field_normal_fn(), # 前分布：平均場正規分布\n",
    "#     kl_weight=1 / X_train.shape[0], \n",
    "#     activation='relu'\n",
    "# )(inputs)\n",
    "\n",
    "# # 出力層（DenseVariational）\n",
    "# outputs = tfpl.DenseVariational(\n",
    "#     units=1,\n",
    "#     make_prior_fn=tfpl.default_mean_field_normal_fn(),\n",
    "#     make_posterior_fn=tfpl.default_mean_field_normal_fn(),\n",
    "#     kl_weight=1 / X_train.shape[0]\n",
    "# )\n",
    "\n",
    "# # モデルの作成\n",
    "# model = Model()\n",
    "\n",
    "# # コンパイル\n",
    "# model.compile(    optimizer=keras.optimizers.Adam(learning_rate=1e-3),\n",
    "#     loss=keras.losses.BinaryCrossentropy(),\n",
    "#     metrics=[\n",
    "#         keras.metrics.BinaryAccuracy(),\n",
    "#         keras.metrics.FalseNegatives(),\n",
    "#     ],\n",
    "# )\n",
    "\n",
    "# # モデルの訓練\n",
    "# model.fit(X_train, y_train, epochs=100, verbose=1, batch_size=32)\n"
   ]
  }
 ],
 "metadata": {
  "kernelspec": {
   "display_name": "Python 3",
   "language": "python",
   "name": "python3"
  },
  "language_info": {
   "codemirror_mode": {
    "name": "ipython",
    "version": 3
   },
   "file_extension": ".py",
   "mimetype": "text/x-python",
   "name": "python",
   "nbconvert_exporter": "python",
   "pygments_lexer": "ipython3",
   "version": "3.11.1"
  }
 },
 "nbformat": 4,
 "nbformat_minor": 2
}
