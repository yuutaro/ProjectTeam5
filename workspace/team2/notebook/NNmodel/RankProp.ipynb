{
 "cells": [
  {
   "cell_type": "code",
   "execution_count": null,
   "metadata": {},
   "outputs": [],
   "source": [
    "import pandas as pd \n",
    "import tensorflow as tf\n",
    "from sklearn.preprocessing import StandardScaler\n",
    "import keras\n",
    "\n",
    "import numpy as np\n",
    "\n",
    "def build_nn(input_dim, hidden_dim, output_dim, layer_num, activation, dropout_rate):\n",
    "    inputs = keras.Input(shape = (input_dim, ))\n",
    "\n",
    "    x = keras.layers.Dense(hidden_dim, activation = activation)(inputs)\n",
    "    for i in range(layer_num):\n",
    "        x = keras.layers.Dense(hidden_dim, activation = activation)(x)\n",
    "        x = keras.layers.Dropout(dropout_rate)(x)\n",
    "    \n",
    "    outputs = keras.layers.Dense(output_dim)(x)\n",
    "\n",
    "    return outputs"
   ]
  },
  {
   "cell_type": "code",
   "execution_count": null,
   "metadata": {},
   "outputs": [],
   "source": [
    "class RankNetGenerator(object):\n",
    "    def __init__(self, X, y, race_index_list, X_scaler= None, batch_size = 32):\n",
    "        self._X = X\n",
    "        self._y = y\n",
    "        self._race_index_list = race_index_list\n",
    "        self._X_scaler = X_scaler\n",
    "        self._batch_size = batch_size\n",
    "\n",
    "    def __iter__(self):\n",
    "        return self\n",
    "    \n",
    "    def __len__(self):\n",
    "        return len(self._X)\n",
    "    \n",
    "    def __next__(self):\n",
    "        race_indexes = np.random.randint(0, len(self._race_index_list), self._batch_size) # 0~len(race_index_list)の乱数をbatch_size回生成\n",
    "        race_indexes = [self._race_index_list[race_index].values for race_index in race_indexes] \n",
    "\n",
    "        horse_indexes = [race_index[np.random.choice(race_index.shape[0], 2, replace=False)] for race_index in race_indexes] # np.random.choiceはrace_index.shape[0]から2つランダムにとってくる、重複不可\n",
    "        horse_indexes = [(idx_1, idx_2) if self._y.loc[idx_1].values < self._y.loc[idx_2].values else (idx_2, idx_1) for idx_1, idx_2 in horse_indexes]\n",
    "\n",
    "        X = np.array([(self._X.loc[horse_index[0]], self._X.loc[horse_index[1]]) for horse_index in horse_indexes])\n",
    "        X = [self._X_scaler.transform(X[:, 0, :]), self._X_scaler.transform(X[:, 1, :])]\n",
    "\n",
    "        y = np.ones(self._batch_size)\n",
    "\n",
    "        return X, y    "
   ]
  },
  {
   "cell_type": "code",
   "execution_count": null,
   "metadata": {},
   "outputs": [],
   "source": [
    "def build_ranknet(input_dim, hidden_dim, output_dim, layer_num, activation, dropout_rate):\n",
    "    inputs_1 = keras.Input(shape=(input_dim,))\n",
    "    inputs_2 = keras.Input(shape=(input_dim,))\n",
    "\n",
    "    nn = build_nn(input_dim=input_dim,\n",
    "                  hidden_dim=hidden_dim,\n",
    "                  output_dim=output_dim,\n",
    "                  layer_num=layer_num,\n",
    "                  activation=activation,\n",
    "                  dropout_rate=dropout_rate)\n",
    "    \n",
    "    x1 = nn(inputs_1)\n",
    "    x2 = nn(inputs_2)\n",
    "\n",
    "    subtract = keras.layers.Subtract()([x1, x2])\n",
    "    outputs = keras.layers.Activation('sigmoid')(subtract)\n",
    "\n",
    "    return keras.Model(inputs=[inputs_1, inputs_2], outputs=outputs)"
   ]
  },
  {
   "cell_type": "code",
   "execution_count": null,
   "metadata": {},
   "outputs": [
    {
     "name": "stderr",
     "output_type": "stream",
     "text": [
      "2024-12-02 16:41:38.774075: I tensorflow/core/util/port.cc:153] oneDNN custom operations are on. You may see slightly different numerical results due to floating-point round-off errors from different computation orders. To turn them off, set the environment variable `TF_ENABLE_ONEDNN_OPTS=0`.\n",
      "2024-12-02 16:41:38.805769: I external/local_xla/xla/tsl/cuda/cudart_stub.cc:32] Could not find cuda drivers on your machine, GPU will not be used.\n",
      "2024-12-02 16:41:39.078162: I external/local_xla/xla/tsl/cuda/cudart_stub.cc:32] Could not find cuda drivers on your machine, GPU will not be used.\n",
      "2024-12-02 16:41:39.315621: E external/local_xla/xla/stream_executor/cuda/cuda_fft.cc:477] Unable to register cuFFT factory: Attempting to register factory for plugin cuFFT when one has already been registered\n",
      "WARNING: All log messages before absl::InitializeLog() is called are written to STDERR\n",
      "E0000 00:00:1733125299.496109   13227 cuda_dnn.cc:8310] Unable to register cuDNN factory: Attempting to register factory for plugin cuDNN when one has already been registered\n",
      "E0000 00:00:1733125299.549426   13227 cuda_blas.cc:1418] Unable to register cuBLAS factory: Attempting to register factory for plugin cuBLAS when one has already been registered\n",
      "2024-12-02 16:41:40.047483: I tensorflow/core/platform/cpu_feature_guard.cc:210] This TensorFlow binary is optimized to use available CPU instructions in performance-critical operations.\n",
      "To enable the following instructions: AVX2 AVX512F AVX512_VNNI FMA, in other operations, rebuild TensorFlow with the appropriate compiler flags.\n"
     ]
    }
   ],
   "source": [
    "from wsgiref.validate import validator\n",
    "\n",
    "\n",
    "input_dim = 284\n",
    "output_dim = 1\n",
    "hidden_dim = 128\n",
    "layer_num = 3\n",
    "activation = tf.nn.relu\n",
    "dropout_rate = 0.1\n",
    "epoch = 100\n",
    "train_steps = 1000\n",
    "valid_step = 100\n",
    "loss = \"binary_crossentropy\"\n",
    "optimizer = \"adam\"\n",
    "\n",
    "X_scaler = StandardScaler()\n",
    "_ = X_scaler.fit_transform(train_X.values)\n",
    "\n",
    "train_generator = RankNetGenerator(train_X, train_y, train_index_list, X_scaler=X_scaler, batch_size=batch_size)\n",
    "valid_generator = RankNetGenerator(valid_X, valid_y, valid_index_list, X_scaler=X_scaler, batch_size=batch_size)\n",
    "\n",
    "ranknet = build_ranknet(input_dim, hidden_dim, output_dim, layer_num, activation, dropout_rate)\n",
    "\n",
    "ranknet.compile(optimizer=optimizer, loss=loss)\n",
    "\n",
    "callbacks = [keras.callbacks.EarlyStopping(monitor='val_loss', patience=5)]\n",
    "\n",
    "self._history = ranknet.fit(train_generator,\n",
    "                            validation_data=valid_generator,\n",
    "                            epochs=epoch,\n",
    "                            batch_size=batch_size,\n",
    "                            callbacks=callbacks,\n",
    "                            steps_per_epoch=train_steps,\n",
    "                            validation_steps=valid_step)\n"
   ]
  }
 ],
 "metadata": {
  "kernelspec": {
   "display_name": "Python 3",
   "language": "python",
   "name": "python3"
  },
  "language_info": {
   "codemirror_mode": {
    "name": "ipython",
    "version": 3
   },
   "file_extension": ".py",
   "mimetype": "text/x-python",
   "name": "python",
   "nbconvert_exporter": "python",
   "pygments_lexer": "ipython3",
   "version": "3.11.1"
  }
 },
 "nbformat": 4,
 "nbformat_minor": 2
}
